{
 "cells": [
  {
   "cell_type": "code",
   "execution_count": 1,
   "id": "bc1cfd4d",
   "metadata": {},
   "outputs": [],
   "source": [
    "try:\n",
    "    from tensorflow.compat.v1 import ConfigProto\n",
    "    from tensorflow.compat.v1 import InteractiveSession\n",
    "\n",
    "    config = ConfigProto()\n",
    "    config.gpu_options.allow_growth = True\n",
    "    session = InteractiveSession(config=config)\n",
    "except Exception as e:\n",
    "    print(e)\n",
    "    print(\"Not possible to set gpu allow growth\")"
   ]
  },
  {
   "cell_type": "code",
   "execution_count": 9,
   "id": "503b98bc",
   "metadata": {},
   "outputs": [],
   "source": [
    "from Gaugi import load\n",
    "import numpy as np"
   ]
  },
  {
   "cell_type": "code",
   "execution_count": 7,
   "id": "ac9add0a",
   "metadata": {},
   "outputs": [],
   "source": [
    "def getPatterns( path, sort):\n",
    "\n",
    "    def norm1( data ):\n",
    "        norms = np.abs( data.sum(axis=1) )\n",
    "        norms[norms==0] = 1\n",
    "        return data/norms[:,None]\n",
    "    \n",
    "    d = load(path)\n",
    "    \n",
    "    data = norm1(d['data'][:,:])\n",
    "    \n",
    "    # ------------------------------------------------------- #\n",
    "    target = d['target']\n",
    "    target[target!=1]=-1\n",
    "    splits = [(train_index, val_index) for train_index, val_index in cv.split(data,target)]\n",
    "\n",
    "    x_train = data [ splits[sort][0]]\n",
    "    y_train = target [ splits[sort][0] ]\n",
    "    x_val = data [ splits[sort][1]]\n",
    "    y_val = target [ splits[sort][1] ]\n",
    "\n",
    "    return x_train, x_val, y_train, y_val, splits, [] #d['features']\n",
    "\n",
    "\n",
    "def getPileup( path ):\n",
    "    return load(path)['data'][:,0]\n",
    "\n",
    "\n",
    "def getJobConfigId( path ):\n",
    "    return dict(load(path))['id']"
   ]
  },
  {
   "cell_type": "code",
   "execution_count": 18,
   "id": "f1615818",
   "metadata": {},
   "outputs": [],
   "source": [
    "path = '/home/thiago/Repositories/Learning/Python/ringer-atlas-study/job_test2/job_config.ID_.ml0.mu0_sl0.su0_il0.iu0.27-Aug-2021-12.04.54.pic.gz'\n",
    "\n",
    "d = load(path)"
   ]
  }
 ],
 "metadata": {
  "kernelspec": {
   "display_name": "Python 3",
   "language": "python",
   "name": "python3"
  },
  "language_info": {
   "codemirror_mode": {
    "name": "ipython",
    "version": 3
   },
   "file_extension": ".py",
   "mimetype": "text/x-python",
   "name": "python",
   "nbconvert_exporter": "python",
   "pygments_lexer": "ipython3",
   "version": "3.8.8"
  }
 },
 "nbformat": 4,
 "nbformat_minor": 5
}
