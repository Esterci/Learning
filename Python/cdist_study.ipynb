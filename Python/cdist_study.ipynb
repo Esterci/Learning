{
 "cells": [
  {
   "cell_type": "code",
   "execution_count": 2,
   "id": "instructional-acting",
   "metadata": {},
   "outputs": [],
   "source": [
    "import numpy as np\n",
    "import math as m\n",
    "from scipy.spatial.distance import cdist\n",
    "from sklearn.datasets import make_blobs\n",
    "import scipy as sp\n",
    "from numba import njit"
   ]
  },
  {
   "cell_type": "code",
   "execution_count": 75,
   "id": "equipped-rendering",
   "metadata": {},
   "outputs": [],
   "source": [
    "@njit\n",
    "def hand_norm(A):\n",
    "    return m.sqrt(np.sum(A ** 2))\n",
    "\n",
    "@njit\n",
    "def hand_scalar_prod(A,B):\n",
    "    prod = np.zeros((len(A)))\n",
    "    k = 0\n",
    "    for a,b in (zip(A,B)):\n",
    "        prod[k]= a * b \n",
    "        k +=1\n",
    "        \n",
    "    return np.sum(prod)\n",
    "\n",
    "@njit\n",
    "def hand_dist(A,B, metric = 'euclidean'):\n",
    "    dist = np.zeros((len(A),(len(A))))\n",
    "    if metric == 'euclidean':\n",
    "        for i in range(len(A)):\n",
    "            for ii in range(len(B)):\n",
    "                dist[ii,i] = m.sqrt(np.sum((A[i,:] - B[ii,:]) ** 2))\n",
    "\n",
    "    if metric == 'cosine':\n",
    "        for i in range(len(A)):\n",
    "            for ii in range(len(B)):\n",
    "                dist[ii,i] = 1 - (hand_scalar_prod(A[i,:],B[ii,:])/(hand_norm(A[i,:])*hand_norm(B[ii,:])))\n",
    "            \n",
    "    if metric == 'mahalanobis':\n",
    "        concat = np.zeros((len(A)+len(B),len(A[0])))\n",
    "        concat[:len(A)] = A\n",
    "        concat[len(A):] = B        \n",
    "        VI = np.linalg.inv(np.cov(concat.T)).T\n",
    "        for i in range(len(A)):\n",
    "            for ii in range(len(B)):\n",
    "                dist[ii,i] = np.sqrt(np.dot(np.dot((A[i,:]-B[ii,:]),VI),(A[i,:]-B[ii,:]).T))\n",
    "            \n",
    "    return dist"
   ]
  },
  {
   "cell_type": "code",
   "execution_count": 76,
   "id": "rotary-wisdom",
   "metadata": {},
   "outputs": [],
   "source": [
    "centers = [(-5, -5), (0, 0), (5, 5)]\n",
    "data, _ = make_blobs(n_samples=10, centers=centers, shuffle=False,\n",
    "                  random_state=42)"
   ]
  },
  {
   "cell_type": "code",
   "execution_count": 77,
   "id": "racial-royalty",
   "metadata": {},
   "outputs": [
    {
     "data": {
      "text/plain": [
       "array([[-4.50328585, -5.1382643 ],\n",
       "       [-4.35231146, -3.47697014],\n",
       "       [-5.23415337, -5.23413696],\n",
       "       [-3.42078718, -4.23256527],\n",
       "       [-0.46947439,  0.54256004],\n",
       "       [-0.46341769, -0.46572975],\n",
       "       [ 0.24196227, -1.91328024],\n",
       "       [ 3.27508217,  4.43771247],\n",
       "       [ 3.98716888,  5.31424733],\n",
       "       [ 4.09197592,  3.5876963 ]])"
      ]
     },
     "execution_count": 77,
     "metadata": {},
     "output_type": "execute_result"
    }
   ],
   "source": [
    "data"
   ]
  },
  {
   "cell_type": "code",
   "execution_count": 78,
   "id": "concerned-tennis",
   "metadata": {},
   "outputs": [],
   "source": [
    "scipy = cdist(data, data, metric='euclidean')"
   ]
  },
  {
   "cell_type": "code",
   "execution_count": 80,
   "id": "affected-packing",
   "metadata": {
    "scrolled": true
   },
   "outputs": [],
   "source": [
    "thiago = hand_dist(data, data, metric='euclidean')"
   ]
  },
  {
   "cell_type": "code",
   "execution_count": 81,
   "id": "brief-marketing",
   "metadata": {},
   "outputs": [
    {
     "data": {
      "text/plain": [
       "array([[0., 0., 0., 0., 0., 0., 0., 0., 0., 0.],\n",
       "       [0., 0., 0., 0., 0., 0., 0., 0., 0., 0.],\n",
       "       [0., 0., 0., 0., 0., 0., 0., 0., 0., 0.],\n",
       "       [0., 0., 0., 0., 0., 0., 0., 0., 0., 0.],\n",
       "       [0., 0., 0., 0., 0., 0., 0., 0., 0., 0.],\n",
       "       [0., 0., 0., 0., 0., 0., 0., 0., 0., 0.],\n",
       "       [0., 0., 0., 0., 0., 0., 0., 0., 0., 0.],\n",
       "       [0., 0., 0., 0., 0., 0., 0., 0., 0., 0.],\n",
       "       [0., 0., 0., 0., 0., 0., 0., 0., 0., 0.],\n",
       "       [0., 0., 0., 0., 0., 0., 0., 0., 0., 0.]])"
      ]
     },
     "execution_count": 81,
     "metadata": {},
     "output_type": "execute_result"
    }
   ],
   "source": [
    "thiago - scipy"
   ]
  },
  {
   "cell_type": "code",
   "execution_count": 84,
   "id": "innovative-navigator",
   "metadata": {},
   "outputs": [],
   "source": [
    "scipy = cdist(data, data, metric='cosine')"
   ]
  },
  {
   "cell_type": "code",
   "execution_count": 85,
   "id": "human-annual",
   "metadata": {},
   "outputs": [],
   "source": [
    "thiago = hand_dist(data, data, metric='cosine')"
   ]
  },
  {
   "cell_type": "code",
   "execution_count": 86,
   "id": "given-rabbit",
   "metadata": {},
   "outputs": [
    {
     "data": {
      "text/plain": [
       "array([[-2.22044605e-16,  0.00000000e+00,  0.00000000e+00,\n",
       "         0.00000000e+00,  0.00000000e+00,  0.00000000e+00,\n",
       "         0.00000000e+00,  0.00000000e+00,  0.00000000e+00,\n",
       "         0.00000000e+00],\n",
       "       [ 0.00000000e+00,  0.00000000e+00,  0.00000000e+00,\n",
       "         0.00000000e+00,  0.00000000e+00,  0.00000000e+00,\n",
       "         0.00000000e+00,  0.00000000e+00,  0.00000000e+00,\n",
       "         0.00000000e+00],\n",
       "       [ 0.00000000e+00,  0.00000000e+00,  0.00000000e+00,\n",
       "         0.00000000e+00,  0.00000000e+00,  0.00000000e+00,\n",
       "         0.00000000e+00,  0.00000000e+00,  0.00000000e+00,\n",
       "         0.00000000e+00],\n",
       "       [ 0.00000000e+00,  0.00000000e+00,  0.00000000e+00,\n",
       "        -2.22044605e-16,  0.00000000e+00,  0.00000000e+00,\n",
       "         0.00000000e+00,  0.00000000e+00,  0.00000000e+00,\n",
       "         0.00000000e+00],\n",
       "       [ 0.00000000e+00,  0.00000000e+00,  0.00000000e+00,\n",
       "         0.00000000e+00,  0.00000000e+00,  0.00000000e+00,\n",
       "         0.00000000e+00,  0.00000000e+00,  0.00000000e+00,\n",
       "         0.00000000e+00],\n",
       "       [ 0.00000000e+00,  0.00000000e+00,  0.00000000e+00,\n",
       "         0.00000000e+00,  0.00000000e+00,  0.00000000e+00,\n",
       "         0.00000000e+00,  0.00000000e+00,  0.00000000e+00,\n",
       "         0.00000000e+00],\n",
       "       [ 0.00000000e+00,  0.00000000e+00,  0.00000000e+00,\n",
       "         0.00000000e+00,  0.00000000e+00,  0.00000000e+00,\n",
       "         0.00000000e+00,  0.00000000e+00,  0.00000000e+00,\n",
       "         0.00000000e+00],\n",
       "       [ 0.00000000e+00,  0.00000000e+00,  0.00000000e+00,\n",
       "         0.00000000e+00,  0.00000000e+00,  0.00000000e+00,\n",
       "         0.00000000e+00,  0.00000000e+00,  0.00000000e+00,\n",
       "         0.00000000e+00],\n",
       "       [ 0.00000000e+00,  0.00000000e+00,  0.00000000e+00,\n",
       "         0.00000000e+00,  0.00000000e+00,  0.00000000e+00,\n",
       "         0.00000000e+00,  0.00000000e+00,  0.00000000e+00,\n",
       "         0.00000000e+00],\n",
       "       [ 0.00000000e+00,  0.00000000e+00,  0.00000000e+00,\n",
       "         0.00000000e+00,  0.00000000e+00,  0.00000000e+00,\n",
       "         0.00000000e+00,  0.00000000e+00,  0.00000000e+00,\n",
       "        -2.22044605e-16]])"
      ]
     },
     "execution_count": 86,
     "metadata": {},
     "output_type": "execute_result"
    }
   ],
   "source": [
    "thiago - scipy"
   ]
  },
  {
   "cell_type": "code",
   "execution_count": 87,
   "id": "solar-difficulty",
   "metadata": {},
   "outputs": [],
   "source": [
    "scipy = cdist(data, data, metric='mahalanobis')"
   ]
  },
  {
   "cell_type": "code",
   "execution_count": 88,
   "id": "stylish-registrar",
   "metadata": {},
   "outputs": [],
   "source": [
    "thiago = hand_dist(data, data, metric='mahalanobis')"
   ]
  },
  {
   "cell_type": "code",
   "execution_count": 90,
   "id": "molecular-valuation",
   "metadata": {},
   "outputs": [
    {
     "data": {
      "text/plain": [
       "array([[ 0.00000000e+00,  3.55271368e-15,  1.55431223e-15,\n",
       "         3.33066907e-16,  2.44249065e-15, -1.33226763e-15,\n",
       "         2.66453526e-15, -2.66453526e-15, -3.55271368e-15,\n",
       "        -8.88178420e-16],\n",
       "       [ 3.55271368e-15,  0.00000000e+00,  1.99840144e-15,\n",
       "         3.77475828e-15, -1.33226763e-15,  1.33226763e-15,\n",
       "         6.66133815e-15, -1.33226763e-15,  1.33226763e-15,\n",
       "         4.44089210e-15],\n",
       "       [ 1.55431223e-15,  1.99840144e-15,  0.00000000e+00,\n",
       "         2.22044605e-15,  2.44249065e-15,  1.99840144e-15,\n",
       "         3.99680289e-15,  4.44089210e-16, -1.77635684e-15,\n",
       "         4.44089210e-16],\n",
       "       [ 3.33066907e-16,  3.77475828e-15,  2.22044605e-15,\n",
       "         0.00000000e+00,  3.99680289e-15,  1.11022302e-15,\n",
       "         3.33066907e-15,  2.22044605e-15,  8.88178420e-16,\n",
       "         1.33226763e-15],\n",
       "       [ 2.44249065e-15, -1.33226763e-15,  2.44249065e-15,\n",
       "         3.99680289e-15,  0.00000000e+00,  2.44249065e-15,\n",
       "         7.54951657e-15,  2.22044605e-16, -1.11022302e-15,\n",
       "         3.10862447e-15],\n",
       "       [-1.33226763e-15,  1.33226763e-15,  1.99840144e-15,\n",
       "         1.11022302e-15,  2.44249065e-15,  0.00000000e+00,\n",
       "         5.32907052e-15,  1.77635684e-15,  1.99840144e-15,\n",
       "         4.44089210e-16],\n",
       "       [ 2.66453526e-15,  6.66133815e-15,  3.99680289e-15,\n",
       "         3.33066907e-15,  7.54951657e-15,  5.32907052e-15,\n",
       "         0.00000000e+00,  6.66133815e-15,  7.10542736e-15,\n",
       "         1.77635684e-15],\n",
       "       [-2.66453526e-15, -1.33226763e-15,  4.44089210e-16,\n",
       "         2.22044605e-15,  2.22044605e-16,  1.77635684e-15,\n",
       "         6.66133815e-15,  0.00000000e+00, -2.77555756e-17,\n",
       "         3.99680289e-15],\n",
       "       [-3.55271368e-15,  1.33226763e-15, -1.77635684e-15,\n",
       "         8.88178420e-16, -1.11022302e-15,  1.99840144e-15,\n",
       "         7.10542736e-15, -2.77555756e-17,  0.00000000e+00,\n",
       "         4.21884749e-15],\n",
       "       [-8.88178420e-16,  4.44089210e-15,  4.44089210e-16,\n",
       "         1.33226763e-15,  3.10862447e-15,  4.44089210e-16,\n",
       "         1.77635684e-15,  3.99680289e-15,  4.21884749e-15,\n",
       "         0.00000000e+00]])"
      ]
     },
     "execution_count": 90,
     "metadata": {},
     "output_type": "execute_result"
    }
   ],
   "source": [
    "thiago - scipy"
   ]
  },
  {
   "cell_type": "code",
   "execution_count": null,
   "id": "fundamental-bikini",
   "metadata": {},
   "outputs": [],
   "source": []
  }
 ],
 "metadata": {
  "kernelspec": {
   "display_name": "Python 3",
   "language": "python",
   "name": "python3"
  },
  "language_info": {
   "codemirror_mode": {
    "name": "ipython",
    "version": 3
   },
   "file_extension": ".py",
   "mimetype": "text/x-python",
   "name": "python",
   "nbconvert_exporter": "python",
   "pygments_lexer": "ipython3",
   "version": "3.7.6"
  }
 },
 "nbformat": 4,
 "nbformat_minor": 5
}
