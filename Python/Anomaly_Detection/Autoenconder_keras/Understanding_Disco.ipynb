{
 "cells": [
  {
   "cell_type": "markdown",
   "id": "oriented-startup",
   "metadata": {},
   "source": [
    "# Implementation of Anomaly detection using Autoencoders\n",
    "Dataset used here is Credit Card Fraud Detection from Kaggle.\n",
    "\n",
    "### Import required libraries"
   ]
  },
  {
   "cell_type": "code",
   "execution_count": 3,
   "id": "earlier-conservative",
   "metadata": {
    "scrolled": true
   },
   "outputs": [
    {
     "name": "stdout",
     "output_type": "stream",
     "text": [
      "-------------------------------------------\n",
      "GPU available:  []\n",
      "Keras backend:  tensorflow\n",
      "-------------------------------------------\n"
     ]
    }
   ],
   "source": [
    "import pandas as pd\n",
    "import numpy as np\n",
    "import tensorflow as tf\n",
    "import matplotlib.pyplot as plt\n",
    "import seaborn as sns\n",
    "from sklearn.model_selection import train_test_split\n",
    "from sklearn.preprocessing import StandardScaler,normalize, MinMaxScaler\n",
    "from sklearn.metrics import confusion_matrix, recall_score, accuracy_score, precision_score\n",
    "from keras import backend as K\n",
    "print(\"-------------------------------------------\")\n",
    "print(\"GPU available: \", tf.config.list_physical_devices('GPU'))\n",
    "print(\"Keras backend: \", K.backend())\n",
    "print(\"-------------------------------------------\")\n",
    "\n",
    "# Load layers from keras\n",
    "from keras.layers import Dense, Input, Concatenate, Flatten, BatchNormalization, Dropout, LeakyReLU\n",
    "from keras.models import Sequential, Model\n",
    "from keras.losses import binary_crossentropy\n",
    "from Disco_tf import distance_corr\n",
    "from keras.optimizers import Adam\n",
    "from sklearn.metrics import roc_auc_score\n",
    "RANDOM_SEED = 2021 \n",
    "TEST_PCT = 0.3\n",
    "LABELS = [\"Normal\",\"Fraud\"]"
   ]
  },
  {
   "cell_type": "code",
   "execution_count": 4,
   "id": "constant-activation",
   "metadata": {},
   "outputs": [
    {
     "ename": "NameError",
     "evalue": "name 'input_dim' is not defined",
     "output_type": "error",
     "traceback": [
      "\u001b[0;31m---------------------------------------------------------------------------\u001b[0m",
      "\u001b[0;31mNameError\u001b[0m                                 Traceback (most recent call last)",
      "\u001b[0;32m<ipython-input-4-96f4bc210d66>\u001b[0m in \u001b[0;36m<module>\u001b[0;34m\u001b[0m\n\u001b[1;32m      1\u001b[0m \u001b[0;31m#input Layer\u001b[0m\u001b[0;34m\u001b[0m\u001b[0;34m\u001b[0m\u001b[0;34m\u001b[0m\u001b[0m\n\u001b[0;32m----> 2\u001b[0;31m \u001b[0minput_layer\u001b[0m \u001b[0;34m=\u001b[0m \u001b[0mtf\u001b[0m\u001b[0;34m.\u001b[0m\u001b[0mkeras\u001b[0m\u001b[0;34m.\u001b[0m\u001b[0mlayers\u001b[0m\u001b[0;34m.\u001b[0m\u001b[0mInput\u001b[0m\u001b[0;34m(\u001b[0m\u001b[0mshape\u001b[0m\u001b[0;34m=\u001b[0m\u001b[0;34m(\u001b[0m\u001b[0minput_dim\u001b[0m\u001b[0;34m,\u001b[0m \u001b[0;34m)\u001b[0m\u001b[0;34m)\u001b[0m\u001b[0;34m\u001b[0m\u001b[0;34m\u001b[0m\u001b[0m\n\u001b[0m\u001b[1;32m      3\u001b[0m \u001b[0;31m#Encoder\u001b[0m\u001b[0;34m\u001b[0m\u001b[0;34m\u001b[0m\u001b[0;34m\u001b[0m\u001b[0m\n\u001b[1;32m      4\u001b[0m encoder = tf.keras.layers.Dense(encoding_dim, activation=\"tanh\",                                \n\u001b[1;32m      5\u001b[0m activity_regularizer=tf.keras.regularizers.l2(learning_rate))(input_layer)\n",
      "\u001b[0;31mNameError\u001b[0m: name 'input_dim' is not defined"
     ]
    }
   ],
   "source": [
    "#input Layer\n",
    "input_layer = tf.keras.layers.Input(shape=(input_dim, ))\n",
    "#Encoder\n",
    "encoder = tf.keras.layers.Dense(encoding_dim, activation=\"tanh\",                                \n",
    "activity_regularizer=tf.keras.regularizers.l2(learning_rate))(input_layer)\n",
    "encoder=tf.keras.layers.Dropout(0.2)(encoder)\n",
    "encoder = tf.keras.layers.Dense(hidden_dim_1, activation='relu')(encoder)\n",
    "encoder = tf.keras.layers.Dense(hidden_dim_2, activation=tf.nn.leaky_relu)(encoder)\n",
    "# Decoder\n",
    "decoder = tf.keras.layers.Dense(hidden_dim_1, activation='relu')(encoder)\n",
    "decoder=tf.keras.layers.Dropout(0.2)(decoder)\n",
    "decoder = tf.keras.layers.Dense(encoding_dim, activation='relu')(decoder)\n",
    "decoder = tf.keras.layers.Dense(input_dim, activation='tanh')(decoder)\n",
    "#Autoencoder\n",
    "autoencoder = tf.keras.Model(inputs=input_layer, outputs=decoder)\n",
    "autoencoder.summary()"
   ]
  },
  {
   "cell_type": "code",
   "execution_count": 8,
   "id": "plastic-poker",
   "metadata": {},
   "outputs": [],
   "source": [
    "# build one block for each dense layer\n",
    "def get_block(L, size):\n",
    "    L = BatchNormalization()(L)\n",
    "\n",
    "    L = Dense(size)(L)\n",
    "    L = Dropout(0.5)(L)\n",
    "    L = LeakyReLU(0.2)(L)\n",
    "    return L\n",
    "\n",
    "# baseline correlation function\n",
    "def binary_cross_entropy(y_true, y_pred):\n",
    "    \n",
    "    return binary_crossentropy(y_true, y_pred)\n",
    "\n",
    "# define new loss with distance decorrelation\n",
    "def decorr(var_1, var_2, weights,kappa):\n",
    "\n",
    "    def loss(y_true, y_pred):\n",
    "        #return binary_crossentropy(y_true, y_pred) + distance_corr(var_1, var_2, weights)\n",
    "        #return distance_corr(var_1, var_2, weights)\n",
    "        return binary_crossentropy(y_true, y_pred) + kappa * distance_corr(var_1, var_2, weights)\n",
    "        #return binary_crossentropy(y_true, y_pred)\n",
    "\n",
    "    return loss"
   ]
  },
  {
   "cell_type": "code",
   "execution_count": 9,
   "id": "tired-origin",
   "metadata": {
    "scrolled": true
   },
   "outputs": [],
   "source": [
    "allX = { feat : np.genfromtxt('%s' % feat,delimiter = ',')[1:522467,:] for feat in [\"Input_Background_1.csv\",\n",
    "                                                       \"Input_Signal_1.csv\"] }"
   ]
  },
  {
   "cell_type": "code",
   "execution_count": 12,
   "id": "guilty-trinidad",
   "metadata": {},
   "outputs": [
    {
     "name": "stdout",
     "output_type": "stream",
     "text": [
      "Model: \"model_1\"\n",
      "__________________________________________________________________________________________________\n",
      "Layer (type)                    Output Shape         Param #     Connected to                     \n",
      "==================================================================================================\n",
      "input_7 (InputLayer)            [(None, 21)]         0                                            \n",
      "__________________________________________________________________________________________________\n",
      "input_8 (InputLayer)            [(None, 21)]         0                                            \n",
      "__________________________________________________________________________________________________\n",
      "flatten_4 (Flatten)             (None, 21)           0           input_7[0][0]                    \n",
      "__________________________________________________________________________________________________\n",
      "flatten_5 (Flatten)             (None, 21)           0           input_8[0][0]                    \n",
      "__________________________________________________________________________________________________\n",
      "concatenate_2 (Concatenate)     (None, 42)           0           flatten_4[0][0]                  \n",
      "                                                                 flatten_5[0][0]                  \n",
      "__________________________________________________________________________________________________\n",
      "batch_normalization_10 (BatchNo (None, 42)           168         concatenate_2[0][0]              \n",
      "__________________________________________________________________________________________________\n",
      "dense_12 (Dense)                (None, 1024)         44032       batch_normalization_10[0][0]     \n",
      "__________________________________________________________________________________________________\n",
      "dropout_10 (Dropout)            (None, 1024)         0           dense_12[0][0]                   \n",
      "__________________________________________________________________________________________________\n",
      "leaky_re_lu_10 (LeakyReLU)      (None, 1024)         0           dropout_10[0][0]                 \n",
      "__________________________________________________________________________________________________\n",
      "batch_normalization_11 (BatchNo (None, 1024)         4096        leaky_re_lu_10[0][0]             \n",
      "__________________________________________________________________________________________________\n",
      "dense_13 (Dense)                (None, 1024)         1049600     batch_normalization_11[0][0]     \n",
      "__________________________________________________________________________________________________\n",
      "dropout_11 (Dropout)            (None, 1024)         0           dense_13[0][0]                   \n",
      "__________________________________________________________________________________________________\n",
      "leaky_re_lu_11 (LeakyReLU)      (None, 1024)         0           dropout_11[0][0]                 \n",
      "__________________________________________________________________________________________________\n",
      "batch_normalization_12 (BatchNo (None, 1024)         4096        leaky_re_lu_11[0][0]             \n",
      "__________________________________________________________________________________________________\n",
      "dense_14 (Dense)                (None, 512)          524800      batch_normalization_12[0][0]     \n",
      "__________________________________________________________________________________________________\n",
      "dropout_12 (Dropout)            (None, 512)          0           dense_14[0][0]                   \n",
      "__________________________________________________________________________________________________\n",
      "leaky_re_lu_12 (LeakyReLU)      (None, 512)          0           dropout_12[0][0]                 \n",
      "__________________________________________________________________________________________________\n",
      "batch_normalization_13 (BatchNo (None, 512)          2048        leaky_re_lu_12[0][0]             \n",
      "__________________________________________________________________________________________________\n",
      "dense_15 (Dense)                (None, 256)          131328      batch_normalization_13[0][0]     \n",
      "__________________________________________________________________________________________________\n",
      "dropout_13 (Dropout)            (None, 256)          0           dense_15[0][0]                   \n",
      "__________________________________________________________________________________________________\n",
      "leaky_re_lu_13 (LeakyReLU)      (None, 256)          0           dropout_13[0][0]                 \n",
      "__________________________________________________________________________________________________\n",
      "batch_normalization_14 (BatchNo (None, 256)          1024        leaky_re_lu_13[0][0]             \n",
      "__________________________________________________________________________________________________\n",
      "dense_16 (Dense)                (None, 128)          32896       batch_normalization_14[0][0]     \n",
      "__________________________________________________________________________________________________\n",
      "dropout_14 (Dropout)            (None, 128)          0           dense_16[0][0]                   \n",
      "__________________________________________________________________________________________________\n",
      "leaky_re_lu_14 (LeakyReLU)      (None, 128)          0           dropout_14[0][0]                 \n",
      "__________________________________________________________________________________________________\n",
      "input_9 (InputLayer)            [(None, 1)]          0                                            \n",
      "__________________________________________________________________________________________________\n",
      "dense_17 (Dense)                (None, 1)            129         leaky_re_lu_14[0][0]             \n",
      "==================================================================================================\n",
      "Total params: 1,794,217\n",
      "Trainable params: 1,788,501\n",
      "Non-trainable params: 5,716\n",
      "__________________________________________________________________________________________________\n"
     ]
    }
   ],
   "source": [
    "X = list(allX.values())\n",
    "y = np.ones((522466))\n",
    "\n",
    "y[0:2000] = 0\n",
    "\n",
    "from sklearn.model_selection import train_test_split\n",
    "split = train_test_split(*X,y , test_size=0.1, random_state=42)\n",
    "train = [ split[ix] for ix in range(0,len(split),2) ]\n",
    "test = [ split[ix] for ix in range(1,len(split),2) ]\n",
    "X_train, y_train = train[0:2], train[-1]\n",
    "X_test, y_test = test[0:2], test[-1]\n",
    "\n",
    "X_train.append(np.ones(len(y_train)))\n",
    "X_test.append(np.ones(len(y_train)))\n",
    "\n",
    "# Setup network\n",
    "# make inputs\n",
    "jets = Input(shape=X_train[0].shape[1:])\n",
    "f_jets = Flatten()(jets)\n",
    "leps = Input(shape=X_train[1].shape[1:])\n",
    "f_leps = Flatten()(leps)\n",
    "i = Concatenate(axis=-1)([f_jets, f_leps])\n",
    "sample_weights = Input(shape=(1,))\n",
    "#setup trainable layers\n",
    "d1 = get_block(i, 1024)\n",
    "d2 = get_block(d1, 1024)\n",
    "d3 = get_block(d2, 512)\n",
    "d4 = get_block(d3, 256)\n",
    "d5 = get_block(d4, 128)\n",
    "o = Dense(1, activation=\"sigmoid\")(d5)\n",
    "\n",
    "model = Model(inputs=[jets,leps, sample_weights], outputs=o)\n",
    "model.summary()"
   ]
  },
  {
   "cell_type": "code",
   "execution_count": 15,
   "id": "appropriate-public",
   "metadata": {},
   "outputs": [],
   "source": [
    "# Compile model\n",
    "from keras.optimizers import Adam\n",
    "opt = Adam(lr=0.001)\n",
    "model.compile(optimizer=opt, loss=decorr(jets[:,0], o[:,0], sample_weights[:,0],0.5))\n",
    "#model.compile(optimizer=opt, loss=\"binary_crossentropy\")"
   ]
  },
  {
   "cell_type": "code",
   "execution_count": null,
   "id": "lesbian-booking",
   "metadata": {},
   "outputs": [
    {
     "name": "stdout",
     "output_type": "stream",
     "text": [
      "Train on 423197 samples, validate on 47022 samples\n",
      "Epoch 1/20\n"
     ]
    }
   ],
   "source": [
    "# Train model\n",
    "model.fit(x=X_train, y=y_train, epochs=20, batch_size=10000, validation_split=0.1)\n",
    "\n",
    "# Evaluate model\n",
    "y_train_predict = model.predict(X_train, batch_size=10000)\n",
    "y_test_predict = model.predict(X_test, batch_size=10000)\n",
    "from sklearn.metrics import roc_auc_score\n",
    "auc_train = roc_auc_score(y_train, y_train_predict)\n",
    "auc_test = roc_auc_score(y_test, y_test_predict)\n",
    "print(\"area under ROC curve (train sample): \", auc_train)\n",
    "print(\"area under ROC curve (test sample): \", auc_test)\n",
    "\n",
    "# plot correlation\n",
    "x = X_test[0][:,0,0]\n",
    "y = y_test_predict[:,0]\n",
    "corr = np.corrcoef(x, y)\n",
    "print(\"correlation \", corr[0][1])"
   ]
  },
  {
   "cell_type": "code",
   "execution_count": 7,
   "id": "fourth-figure",
   "metadata": {},
   "outputs": [],
   "source": [
    "from tensorflow.python.framework.ops import disable_eager_execution\n",
    "disable_eager_execution()"
   ]
  },
  {
   "cell_type": "code",
   "execution_count": null,
   "id": "violent-defense",
   "metadata": {},
   "outputs": [],
   "source": []
  }
 ],
 "metadata": {
  "kernelspec": {
   "display_name": "Python 3",
   "language": "python",
   "name": "python3"
  },
  "language_info": {
   "codemirror_mode": {
    "name": "ipython",
    "version": 3
   },
   "file_extension": ".py",
   "mimetype": "text/x-python",
   "name": "python",
   "nbconvert_exporter": "python",
   "pygments_lexer": "ipython3",
   "version": "3.7.6"
  }
 },
 "nbformat": 4,
 "nbformat_minor": 5
}
