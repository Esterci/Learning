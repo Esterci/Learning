{
 "cells": [
  {
   "cell_type": "markdown",
   "source": [
    "# Implementation of Anomaly detection using Autoencoders\n",
    "Dataset used here is Credit Card Fraud Detection from Kaggle.\n",
    "\n",
    "### Import required libraries"
   ],
   "metadata": {}
  },
  {
   "cell_type": "code",
   "execution_count": 1,
   "source": [
    "import pandas as pd\n",
    "import numpy as np\n",
    "import tensorflow as tf\n",
    "import matplotlib.pyplot as plt\n",
    "import seaborn as sns\n",
    "from sklearn.model_selection import train_test_split\n",
    "from sklearn.preprocessing import StandardScaler,normalize, MinMaxScaler\n",
    "from sklearn.metrics import confusion_matrix, recall_score, accuracy_score, precision_score\n",
    "# Load layers from keras\n",
    "from keras.layers import Dense, Input, Concatenate, Flatten, BatchNormalization, Dropout, LeakyReLU\n",
    "from keras.models import Sequential, Model\n",
    "from keras.losses import binary_crossentropy\n",
    "from Disco_tensor_flow import distance_corr\n",
    "from keras.optimizers import Adam\n",
    "from sklearn.metrics import roc_auc_score\n",
    "RANDOM_SEED = 2021 \n",
    "TEST_PCT = 0.3\n",
    "LABELS = [\"Normal\",\"Fraud\"]"
   ],
   "outputs": [],
   "metadata": {
    "scrolled": true
   }
  },
  {
   "cell_type": "code",
   "execution_count": 2,
   "source": [
    "# build one block for each dense layer\n",
    "def get_block(L, size):\n",
    "    L = BatchNormalization()(L)\n",
    "\n",
    "    L = Dense(size)(L)\n",
    "    L = Dropout(0.5)(L)\n",
    "    L = LeakyReLU(0.2)(L)\n",
    "    return L\n",
    "\n",
    "# baseline correlation function\n",
    "def binary_cross_entropy(y_true, y_pred):\n",
    "    \n",
    "    return binary_crossentropy(y_true, y_pred)\n",
    "\n",
    "# define new loss with distance decorrelation\n",
    "def decorr(var_1, var_2, weights,kappa):\n",
    "\n",
    "    def loss(y_true, y_pred):\n",
    "        #return binary_crossentropy(y_true, y_pred) + distance_corr(var_1, var_2, weights)\n",
    "        #return distance_corr(var_1, var_2, weights)\n",
    "        return binary_crossentropy(y_true, y_pred) + kappa * distance_corr(var_1, var_2, weights)\n",
    "        #return binary_crossentropy(y_true, y_pred)\n",
    "\n",
    "    return loss"
   ],
   "outputs": [],
   "metadata": {}
  },
  {
   "cell_type": "code",
   "execution_count": 3,
   "source": [
    "allX = { feat : np.genfromtxt('%s' % feat,delimiter = ',')[1:522467,:] for feat in [\"/home/thiago/Documents/Data_Sets/LPC-anomaly-detection/Input_Background_1.csv\",\n",
    "                                                       \"/home/thiago/Documents/Data_Sets/LPC-anomaly-detection/Input_Signal_1.csv\"] }"
   ],
   "outputs": [],
   "metadata": {
    "scrolled": true
   }
  },
  {
   "cell_type": "code",
   "execution_count": 4,
   "source": [
    "X = list(allX.values())\n",
    "y = np.ones((522466))\n",
    "\n",
    "y[0:2000] = 0\n",
    "\n",
    "from sklearn.model_selection import train_test_split\n",
    "split = train_test_split(*X,y , test_size=0.1, random_state=42)\n",
    "train = [ split[ix] for ix in range(0,len(split),2) ]\n",
    "test = [ split[ix] for ix in range(1,len(split),2) ]\n",
    "X_train, y_train = train[0:2], train[-1]\n",
    "X_test, y_test = test[0:2], test[-1]\n",
    "\n",
    "X_train.append(np.ones(len(y_train)))\n",
    "X_test.append(np.ones(len(y_train)))\n",
    "\n",
    "# Setup network\n",
    "# make inputs\n",
    "jets = Input(shape=X_train[0].shape[1:])\n",
    "f_jets = Flatten()(jets)\n",
    "leps = Input(shape=X_train[1].shape[1:])\n",
    "f_leps = Flatten()(leps)\n",
    "i = Concatenate(axis=-1)([f_jets, f_leps])\n",
    "sample_weights = Input(shape=(1,))\n",
    "#setup trainable layers\n",
    "d1 = get_block(i, 1024)\n",
    "d2 = get_block(d1, 1024)\n",
    "d3 = get_block(d2, 512)\n",
    "d4 = get_block(d3, 256)\n",
    "d5 = get_block(d4, 128)\n",
    "o = Dense(1, activation=\"sigmoid\")(d5)\n",
    "\n",
    "model = Model(inputs=[jets,leps, sample_weights], outputs=o)\n",
    "model.summary()"
   ],
   "outputs": [
    {
     "output_type": "stream",
     "name": "stdout",
     "text": [
      "Model: \"model\"\n",
      "__________________________________________________________________________________________________\n",
      "Layer (type)                    Output Shape         Param #     Connected to                     \n",
      "==================================================================================================\n",
      "input_1 (InputLayer)            [(None, 21)]         0                                            \n",
      "__________________________________________________________________________________________________\n",
      "input_2 (InputLayer)            [(None, 21)]         0                                            \n",
      "__________________________________________________________________________________________________\n",
      "flatten (Flatten)               (None, 21)           0           input_1[0][0]                    \n",
      "__________________________________________________________________________________________________\n",
      "flatten_1 (Flatten)             (None, 21)           0           input_2[0][0]                    \n",
      "__________________________________________________________________________________________________\n",
      "concatenate (Concatenate)       (None, 42)           0           flatten[0][0]                    \n",
      "                                                                 flatten_1[0][0]                  \n",
      "__________________________________________________________________________________________________\n",
      "batch_normalization (BatchNorma (None, 42)           168         concatenate[0][0]                \n",
      "__________________________________________________________________________________________________\n",
      "dense (Dense)                   (None, 1024)         44032       batch_normalization[0][0]        \n",
      "__________________________________________________________________________________________________\n",
      "dropout (Dropout)               (None, 1024)         0           dense[0][0]                      \n",
      "__________________________________________________________________________________________________\n",
      "leaky_re_lu (LeakyReLU)         (None, 1024)         0           dropout[0][0]                    \n",
      "__________________________________________________________________________________________________\n",
      "batch_normalization_1 (BatchNor (None, 1024)         4096        leaky_re_lu[0][0]                \n",
      "__________________________________________________________________________________________________\n",
      "dense_1 (Dense)                 (None, 1024)         1049600     batch_normalization_1[0][0]      \n",
      "__________________________________________________________________________________________________\n",
      "dropout_1 (Dropout)             (None, 1024)         0           dense_1[0][0]                    \n",
      "__________________________________________________________________________________________________\n",
      "leaky_re_lu_1 (LeakyReLU)       (None, 1024)         0           dropout_1[0][0]                  \n",
      "__________________________________________________________________________________________________\n",
      "batch_normalization_2 (BatchNor (None, 1024)         4096        leaky_re_lu_1[0][0]              \n",
      "__________________________________________________________________________________________________\n",
      "dense_2 (Dense)                 (None, 512)          524800      batch_normalization_2[0][0]      \n",
      "__________________________________________________________________________________________________\n",
      "dropout_2 (Dropout)             (None, 512)          0           dense_2[0][0]                    \n",
      "__________________________________________________________________________________________________\n",
      "leaky_re_lu_2 (LeakyReLU)       (None, 512)          0           dropout_2[0][0]                  \n",
      "__________________________________________________________________________________________________\n",
      "batch_normalization_3 (BatchNor (None, 512)          2048        leaky_re_lu_2[0][0]              \n",
      "__________________________________________________________________________________________________\n",
      "dense_3 (Dense)                 (None, 256)          131328      batch_normalization_3[0][0]      \n",
      "__________________________________________________________________________________________________\n",
      "dropout_3 (Dropout)             (None, 256)          0           dense_3[0][0]                    \n",
      "__________________________________________________________________________________________________\n",
      "leaky_re_lu_3 (LeakyReLU)       (None, 256)          0           dropout_3[0][0]                  \n",
      "__________________________________________________________________________________________________\n",
      "batch_normalization_4 (BatchNor (None, 256)          1024        leaky_re_lu_3[0][0]              \n",
      "__________________________________________________________________________________________________\n",
      "dense_4 (Dense)                 (None, 128)          32896       batch_normalization_4[0][0]      \n",
      "__________________________________________________________________________________________________\n",
      "dropout_4 (Dropout)             (None, 128)          0           dense_4[0][0]                    \n",
      "__________________________________________________________________________________________________\n",
      "leaky_re_lu_4 (LeakyReLU)       (None, 128)          0           dropout_4[0][0]                  \n",
      "__________________________________________________________________________________________________\n",
      "input_3 (InputLayer)            [(None, 1)]          0                                            \n",
      "__________________________________________________________________________________________________\n",
      "dense_5 (Dense)                 (None, 1)            129         leaky_re_lu_4[0][0]              \n",
      "==================================================================================================\n",
      "Total params: 1,794,217\n",
      "Trainable params: 1,788,501\n",
      "Non-trainable params: 5,716\n",
      "__________________________________________________________________________________________________\n"
     ]
    },
    {
     "output_type": "stream",
     "name": "stderr",
     "text": [
      "2021-09-12 19:50:56.700639: I tensorflow/compiler/jit/xla_cpu_device.cc:41] Not creating XLA devices, tf_xla_enable_xla_devices not set\n",
      "2021-09-12 19:50:56.700812: I tensorflow/core/platform/cpu_feature_guard.cc:142] This TensorFlow binary is optimized with oneAPI Deep Neural Network Library (oneDNN) to use the following CPU instructions in performance-critical operations:  SSE4.1 SSE4.2 AVX AVX2 FMA\n",
      "To enable them in other operations, rebuild TensorFlow with the appropriate compiler flags.\n",
      "2021-09-12 19:50:56.701739: I tensorflow/core/common_runtime/process_util.cc:146] Creating new thread pool with default inter op setting: 2. Tune using inter_op_parallelism_threads for best performance.\n"
     ]
    }
   ],
   "metadata": {}
  },
  {
   "cell_type": "code",
   "execution_count": 15,
   "source": [
    "# Compile model\n",
    "from keras.optimizers import Adam\n",
    "opt = Adam(lr=0.001)\n",
    "model.compile(optimizer=opt, loss=decorr(jets[:,0], o[:,0], sample_weights[:,0],0.5))\n",
    "#model.compile(optimizer=opt, loss=\"binary_crossentropy\")"
   ],
   "outputs": [],
   "metadata": {}
  },
  {
   "cell_type": "code",
   "execution_count": null,
   "source": [
    "# Train model\n",
    "model.fit(x=X_train, y=y_train, epochs=20, batch_size=10000, validation_split=0.1)\n",
    "\n",
    "# Evaluate model\n",
    "y_train_predict = model.predict(X_train, batch_size=10000)\n",
    "y_test_predict = model.predict(X_test, batch_size=10000)\n",
    "from sklearn.metrics import roc_auc_score\n",
    "auc_train = roc_auc_score(y_train, y_train_predict)\n",
    "auc_test = roc_auc_score(y_test, y_test_predict)\n",
    "print(\"area under ROC curve (train sample): \", auc_train)\n",
    "print(\"area under ROC curve (test sample): \", auc_test)\n",
    "\n",
    "# plot correlation\n",
    "x = X_test[0][:,0,0]\n",
    "y = y_test_predict[:,0]\n",
    "corr = np.corrcoef(x, y)\n",
    "print(\"correlation \", corr[0][1])"
   ],
   "outputs": [
    {
     "output_type": "stream",
     "name": "stdout",
     "text": [
      "Train on 423197 samples, validate on 47022 samples\n",
      "Epoch 1/20\n"
     ]
    }
   ],
   "metadata": {}
  },
  {
   "cell_type": "code",
   "execution_count": 7,
   "source": [
    "from tensorflow.python.framework.ops import disable_eager_execution\n",
    "disable_eager_execution()"
   ],
   "outputs": [],
   "metadata": {}
  },
  {
   "cell_type": "code",
   "execution_count": null,
   "source": [],
   "outputs": [],
   "metadata": {}
  }
 ],
 "metadata": {
  "kernelspec": {
   "name": "python3",
   "display_name": "Python 3.7.11 64-bit ('tf': conda)"
  },
  "language_info": {
   "codemirror_mode": {
    "name": "ipython",
    "version": 3
   },
   "file_extension": ".py",
   "mimetype": "text/x-python",
   "name": "python",
   "nbconvert_exporter": "python",
   "pygments_lexer": "ipython3",
   "version": "3.7.11"
  },
  "interpreter": {
   "hash": "a8a5249af234424074a6b4f27b6bc730025b283b72f67de7f0347436c5fdf81e"
  }
 },
 "nbformat": 4,
 "nbformat_minor": 5
}