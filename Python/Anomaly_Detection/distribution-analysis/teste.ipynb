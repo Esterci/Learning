{
 "cells": [
  {
   "cell_type": "code",
   "execution_count": 3,
   "source": [
    "import numpy as np"
   ],
   "outputs": [],
   "metadata": {}
  },
  {
   "cell_type": "code",
   "execution_count": 4,
   "source": [
    "A = np.array(([1,2,3],\n",
    "            [1,2,3],\n",
    "            [1,2,3]))\n",
    "\n",
    "B = np.array(([1,2,3],\n",
    "            [1,2,3],\n",
    "            [1,2,3]))"
   ],
   "outputs": [],
   "metadata": {}
  },
  {
   "cell_type": "code",
   "execution_count": 5,
   "source": [
    "A*B"
   ],
   "outputs": [
    {
     "output_type": "execute_result",
     "data": {
      "text/plain": [
       "array([[1, 4, 9],\n",
       "       [1, 4, 9],\n",
       "       [1, 4, 9]])"
      ]
     },
     "metadata": {},
     "execution_count": 5
    }
   ],
   "metadata": {}
  },
  {
   "cell_type": "code",
   "execution_count": null,
   "source": [],
   "outputs": [],
   "metadata": {}
  }
 ],
 "metadata": {
  "orig_nbformat": 4,
  "language_info": {
   "name": "python",
   "version": "3.7.11",
   "mimetype": "text/x-python",
   "codemirror_mode": {
    "name": "ipython",
    "version": 3
   },
   "pygments_lexer": "ipython3",
   "nbconvert_exporter": "python",
   "file_extension": ".py"
  },
  "kernelspec": {
   "name": "python3",
   "display_name": "Python 3.7.11 64-bit ('tf': conda)"
  },
  "interpreter": {
   "hash": "a8a5249af234424074a6b4f27b6bc730025b283b72f67de7f0347436c5fdf81e"
  }
 },
 "nbformat": 4,
 "nbformat_minor": 2
}