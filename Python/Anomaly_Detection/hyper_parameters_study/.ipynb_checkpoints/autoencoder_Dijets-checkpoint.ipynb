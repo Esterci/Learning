{
 "cells": [
  {
   "cell_type": "markdown",
   "id": "oriented-startup",
   "metadata": {},
   "source": [
    "# Implementation of Anomaly detection using Autoencoders\n",
    "Dataset used here is Credit Card Fraud Detection from Kaggle.\n",
    "\n",
    "### Import required libraries"
   ]
  },
  {
   "cell_type": "code",
   "execution_count": 1,
   "id": "regional-punch",
   "metadata": {},
   "outputs": [],
   "source": [
    "from tensorflow.python.framework.ops import disable_eager_execution\n",
    "disable_eager_execution()"
   ]
  },
  {
   "cell_type": "code",
   "execution_count": 2,
   "id": "earlier-conservative",
   "metadata": {
    "scrolled": true
   },
   "outputs": [],
   "source": [
    "import pandas as pd\n",
    "import numpy as np\n",
    "import tensorflow as tf\n",
    "import matplotlib.pyplot as plt\n",
    "import seaborn as sns\n",
    "from sklearn.model_selection import train_test_split\n",
    "from sklearn.preprocessing import StandardScaler,normalize, MinMaxScaler\n",
    "from sklearn.metrics import confusion_matrix, recall_score, accuracy_score, precision_score\n",
    "\n",
    "# Load layers from keras\n",
    "from keras.layers import Dense, Input, Concatenate, Flatten, BatchNormalization, Dropout, LeakyReLU\n",
    "from keras.models import Sequential, Model\n",
    "from keras.losses import binary_crossentropy\n",
    "from Disco_tensor_flow import distance_corr\n",
    "from keras.optimizers import Adam\n",
    "from sklearn.metrics import roc_auc_score\n",
    "\n",
    "LABELS = [\"Normal\",\"Anomaly\"]"
   ]
  },
  {
   "cell_type": "code",
   "execution_count": 3,
   "id": "driving-lease",
   "metadata": {},
   "outputs": [],
   "source": [
    "# define new loss with distance decorrelation\n",
    "def decorr(var_1, var_2, weights,kappa):\n",
    "\n",
    "    def loss(y_true, y_pred):\n",
    "        #return binary_crossentropy(y_true, y_pred) + distance_corr(var_1, var_2, weights)\n",
    "        #return distance_corr(var_1, var_2, weights)\n",
    "        return binary_crossentropy(y_true, y_pred) + kappa * distance_corr(var_1, var_2, weights,power=2)\n",
    "        #return binary_crossentropy(y_true, y_pred)\n",
    "\n",
    "    return loss"
   ]
  },
  {
   "cell_type": "markdown",
   "id": "alert-niger",
   "metadata": {},
   "source": [
    "### Read the dataset"
   ]
  },
  {
   "cell_type": "code",
   "execution_count": 4,
   "id": "informational-technical",
   "metadata": {},
   "outputs": [
    {
     "name": "stdout",
     "output_type": "stream",
     "text": [
      "         ==== Commencing Initiation ====\n",
      "\n",
      "     .Background Loaded...\n",
      "     .Background shape: (543500, 21)\n",
      "     .Signal Loaded...\n",
      "     .Signal shape: (522467, 21)\n",
      "\n"
     ]
    }
   ],
   "source": [
    "##########################################################\n",
    "# ------------------------------------------------------ #\n",
    "# ----------------------- LOADING ---------------------- #\n",
    "# ------------------------------------------------------ #\n",
    "##########################################################\n",
    "# Firstly the model loads the background and signal data, \n",
    "# then it removes the attributes first string line, which \n",
    "# are the column names, in order to avoid NaN values in \n",
    "# the array.\n",
    "\n",
    "print('         ==== Commencing Initiation ====\\n')\n",
    "\n",
    "### Background\n",
    "b_name='/home/thiago/Documents/Data_Sets/LPC-anomaly-detection/Input_Background_1.csv'\n",
    "background = np.genfromtxt(b_name, delimiter=',')\n",
    "background = background[1:,:]\n",
    "print(\"     .Background Loaded...\" )\n",
    "print(\"     .Background shape: {}\".format(background.shape))\n",
    "\n",
    "### Signal\n",
    "s_name='/home/thiago/Documents/Data_Sets/LPC-anomaly-detection/Input_Signal_1.csv'\n",
    "signal = np.genfromtxt(s_name, delimiter=',')\n",
    "signal = signal[1:,:]\n",
    "print(\"     .Signal Loaded...\")\n",
    "print(\"     .Signal shape: {}\\n\".format(signal.shape))"
   ]
  },
  {
   "cell_type": "markdown",
   "id": "0cbb9de0",
   "metadata": {},
   "source": [
    "### Selecting the most pertinent attributes\n",
    "\n",
    "pertinent_features = [2,3,4,6,10,11,12,14,15,16,18,19,20]\n",
    "\n",
    "background = background[:,pertinent_features]\n",
    "signal = signal[:,pertinent_features]"
   ]
  },
  {
   "cell_type": "code",
   "execution_count": 5,
   "id": "written-stage",
   "metadata": {},
   "outputs": [],
   "source": [
    "##########################################################\n",
    "# ------------------------------------------------------ #\n",
    "# --------------------- INITIATION --------------------- #\n",
    "# ------------------------------------------------------ #\n",
    "##########################################################\n",
    "\n",
    "# Number of events\n",
    "total = 100000\n",
    "\n",
    "# Percentage of background samples on the testing phase\n",
    "background_percent = 0.99\n",
    "\n",
    "# Percentage of samples on the training phase\n",
    "test_size = 0.3"
   ]
  },
  {
   "cell_type": "code",
   "execution_count": 6,
   "id": "lonely-alias",
   "metadata": {},
   "outputs": [
    {
     "name": "stdout",
     "output_type": "stream",
     "text": [
      "\n",
      "          ==== Initiation Complete ====\n",
      "\n",
      "=*==*==*==*==*==*==*==*==*==*==*==*==*==*==*==*==*=\n",
      "      ==== Commencing Data Processing ====\n",
      ".Normalizing Data\n",
      ".formatted data shape: (100300, 21)\n",
      ".Background shape: (100000, 21)\n",
      ".Signal shape: (300, 21)\n",
      ".Creating Labels\n"
     ]
    }
   ],
   "source": [
    "print('\\n          ==== Initiation Complete ====\\n')\n",
    "print('=*='*17 )\n",
    "print('      ==== Commencing Data Processing ====')\n",
    "\n",
    "# Percentage of background samples to divide the data-set\n",
    "dat_set_percent = total/len(background)\n",
    "\n",
    "# Reducing background samples\n",
    "_,reduced_background = train_test_split(background, test_size=dat_set_percent)\n",
    "\n",
    "# Deviding train and test background\n",
    "\n",
    "train_data, background_test = train_test_split(reduced_background, test_size=test_size)\n",
    "\n",
    "# Iserting the correct number of signal in streaming\n",
    "\n",
    "n_signal_samples = int(len(background_test)*(1-background_percent))\n",
    "\n",
    "_,background_test = train_test_split(background_test, test_size=background_percent)\n",
    "\n",
    "_,signal_test = train_test_split(signal, test_size=n_signal_samples/len(signal))\n",
    "\n",
    "# Concatenating Signal and the Background sub-sets\n",
    "\n",
    "data = np.vstack((reduced_background,signal_test))\n",
    "test_data = np.vstack((background_test,signal_test))\n",
    "\n",
    "# Normalize Data\n",
    "print('.Normalizing Data')\n",
    "data = normalize(data,norm='max',axis=0)\n",
    "\n",
    "print(\".formatted data shape: {}\".format(data.shape))\n",
    "print(\".Background shape: {}\".format(reduced_background.shape))\n",
    "print(\".Signal shape: {}\".format(signal_test.shape))\n",
    "\n",
    "# Creating Labels\n",
    "print('.Creating Labels')\n",
    "\n",
    "labels =np.ones((len(data)))\n",
    "labels[:len(reduced_background)] = 0"
   ]
  },
  {
   "cell_type": "code",
   "execution_count": 7,
   "id": "closing-evanescence",
   "metadata": {},
   "outputs": [],
   "source": [
    "attributes = np.array([\"px1\",\"py1\",\"pz1\",\"E1\",\"eta1\",\"phi1\",\"pt1\",\"px2\",\"py2\",\"pz2\",\"E2\",\"eta2\",\n",
    "            \"phi2\",\"pt2\",\"Delta_R\",\"M12\",\"MET\",\"S\",\"C\",\"HT\",\"A\",\"Class\"])\n",
    "\n",
    "dataset = pd.DataFrame(np.hstack((data,labels.reshape(-1,1))),columns = attributes)"
   ]
  },
  {
   "cell_type": "markdown",
   "id": "silent-wealth",
   "metadata": {},
   "source": [
    "# Exploratory Data Analysis"
   ]
  },
  {
   "cell_type": "code",
   "execution_count": 8,
   "id": "medium-incidence",
   "metadata": {},
   "outputs": [
    {
     "data": {
      "text/html": [
       "<div>\n",
       "<style scoped>\n",
       "    .dataframe tbody tr th:only-of-type {\n",
       "        vertical-align: middle;\n",
       "    }\n",
       "\n",
       "    .dataframe tbody tr th {\n",
       "        vertical-align: top;\n",
       "    }\n",
       "\n",
       "    .dataframe thead th {\n",
       "        text-align: right;\n",
       "    }\n",
       "</style>\n",
       "<table border=\"1\" class=\"dataframe\">\n",
       "  <thead>\n",
       "    <tr style=\"text-align: right;\">\n",
       "      <th></th>\n",
       "      <th>px1</th>\n",
       "      <th>py1</th>\n",
       "      <th>pz1</th>\n",
       "      <th>E1</th>\n",
       "      <th>eta1</th>\n",
       "      <th>phi1</th>\n",
       "      <th>pt1</th>\n",
       "      <th>px2</th>\n",
       "      <th>py2</th>\n",
       "      <th>pz2</th>\n",
       "      <th>...</th>\n",
       "      <th>phi2</th>\n",
       "      <th>pt2</th>\n",
       "      <th>Delta_R</th>\n",
       "      <th>M12</th>\n",
       "      <th>MET</th>\n",
       "      <th>S</th>\n",
       "      <th>C</th>\n",
       "      <th>HT</th>\n",
       "      <th>A</th>\n",
       "      <th>Class</th>\n",
       "    </tr>\n",
       "  </thead>\n",
       "  <tbody>\n",
       "    <tr>\n",
       "      <th>0</th>\n",
       "      <td>-0.209531</td>\n",
       "      <td>-0.027030</td>\n",
       "      <td>-0.243189</td>\n",
       "      <td>0.248898</td>\n",
       "      <td>-0.588983</td>\n",
       "      <td>-0.949181</td>\n",
       "      <td>0.157245</td>\n",
       "      <td>0.142910</td>\n",
       "      <td>0.024895</td>\n",
       "      <td>-0.093893</td>\n",
       "      <td>...</td>\n",
       "      <td>0.064802</td>\n",
       "      <td>0.119730</td>\n",
       "      <td>0.443078</td>\n",
       "      <td>0.081770</td>\n",
       "      <td>0.125723</td>\n",
       "      <td>0.077607</td>\n",
       "      <td>0.272990</td>\n",
       "      <td>0.159034</td>\n",
       "      <td>-0.000431</td>\n",
       "      <td>0.0</td>\n",
       "    </tr>\n",
       "    <tr>\n",
       "      <th>1</th>\n",
       "      <td>-0.209298</td>\n",
       "      <td>-0.082146</td>\n",
       "      <td>0.035167</td>\n",
       "      <td>0.069680</td>\n",
       "      <td>0.149603</td>\n",
       "      <td>-0.854992</td>\n",
       "      <td>0.172684</td>\n",
       "      <td>0.183516</td>\n",
       "      <td>0.112410</td>\n",
       "      <td>0.203144</td>\n",
       "      <td>...</td>\n",
       "      <td>0.199866</td>\n",
       "      <td>0.186064</td>\n",
       "      <td>0.448478</td>\n",
       "      <td>0.118090</td>\n",
       "      <td>0.020109</td>\n",
       "      <td>0.243921</td>\n",
       "      <td>0.471969</td>\n",
       "      <td>0.177068</td>\n",
       "      <td>-0.071423</td>\n",
       "      <td>0.0</td>\n",
       "    </tr>\n",
       "    <tr>\n",
       "      <th>2</th>\n",
       "      <td>0.207972</td>\n",
       "      <td>0.083623</td>\n",
       "      <td>0.049953</td>\n",
       "      <td>0.078583</td>\n",
       "      <td>0.203789</td>\n",
       "      <td>0.148075</td>\n",
       "      <td>0.172411</td>\n",
       "      <td>-0.144894</td>\n",
       "      <td>-0.103340</td>\n",
       "      <td>0.068887</td>\n",
       "      <td>...</td>\n",
       "      <td>-0.776646</td>\n",
       "      <td>0.155662</td>\n",
       "      <td>0.406419</td>\n",
       "      <td>0.092396</td>\n",
       "      <td>0.037408</td>\n",
       "      <td>0.979711</td>\n",
       "      <td>0.705060</td>\n",
       "      <td>0.166264</td>\n",
       "      <td>0.015275</td>\n",
       "      <td>0.0</td>\n",
       "    </tr>\n",
       "    <tr>\n",
       "      <th>3</th>\n",
       "      <td>0.177130</td>\n",
       "      <td>-0.041468</td>\n",
       "      <td>0.239638</td>\n",
       "      <td>0.244074</td>\n",
       "      <td>0.621691</td>\n",
       "      <td>-0.090504</td>\n",
       "      <td>0.136729</td>\n",
       "      <td>-0.148475</td>\n",
       "      <td>0.028579</td>\n",
       "      <td>0.076464</td>\n",
       "      <td>...</td>\n",
       "      <td>0.928618</td>\n",
       "      <td>0.124953</td>\n",
       "      <td>0.453956</td>\n",
       "      <td>0.083684</td>\n",
       "      <td>0.064652</td>\n",
       "      <td>0.075735</td>\n",
       "      <td>0.270757</td>\n",
       "      <td>0.139282</td>\n",
       "      <td>0.002835</td>\n",
       "      <td>0.0</td>\n",
       "    </tr>\n",
       "    <tr>\n",
       "      <th>4</th>\n",
       "      <td>0.176795</td>\n",
       "      <td>-0.057502</td>\n",
       "      <td>-0.027379</td>\n",
       "      <td>0.056068</td>\n",
       "      <td>-0.142902</td>\n",
       "      <td>-0.122763</td>\n",
       "      <td>0.141375</td>\n",
       "      <td>-0.157362</td>\n",
       "      <td>0.043680</td>\n",
       "      <td>-0.185706</td>\n",
       "      <td>...</td>\n",
       "      <td>0.898847</td>\n",
       "      <td>0.135922</td>\n",
       "      <td>0.475444</td>\n",
       "      <td>0.097653</td>\n",
       "      <td>0.045599</td>\n",
       "      <td>0.199506</td>\n",
       "      <td>0.418983</td>\n",
       "      <td>0.143020</td>\n",
       "      <td>-0.004724</td>\n",
       "      <td>0.0</td>\n",
       "    </tr>\n",
       "  </tbody>\n",
       "</table>\n",
       "<p>5 rows × 22 columns</p>\n",
       "</div>"
      ],
      "text/plain": [
       "        px1       py1       pz1        E1      eta1      phi1       pt1  \\\n",
       "0 -0.209531 -0.027030 -0.243189  0.248898 -0.588983 -0.949181  0.157245   \n",
       "1 -0.209298 -0.082146  0.035167  0.069680  0.149603 -0.854992  0.172684   \n",
       "2  0.207972  0.083623  0.049953  0.078583  0.203789  0.148075  0.172411   \n",
       "3  0.177130 -0.041468  0.239638  0.244074  0.621691 -0.090504  0.136729   \n",
       "4  0.176795 -0.057502 -0.027379  0.056068 -0.142902 -0.122763  0.141375   \n",
       "\n",
       "        px2       py2       pz2  ...      phi2       pt2   Delta_R       M12  \\\n",
       "0  0.142910  0.024895 -0.093893  ...  0.064802  0.119730  0.443078  0.081770   \n",
       "1  0.183516  0.112410  0.203144  ...  0.199866  0.186064  0.448478  0.118090   \n",
       "2 -0.144894 -0.103340  0.068887  ... -0.776646  0.155662  0.406419  0.092396   \n",
       "3 -0.148475  0.028579  0.076464  ...  0.928618  0.124953  0.453956  0.083684   \n",
       "4 -0.157362  0.043680 -0.185706  ...  0.898847  0.135922  0.475444  0.097653   \n",
       "\n",
       "        MET         S         C        HT         A  Class  \n",
       "0  0.125723  0.077607  0.272990  0.159034 -0.000431    0.0  \n",
       "1  0.020109  0.243921  0.471969  0.177068 -0.071423    0.0  \n",
       "2  0.037408  0.979711  0.705060  0.166264  0.015275    0.0  \n",
       "3  0.064652  0.075735  0.270757  0.139282  0.002835    0.0  \n",
       "4  0.045599  0.199506  0.418983  0.143020 -0.004724    0.0  \n",
       "\n",
       "[5 rows x 22 columns]"
      ]
     },
     "execution_count": 8,
     "metadata": {},
     "output_type": "execute_result"
    }
   ],
   "source": [
    "dataset.head()"
   ]
  },
  {
   "cell_type": "markdown",
   "id": "mexican-commission",
   "metadata": {},
   "source": [
    "> Use only normal transactions to train the Autoencoder.\n",
    "\n",
    "Normal data has a value of 0 in the target variable. Using the target variable to create a normal and fraud dataset."
   ]
  },
  {
   "cell_type": "markdown",
   "id": "thrown-marketing",
   "metadata": {},
   "source": [
    "### Set the training parameter values"
   ]
  },
  {
   "cell_type": "markdown",
   "id": "eleven-slope",
   "metadata": {},
   "source": [
    "Plotting the test data points and their respective reconstruction error sets a threshold value to visualize if the threshold value needs to be adjusted."
   ]
  },
  {
   "cell_type": "code",
   "execution_count": 9,
   "id": "adapted-thing",
   "metadata": {},
   "outputs": [],
   "source": [
    "nb_epoch = 10\n",
    "batch_size = 500\n",
    "input_dim = train_data.shape[1]\n",
    "encoding_dim = 8\n",
    "hidden_dim_1 = int(encoding_dim / 2) #\n",
    "hidden_dim_2 = 2\n",
    "learning_rate = 0.001"
   ]
  },
  {
   "cell_type": "code",
   "execution_count": 10,
   "id": "exciting-documentation",
   "metadata": {},
   "outputs": [
    {
     "name": "stdout",
     "output_type": "stream",
     "text": [
      "Model: \"model\"\n",
      "__________________________________________________________________________________________________\n",
      "Layer (type)                    Output Shape         Param #     Connected to                     \n",
      "==================================================================================================\n",
      "input_1 (InputLayer)            [(None, 21)]         0                                            \n",
      "__________________________________________________________________________________________________\n",
      "dense (Dense)                   (None, 8)            176         input_1[0][0]                    \n",
      "__________________________________________________________________________________________________\n",
      "dropout (Dropout)               (None, 8)            0           dense[0][0]                      \n",
      "__________________________________________________________________________________________________\n",
      "dense_1 (Dense)                 (None, 4)            36          dropout[0][0]                    \n",
      "__________________________________________________________________________________________________\n",
      "dense_2 (Dense)                 (None, 2)            10          dense_1[0][0]                    \n",
      "__________________________________________________________________________________________________\n",
      "dense_3 (Dense)                 (None, 4)            12          dense_2[0][0]                    \n",
      "__________________________________________________________________________________________________\n",
      "dropout_1 (Dropout)             (None, 4)            0           dense_3[0][0]                    \n",
      "__________________________________________________________________________________________________\n",
      "dense_4 (Dense)                 (None, 8)            40          dropout_1[0][0]                  \n",
      "__________________________________________________________________________________________________\n",
      "input_2 (InputLayer)            [(None, 1)]          0                                            \n",
      "__________________________________________________________________________________________________\n",
      "dense_5 (Dense)                 (None, 21)           189         dense_4[0][0]                    \n",
      "==================================================================================================\n",
      "Total params: 463\n",
      "Trainable params: 463\n",
      "Non-trainable params: 0\n",
      "__________________________________________________________________________________________________\n"
     ]
    }
   ],
   "source": [
    "#input Layer\n",
    "input_layer = Input(shape=(input_dim, ))\n",
    "sample_weights = Input(shape=(1, ))\n",
    "#Encoder\n",
    "encoder = tf.keras.layers.Dense(encoding_dim, activation=\"sigmoid\",                                \n",
    "activity_regularizer=tf.keras.regularizers.l2(learning_rate))(input_layer)\n",
    "encoder=tf.keras.layers.Dropout(0.2)(encoder)\n",
    "encoder = tf.keras.layers.Dense(hidden_dim_1, activation='relu')(encoder)\n",
    "encoder = tf.keras.layers.Dense(hidden_dim_2, activation=tf.nn.leaky_relu)(encoder)\n",
    "# Decoder\n",
    "decoder = tf.keras.layers.Dense(hidden_dim_1, activation='relu')(encoder)\n",
    "decoder=tf.keras.layers.Dropout(0.2)(decoder)\n",
    "decoder = tf.keras.layers.Dense(encoding_dim, activation='relu')(decoder)\n",
    "decoder = tf.keras.layers.Dense(input_dim, activation='sigmoid')(decoder)\n",
    "#Autoencoder\n",
    "autoencoder = tf.keras.Model(inputs=[input_layer, sample_weights], outputs=decoder)\n",
    "autoencoder.summary()"
   ]
  },
  {
   "cell_type": "code",
   "execution_count": 11,
   "id": "correct-barcelona",
   "metadata": {},
   "outputs": [],
   "source": [
    "cp = tf.keras.callbacks.ModelCheckpoint(filepath=\"autoencoder_fraud.h5\",\n",
    "                               mode='min', monitor='val_loss', verbose=2, save_best_only=True)\n",
    "# define our early stopping\n",
    "early_stop = tf.keras.callbacks.EarlyStopping(\n",
    "    monitor='val_loss',\n",
    "    min_delta=0.0001,\n",
    "    patience=20,\n",
    "    verbose=1, \n",
    "    mode='min',\n",
    "    restore_best_weights=True\n",
    ")"
   ]
  },
  {
   "cell_type": "code",
   "execution_count": 12,
   "id": "stopped-supervisor",
   "metadata": {},
   "outputs": [],
   "source": [
    "opt = Adam(lr=0.001)\n",
    "autoencoder.compile(optimizer=opt, loss=decorr(input_layer[:,15], decoder[:,15], sample_weights[:,0],100))"
   ]
  },
  {
   "cell_type": "code",
   "execution_count": 13,
   "id": "outstanding-insured",
   "metadata": {
    "scrolled": true
   },
   "outputs": [
    {
     "name": "stdout",
     "output_type": "stream",
     "text": [
      "Train on 90270 samples, validate on 10030 samples\n",
      "Epoch 1/10\n",
      "89500/90270 [============================>.] - ETA: 0s - loss: 0.5218"
     ]
    },
    {
     "name": "stderr",
     "output_type": "stream",
     "text": [
      "/home/thiago/anaconda3/lib/python3.8/site-packages/tensorflow/python/keras/engine/training.py:2325: UserWarning: `Model.state_updates` will be removed in a future version. This property should not be used in TensorFlow 2.0, as `updates` are applied automatically.\n",
      "  warnings.warn('`Model.state_updates` will be removed in a future version. '\n"
     ]
    },
    {
     "name": "stdout",
     "output_type": "stream",
     "text": [
      "\n",
      "Epoch 00001: val_loss improved from inf to 0.37680, saving model to autoencoder_fraud.h5\n",
      "90270/90270 [==============================] - 7s 77us/sample - loss: 0.5201 - val_loss: 0.3768\n",
      "Epoch 2/10\n",
      "90000/90270 [============================>.] - ETA: 0s - loss: 0.2512\n",
      "Epoch 00002: val_loss improved from 0.37680 to 0.19214, saving model to autoencoder_fraud.h5\n",
      "90270/90270 [==============================] - 4s 47us/sample - loss: 0.2511 - val_loss: 0.1921\n",
      "Epoch 3/10\n",
      "89500/90270 [============================>.] - ETA: 0s - loss: -0.0780\n",
      "Epoch 00003: val_loss improved from 0.19214 to -1.49988, saving model to autoencoder_fraud.h5\n",
      "90270/90270 [==============================] - 4s 48us/sample - loss: -0.0907 - val_loss: -1.4999\n",
      "Epoch 4/10\n",
      "89500/90270 [============================>.] - ETA: 0s - loss: -19.2574\n",
      "Epoch 00004: val_loss improved from -1.49988 to -63.26173, saving model to autoencoder_fraud.h5\n",
      "90270/90270 [==============================] - 4s 48us/sample - loss: -19.5056 - val_loss: -63.2617\n",
      "Epoch 5/10\n",
      "90000/90270 [============================>.] - ETA: 0s - loss: -192.4537\n",
      "Epoch 00005: val_loss improved from -63.26173 to -413.92502, saving model to autoencoder_fraud.h5\n",
      "90270/90270 [==============================] - 5s 50us/sample - loss: -193.3770 - val_loss: -413.9250\n",
      "Epoch 6/10\n",
      "90000/90270 [============================>.] - ETA: 0s - loss: -822.3645\n",
      "Epoch 00006: val_loss improved from -413.92502 to -1440.46862, saving model to autoencoder_fraud.h5\n",
      "90270/90270 [==============================] - 4s 49us/sample - loss: -823.7808 - val_loss: -1440.4686\n",
      "Epoch 7/10\n",
      "89500/90270 [============================>.] - ETA: 0s - loss: -2348.2039\n",
      "Epoch 00007: val_loss improved from -1440.46862 to -3655.73380, saving model to autoencoder_fraud.h5\n",
      "90270/90270 [==============================] - 4s 49us/sample - loss: -2359.0782 - val_loss: -3655.7338\n",
      "Epoch 8/10\n",
      "89500/90270 [============================>.] - ETA: 0s - loss: -5317.7556\n",
      "Epoch 00008: val_loss improved from -3655.73380 to -7680.19905, saving model to autoencoder_fraud.h5\n",
      "90270/90270 [==============================] - 4s 49us/sample - loss: -5328.2469 - val_loss: -7680.1991\n",
      "Epoch 9/10\n",
      "89500/90270 [============================>.] - ETA: 0s - loss: -10418.4825\n",
      "Epoch 00009: val_loss improved from -7680.19905 to -14258.42644, saving model to autoencoder_fraud.h5\n",
      "90270/90270 [==============================] - 5s 52us/sample - loss: -10451.0586 - val_loss: -14258.4264\n",
      "Epoch 10/10\n",
      "90000/90270 [============================>.] - ETA: 0s - loss: -18442.4230\n",
      "Epoch 00010: val_loss improved from -14258.42644 to -24191.89357, saving model to autoencoder_fraud.h5\n",
      "90270/90270 [==============================] - 5s 53us/sample - loss: -18457.8703 - val_loss: -24191.8936\n"
     ]
    }
   ],
   "source": [
    "Train = [data, np.ones(len(data))]\n",
    "\n",
    "history = autoencoder.fit(x = Train, y = data,\n",
    "                    epochs=nb_epoch,\n",
    "                    batch_size=batch_size,\n",
    "                    shuffle=True,\n",
    "                    validation_split=0.1,\n",
    "                    verbose=1,\n",
    "                    callbacks=[cp, early_stop]\n",
    "                    ).history"
   ]
  },
  {
   "cell_type": "code",
   "execution_count": 14,
   "id": "forward-thomson",
   "metadata": {},
   "outputs": [
    {
     "data": {
      "image/png": "[encoded data removed]",
      "text/plain": [
       "<Figure size 640x480 with 1 Axes>"
      ]
     },
     "metadata": {},
     "output_type": "display_data"
    }
   ],
   "source": [
    "plt.plot(history['loss'], linewidth=2, label='Train')\n",
    "plt.plot(history['val_loss'], linewidth=2, label='Test')\n",
    "plt.legend(loc='upper right')\n",
    "plt.title('Model loss')\n",
    "plt.ylabel('Loss')\n",
    "plt.xlabel('Epoch')\n",
    "#plt.ylim(ymin=0.70,ymax=1)\n",
    "plt.show()"
   ]
  },
  {
   "cell_type": "code",
   "execution_count": 15,
   "id": "daily-brass",
   "metadata": {},
   "outputs": [
    {
     "ename": "NameError",
     "evalue": "name 'test_labels' is not defined",
     "output_type": "error",
     "traceback": [
      "\u001b[0;31m---------------------------------------------------------------------------\u001b[0m",
      "\u001b[0;31mNameError\u001b[0m                                 Traceback (most recent call last)",
      "\u001b[0;32m<ipython-input-15-b0a01d47de5c>\u001b[0m in \u001b[0;36m<module>\u001b[0;34m\u001b[0m\n\u001b[1;32m      2\u001b[0m \u001b[0mmse\u001b[0m \u001b[0;34m=\u001b[0m \u001b[0mnp\u001b[0m\u001b[0;34m.\u001b[0m\u001b[0mmean\u001b[0m\u001b[0;34m(\u001b[0m\u001b[0mnp\u001b[0m\u001b[0;34m.\u001b[0m\u001b[0mpower\u001b[0m\u001b[0;34m(\u001b[0m\u001b[0mtest_data\u001b[0m \u001b[0;34m-\u001b[0m \u001b[0mtest_x_predictions\u001b[0m\u001b[0;34m,\u001b[0m \u001b[0;36m2\u001b[0m\u001b[0;34m)\u001b[0m\u001b[0;34m,\u001b[0m \u001b[0maxis\u001b[0m\u001b[0;34m=\u001b[0m\u001b[0;36m1\u001b[0m\u001b[0;34m)\u001b[0m\u001b[0;34m\u001b[0m\u001b[0;34m\u001b[0m\u001b[0m\n\u001b[1;32m      3\u001b[0m error_df = pd.DataFrame({'Reconstruction_error': mse,\n\u001b[0;32m----> 4\u001b[0;31m                         'True_class': test_labels})\n\u001b[0m",
      "\u001b[0;31mNameError\u001b[0m: name 'test_labels' is not defined"
     ]
    }
   ],
   "source": [
    "test_x_predictions = autoencoder.predict([test_data,np.ones(len(test_data))])\n",
    "mse = np.mean(np.power(test_data - test_x_predictions, 2), axis=1)\n",
    "error_df = pd.DataFrame({'Reconstruction_error': mse,\n",
    "                        'True_class': test_labels})"
   ]
  },
  {
   "cell_type": "code",
   "execution_count": null,
   "id": "ecological-passenger",
   "metadata": {},
   "outputs": [],
   "source": [
    "groups = error_df.groupby('True_class')\n",
    "fig, ax = plt.subplots()\n",
    "for name, group in groups:\n",
    "    ax.plot(group.index, group.Reconstruction_error, marker='o', ms=3.5, linestyle='',\n",
    "            label= \"Fraud\" if name == 1 else \"Normal\")\n",
    "ax.legend()\n",
    "plt.title(\"Reconstruction error for normal and fraud data\")\n",
    "plt.ylabel(\"Reconstruction error\")\n",
    "plt.xlabel(\"Data point index\")\n",
    "plt.show()"
   ]
  },
  {
   "cell_type": "code",
   "execution_count": null,
   "id": "developmental-traffic",
   "metadata": {},
   "outputs": [],
   "source": [
    "threshold_fixed =0.13\n",
    "pred_y = [1 if e > threshold_fixed else 0 for e in error_df.Reconstruction_error.values]\n",
    "error_df['pred'] =pred_y\n",
    "conf_matrix = confusion_matrix(error_df.True_class, pred_y)\n",
    "plt.figure(figsize=(4, 4))\n",
    "sns.heatmap(conf_matrix, xticklabels=LABELS, yticklabels=LABELS, annot=True, fmt=\"d\");\n",
    "plt.title(\"Confusion matrix\")\n",
    "plt.ylabel('True class')\n",
    "plt.xlabel('Predicted class')\n",
    "plt.show()\n",
    "# print Accuracy, precision and recall\n",
    "print(\" Accuracy: \",accuracy_score(error_df['True_class'], error_df['pred']))\n",
    "print(\" Recall: \",recall_score(error_df['True_class'], error_df['pred']))\n",
    "print(\" Precision: \",precision_score(error_df['True_class'], error_df['pred']))\n"
   ]
  },
  {
   "cell_type": "code",
   "execution_count": null,
   "id": "sticky-ecuador",
   "metadata": {},
   "outputs": [],
   "source": []
  }
 ],
 "metadata": {
  "kernelspec": {
   "display_name": "Python 3",
   "language": "python",
   "name": "python3"
  },
  "language_info": {
   "codemirror_mode": {
    "name": "ipython",
    "version": 3
   },
   "file_extension": ".py",
   "mimetype": "text/x-python",
   "name": "python",
   "nbconvert_exporter": "python",
   "pygments_lexer": "ipython3",
   "version": "3.8.8"
  }
 },
 "nbformat": 4,
 "nbformat_minor": 5
}
