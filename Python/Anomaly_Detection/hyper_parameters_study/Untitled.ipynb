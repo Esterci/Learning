{
 "cells": [
  {
   "cell_type": "code",
   "execution_count": 5,
   "id": "25ca0b6a",
   "metadata": {},
   "outputs": [],
   "source": [
    "import pandas as pd\n",
    "import numpy as np\n",
    "import tensorflow as tf\n",
    "import matplotlib.pyplot as plt\n",
    "import seaborn as sns\n",
    "from sklearn.model_selection import train_test_split\n",
    "from sklearn.preprocessing import StandardScaler,normalize, MinMaxScaler\n",
    "from sklearn.metrics import confusion_matrix, recall_score, accuracy_score, precision_score\n",
    "from keras.layers import Dense, Input, Concatenate, Flatten, BatchNormalization, Dropout, LeakyReLU\n",
    "from keras.models import Sequential, Model\n",
    "from keras.losses import binary_crossentropy\n",
    "from Disco_tensor_flow import distance_corr\n",
    "from keras.optimizers import Adam\n",
    "from sklearn.metrics import roc_auc_score"
   ]
  },
  {
   "cell_type": "code",
   "execution_count": 6,
   "id": "362e11e3",
   "metadata": {},
   "outputs": [],
   "source": [
    "# define new loss with distance decorrelation\n",
    "def decorr(var_1, var_2, weights,kappa):\n",
    "\n",
    "    def loss(y_true, y_pred):\n",
    "        #return binary_crossentropy(y_true, y_pred) + distance_corr(var_1, var_2, weights)\n",
    "        #return distance_corr(var_1, var_2, weights)\n",
    "        return binary_crossentropy(y_true, y_pred) + kappa * distance_corr(var_1, var_2, weights,power=2)\n",
    "        #return binary_crossentropy(y_true, y_pred)\n",
    "\n",
    "    return loss"
   ]
  },
  {
   "cell_type": "code",
   "execution_count": 2,
   "id": "aa29d058",
   "metadata": {},
   "outputs": [],
   "source": [
    "from datetime import datetime\n",
    "dateTimeObj = datetime.now()\n",
    "timestampStr = dateTimeObj.strftime(\"%d-%b-%Y-%H.%M.%S\")"
   ]
  },
  {
   "cell_type": "code",
   "execution_count": 4,
   "id": "6fc3090b",
   "metadata": {},
   "outputs": [
    {
     "data": {
      "text/plain": [
       "'19-Aug-2021-15.25.55'"
      ]
     },
     "execution_count": 4,
     "metadata": {},
     "output_type": "execute_result"
    }
   ],
   "source": [
    "timestampStr"
   ]
  },
  {
   "cell_type": "code",
   "execution_count": null,
   "id": "50fca1a1",
   "metadata": {},
   "outputs": [],
   "source": []
  }
 ],
 "metadata": {
  "kernelspec": {
   "display_name": "Python 3",
   "language": "python",
   "name": "python3"
  },
  "language_info": {
   "codemirror_mode": {
    "name": "ipython",
    "version": 3
   },
   "file_extension": ".py",
   "mimetype": "text/x-python",
   "name": "python",
   "nbconvert_exporter": "python",
   "pygments_lexer": "ipython3",
   "version": "3.8.8"
  }
 },
 "nbformat": 4,
 "nbformat_minor": 5
}
