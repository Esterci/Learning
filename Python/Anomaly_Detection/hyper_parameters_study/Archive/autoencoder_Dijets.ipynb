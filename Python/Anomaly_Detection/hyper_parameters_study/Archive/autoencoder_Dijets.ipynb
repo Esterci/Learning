{
 "cells": [
  {
   "cell_type": "markdown",
   "id": "oriented-startup",
   "metadata": {},
   "source": [
    "# Implementation of Anomaly detection using Autoencoders\n",
    "Dataset used here is Credit Card Fraud Detection from Kaggle.\n",
    "\n",
    "### Import required libraries"
   ]
  },
  {
   "cell_type": "code",
   "execution_count": 1,
   "id": "earlier-conservative",
   "metadata": {
    "scrolled": true
   },
   "outputs": [],
   "source": [
    "from tensorflow.python.framework.ops import disable_eager_execution\n",
    "disable_eager_execution()\n",
    "import pandas as pd\n",
    "import numpy as np\n",
    "import tensorflow as tf\n",
    "import matplotlib.pyplot as plt\n",
    "import seaborn as sns\n",
    "from sklearn.model_selection import train_test_split\n",
    "from sklearn.preprocessing import StandardScaler,normalize, MinMaxScaler\n",
    "from sklearn.metrics import confusion_matrix, recall_score, accuracy_score, precision_score\n",
    "from keras.layers import Dense, Input, Concatenate, Flatten, BatchNormalization, Dropout, LeakyReLU\n",
    "from keras.models import Sequential, Model\n",
    "from keras.losses import binary_crossentropy\n",
    "from Disco_tensor_flow import distance_corr\n",
    "from keras.optimizers import Adam\n",
    "from sklearn.metrics import roc_auc_score"
   ]
  },
  {
   "cell_type": "code",
   "execution_count": 2,
   "id": "driving-lease",
   "metadata": {},
   "outputs": [],
   "source": [
    "# define new loss with distance decorrelation\n",
    "def decorr(var_1, var_2, weights,kappa):\n",
    "\n",
    "    def loss(y_true, y_pred):\n",
    "        #return binary_crossentropy(y_true, y_pred) + distance_corr(var_1, var_2, weights)\n",
    "        #return distance_corr(var_1, var_2, weights)\n",
    "        return binary_crossentropy(y_true, y_pred) + kappa * distance_corr(var_1, var_2, weights,power=2)\n",
    "        #return binary_crossentropy(y_true, y_pred)\n",
    "\n",
    "    return loss"
   ]
  },
  {
   "cell_type": "markdown",
   "id": "alert-niger",
   "metadata": {},
   "source": [
    "### Read the dataset"
   ]
  },
  {
   "cell_type": "code",
   "execution_count": 3,
   "id": "c1979771",
   "metadata": {},
   "outputs": [
    {
     "name": "stdout",
     "output_type": "stream",
     "text": [
      "==== Commencing Initiation ====\n",
      "\n",
      ".Background Loaded...\n",
      ".Background shape: (543500, 21)\n",
      ".Signal Loaded...\n",
      ".Signal shape: (522467, 21)\n",
      "\n"
     ]
    }
   ],
   "source": [
    "##########################################################\n",
    "# ------------------------------------------------------ #\n",
    "# ----------------------- LOADING ---------------------- #\n",
    "# ------------------------------------------------------ #\n",
    "##########################################################\n",
    "# Firstly the model loads the background and signal data, \n",
    "# then it removes the attributes first string line, which \n",
    "# are the column names, in order to avoid NaN values in \n",
    "# the array.\n",
    "\n",
    "print('==== Commencing Initiation ====\\n')\n",
    "\n",
    "### Background\n",
    "b_name='/home/thiago/Documents/Data_Sets/LPC-anomaly-detection/Input_Background_1.csv'\n",
    "background = np.genfromtxt(b_name, delimiter=',')\n",
    "background = background[1:,:]\n",
    "print(\".Background Loaded...\" )\n",
    "print(\".Background shape: {}\".format(background.shape))\n",
    "\n",
    "### Signal\n",
    "s_name='/home/thiago/Documents/Data_Sets/LPC-anomaly-detection/Input_Signal_1.csv'\n",
    "signal = np.genfromtxt(s_name, delimiter=',')\n",
    "signal = signal[1:,:]\n",
    "print(\".Signal Loaded...\")\n",
    "print(\".Signal shape: {}\\n\".format(signal.shape))"
   ]
  },
  {
   "cell_type": "code",
   "execution_count": 4,
   "id": "f771da92",
   "metadata": {},
   "outputs": [
    {
     "name": "stdout",
     "output_type": "stream",
     "text": [
      "\n",
      "          ==== Initiation Complete ====\n",
      "\n",
      "=*==*==*==*==*==*==*==*==*==*==*==*==*==*==*==*==*=\n",
      "\n",
      "      ==== Commencing Pre-processing ====\n",
      "\n",
      ".Normalizing Data\n",
      ".Creating Labels\n",
      "\n",
      "      ==== Pre-processing Complete ====\n",
      "\n",
      ".Complete data shape: (100000, 21)\n",
      ".Train data shape: (70000, 21)\n",
      ".Test data shape: (30000, 21)\n",
      "   .Test Background shape: (29700, 21)\n",
      "   .Test Signal shape: (300, 21)\n",
      "=*==*==*==*==*==*==*==*==*==*==*==*==*==*==*==*==*=\n"
     ]
    }
   ],
   "source": [
    "##########################################################\n",
    "# ------------------------------------------------------ #\n",
    "# --------------------- INITIATION --------------------- #\n",
    "# ------------------------------------------------------ #\n",
    "##########################################################\n",
    "\n",
    "# Number of events\n",
    "total = 100000\n",
    "\n",
    "# Percentage of background samples on the testing phase\n",
    "background_percent = 0.99\n",
    "\n",
    "# Percentage of samples on the training phase\n",
    "test_size = 0.3\n",
    "\n",
    "print('\\n          ==== Initiation Complete ====\\n')\n",
    "print('=*='*17 )\n",
    "print('\\n      ==== Commencing Pre-processing ====\\n')\n",
    "\n",
    "# Percentage of background samples to divide the data-set\n",
    "dat_set_percent = total/len(background)\n",
    "\n",
    "# Reducing background samples\n",
    "_,reduced_background = train_test_split(background, test_size=dat_set_percent)\n",
    "\n",
    "# Deviding train and test background\n",
    "\n",
    "train_data, background_test = train_test_split(reduced_background, test_size=test_size)\n",
    "\n",
    "# Iserting the correct number of signal in streaming\n",
    "\n",
    "n_signal_samples = int(len(background_test)*(1-background_percent))\n",
    "\n",
    "_,background_test = train_test_split(background_test, test_size=background_percent)\n",
    "\n",
    "_,signal_test = train_test_split(signal, test_size=n_signal_samples/len(signal))\n",
    "\n",
    "# Concatenating Signal and the Background sub-sets\n",
    "\n",
    "test_data = np.vstack((background_test,signal_test))\n",
    "\n",
    "data = np.vstack((train_data,test_data))\n",
    "\n",
    "# Normalize Data\n",
    "print('.Normalizing Data')\n",
    "data = normalize(data,norm='max',axis=0)\n",
    "\n",
    "# Creating Labels\n",
    "print('.Creating Labels')\n",
    "\n",
    "labels =np.ones((len(data)))\n",
    "labels[:len(reduced_background)] = 0\n",
    "\n",
    "test_labels =np.ones((len(test_data)))\n",
    "test_labels[:len(background_test)] = 0\n",
    "\n",
    "print('\\n      ==== Pre-processing Complete ====\\n')\n",
    "print(\".Complete data shape: {}\".format(data.shape))\n",
    "print(\".Train data shape: {}\".format(train_data.shape))\n",
    "print(\".Test data shape: {}\".format(test_data.shape))\n",
    "print(\"   .Test Background shape: {}\".format(background_test.shape))\n",
    "print(\"   .Test Signal shape: {}\".format(signal_test.shape))\n",
    "\n",
    "print('=*='*17 )"
   ]
  },
  {
   "cell_type": "code",
   "execution_count": 5,
   "id": "closing-evanescence",
   "metadata": {},
   "outputs": [],
   "source": [
    "attributes = np.array([\"px1\",\"py1\",\"pz1\",\"E1\",\"eta1\",\"phi1\",\"pt1\",\"px2\",\"py2\",\"pz2\",\"E2\",\"eta2\",\n",
    "            \"phi2\",\"pt2\",\"Delta_R\",\"M12\",\"MET\",\"S\",\"C\",\"HT\",\"A\"])\n",
    "\n",
    "test_df = pd.DataFrame(test_data,columns = attributes)"
   ]
  },
  {
   "cell_type": "markdown",
   "id": "silent-wealth",
   "metadata": {},
   "source": [
    "# Exploratory Data Analysis"
   ]
  },
  {
   "cell_type": "code",
   "execution_count": 6,
   "id": "medium-incidence",
   "metadata": {},
   "outputs": [
    {
     "data": {
      "text/html": [
       "<div>\n",
       "<style scoped>\n",
       "    .dataframe tbody tr th:only-of-type {\n",
       "        vertical-align: middle;\n",
       "    }\n",
       "\n",
       "    .dataframe tbody tr th {\n",
       "        vertical-align: top;\n",
       "    }\n",
       "\n",
       "    .dataframe thead th {\n",
       "        text-align: right;\n",
       "    }\n",
       "</style>\n",
       "<table border=\"1\" class=\"dataframe\">\n",
       "  <thead>\n",
       "    <tr style=\"text-align: right;\">\n",
       "      <th></th>\n",
       "      <th>px1</th>\n",
       "      <th>py1</th>\n",
       "      <th>pz1</th>\n",
       "      <th>E1</th>\n",
       "      <th>eta1</th>\n",
       "      <th>phi1</th>\n",
       "      <th>pt1</th>\n",
       "      <th>px2</th>\n",
       "      <th>py2</th>\n",
       "      <th>pz2</th>\n",
       "      <th>...</th>\n",
       "      <th>eta2</th>\n",
       "      <th>phi2</th>\n",
       "      <th>pt2</th>\n",
       "      <th>Delta_R</th>\n",
       "      <th>M12</th>\n",
       "      <th>MET</th>\n",
       "      <th>S</th>\n",
       "      <th>C</th>\n",
       "      <th>HT</th>\n",
       "      <th>A</th>\n",
       "    </tr>\n",
       "  </thead>\n",
       "  <tbody>\n",
       "    <tr>\n",
       "      <th>0</th>\n",
       "      <td>125.687760</td>\n",
       "      <td>283.782070</td>\n",
       "      <td>178.929410</td>\n",
       "      <td>360.382390</td>\n",
       "      <td>0.548572</td>\n",
       "      <td>1.153860</td>\n",
       "      <td>310.370240</td>\n",
       "      <td>-84.070877</td>\n",
       "      <td>-156.294920</td>\n",
       "      <td>-30.505930</td>\n",
       "      <td>...</td>\n",
       "      <td>-0.171057</td>\n",
       "      <td>-2.064302</td>\n",
       "      <td>177.471160</td>\n",
       "      <td>3.148370</td>\n",
       "      <td>505.629700</td>\n",
       "      <td>133.181300</td>\n",
       "      <td>0.030580</td>\n",
       "      <td>0.906543</td>\n",
       "      <td>621.022710</td>\n",
       "      <td>-5.584525e-09</td>\n",
       "    </tr>\n",
       "    <tr>\n",
       "      <th>1</th>\n",
       "      <td>-124.062630</td>\n",
       "      <td>184.170563</td>\n",
       "      <td>-123.752403</td>\n",
       "      <td>255.275925</td>\n",
       "      <td>-0.531862</td>\n",
       "      <td>2.163604</td>\n",
       "      <td>222.059296</td>\n",
       "      <td>83.008987</td>\n",
       "      <td>-175.341415</td>\n",
       "      <td>-69.499206</td>\n",
       "      <td>...</td>\n",
       "      <td>-0.350996</td>\n",
       "      <td>-1.128643</td>\n",
       "      <td>193.997696</td>\n",
       "      <td>2.996402</td>\n",
       "      <td>430.647522</td>\n",
       "      <td>8.384367</td>\n",
       "      <td>0.249245</td>\n",
       "      <td>0.904835</td>\n",
       "      <td>424.441345</td>\n",
       "      <td>1.127474e-08</td>\n",
       "    </tr>\n",
       "    <tr>\n",
       "      <th>2</th>\n",
       "      <td>194.513870</td>\n",
       "      <td>179.415500</td>\n",
       "      <td>-326.427760</td>\n",
       "      <td>420.260280</td>\n",
       "      <td>-1.037279</td>\n",
       "      <td>0.745042</td>\n",
       "      <td>264.623440</td>\n",
       "      <td>-168.476620</td>\n",
       "      <td>-200.777270</td>\n",
       "      <td>-1386.671500</td>\n",
       "      <td>...</td>\n",
       "      <td>-2.367901</td>\n",
       "      <td>-2.268941</td>\n",
       "      <td>262.099000</td>\n",
       "      <td>3.294640</td>\n",
       "      <td>648.131770</td>\n",
       "      <td>27.001101</td>\n",
       "      <td>0.068310</td>\n",
       "      <td>0.287585</td>\n",
       "      <td>553.723570</td>\n",
       "      <td>4.158531e-11</td>\n",
       "    </tr>\n",
       "    <tr>\n",
       "      <th>3</th>\n",
       "      <td>94.822823</td>\n",
       "      <td>227.701004</td>\n",
       "      <td>-326.424011</td>\n",
       "      <td>409.939850</td>\n",
       "      <td>-1.092637</td>\n",
       "      <td>1.176202</td>\n",
       "      <td>246.655869</td>\n",
       "      <td>-141.322144</td>\n",
       "      <td>-176.803085</td>\n",
       "      <td>112.698166</td>\n",
       "      <td>...</td>\n",
       "      <td>0.479340</td>\n",
       "      <td>-2.245122</td>\n",
       "      <td>226.343277</td>\n",
       "      <td>3.265174</td>\n",
       "      <td>624.959045</td>\n",
       "      <td>9.863672</td>\n",
       "      <td>0.074360</td>\n",
       "      <td>0.714735</td>\n",
       "      <td>482.862823</td>\n",
       "      <td>-1.607689e-08</td>\n",
       "    </tr>\n",
       "    <tr>\n",
       "      <th>4</th>\n",
       "      <td>-17.082302</td>\n",
       "      <td>193.215332</td>\n",
       "      <td>380.677429</td>\n",
       "      <td>428.159210</td>\n",
       "      <td>1.426769</td>\n",
       "      <td>1.658978</td>\n",
       "      <td>193.968994</td>\n",
       "      <td>47.911816</td>\n",
       "      <td>-180.373337</td>\n",
       "      <td>-119.555115</td>\n",
       "      <td>...</td>\n",
       "      <td>-0.603331</td>\n",
       "      <td>-1.311166</td>\n",
       "      <td>186.628189</td>\n",
       "      <td>3.597646</td>\n",
       "      <td>595.994507</td>\n",
       "      <td>56.828445</td>\n",
       "      <td>0.069660</td>\n",
       "      <td>0.587040</td>\n",
       "      <td>437.425629</td>\n",
       "      <td>-2.083241e-10</td>\n",
       "    </tr>\n",
       "  </tbody>\n",
       "</table>\n",
       "<p>5 rows × 21 columns</p>\n",
       "</div>"
      ],
      "text/plain": [
       "          px1         py1         pz1          E1      eta1      phi1  \\\n",
       "0  125.687760  283.782070  178.929410  360.382390  0.548572  1.153860   \n",
       "1 -124.062630  184.170563 -123.752403  255.275925 -0.531862  2.163604   \n",
       "2  194.513870  179.415500 -326.427760  420.260280 -1.037279  0.745042   \n",
       "3   94.822823  227.701004 -326.424011  409.939850 -1.092637  1.176202   \n",
       "4  -17.082302  193.215332  380.677429  428.159210  1.426769  1.658978   \n",
       "\n",
       "          pt1         px2         py2          pz2  ...      eta2      phi2  \\\n",
       "0  310.370240  -84.070877 -156.294920   -30.505930  ... -0.171057 -2.064302   \n",
       "1  222.059296   83.008987 -175.341415   -69.499206  ... -0.350996 -1.128643   \n",
       "2  264.623440 -168.476620 -200.777270 -1386.671500  ... -2.367901 -2.268941   \n",
       "3  246.655869 -141.322144 -176.803085   112.698166  ...  0.479340 -2.245122   \n",
       "4  193.968994   47.911816 -180.373337  -119.555115  ... -0.603331 -1.311166   \n",
       "\n",
       "          pt2   Delta_R         M12         MET         S         C  \\\n",
       "0  177.471160  3.148370  505.629700  133.181300  0.030580  0.906543   \n",
       "1  193.997696  2.996402  430.647522    8.384367  0.249245  0.904835   \n",
       "2  262.099000  3.294640  648.131770   27.001101  0.068310  0.287585   \n",
       "3  226.343277  3.265174  624.959045    9.863672  0.074360  0.714735   \n",
       "4  186.628189  3.597646  595.994507   56.828445  0.069660  0.587040   \n",
       "\n",
       "           HT             A  \n",
       "0  621.022710 -5.584525e-09  \n",
       "1  424.441345  1.127474e-08  \n",
       "2  553.723570  4.158531e-11  \n",
       "3  482.862823 -1.607689e-08  \n",
       "4  437.425629 -2.083241e-10  \n",
       "\n",
       "[5 rows x 21 columns]"
      ]
     },
     "execution_count": 6,
     "metadata": {},
     "output_type": "execute_result"
    }
   ],
   "source": [
    "test_df.head()"
   ]
  },
  {
   "cell_type": "markdown",
   "id": "thrown-marketing",
   "metadata": {},
   "source": [
    "### Set the training parameter values"
   ]
  },
  {
   "cell_type": "markdown",
   "id": "eleven-slope",
   "metadata": {},
   "source": [
    "Plotting the test data points and their respective reconstruction error sets a threshold value to visualize if the threshold value needs to be adjusted."
   ]
  },
  {
   "cell_type": "code",
   "execution_count": 12,
   "id": "1168d9cb",
   "metadata": {},
   "outputs": [],
   "source": [
    "# Defining hyper-parameters range\n",
    "\n",
    "batch_size = 500\n",
    "\n",
    "encoding_dim = 8\n",
    "\n",
    "learning_rate = 0.001"
   ]
  },
  {
   "cell_type": "code",
   "execution_count": 13,
   "id": "adapted-thing",
   "metadata": {},
   "outputs": [],
   "source": [
    "nb_epoch = 150\n",
    "input_dim = train_data.shape[1]\n",
    "hidden_dim_1 = int(encoding_dim / 2)\n",
    "hidden_dim_2 = int(hidden_dim_1 / 2)"
   ]
  },
  {
   "cell_type": "code",
   "execution_count": 14,
   "id": "exciting-documentation",
   "metadata": {},
   "outputs": [],
   "source": [
    "#input Layer\n",
    "input_layer = Input(shape=(input_dim, ))\n",
    "sample_weights = Input(shape=(1, ))\n",
    "#Encoder\n",
    "encoder = tf.keras.layers.Dense(encoding_dim, activation=\"sigmoid\",                                \n",
    "activity_regularizer=tf.keras.regularizers.l2(learning_rate))(input_layer)\n",
    "encoder=tf.keras.layers.Dropout(0.2)(encoder)\n",
    "encoder = tf.keras.layers.Dense(hidden_dim_1, activation='relu')(encoder)\n",
    "encoder = tf.keras.layers.Dense(hidden_dim_2, activation=tf.nn.leaky_relu)(encoder)\n",
    "# Decoder\n",
    "decoder = tf.keras.layers.Dense(hidden_dim_1, activation='relu')(encoder)\n",
    "decoder=tf.keras.layers.Dropout(0.2)(decoder)\n",
    "decoder = tf.keras.layers.Dense(encoding_dim, activation='relu')(decoder)\n",
    "decoder = tf.keras.layers.Dense(input_dim, activation='sigmoid')(decoder)\n",
    "#Autoencoder\n",
    "autoencoder = tf.keras.Model(inputs=[input_layer, sample_weights], outputs=decoder)"
   ]
  },
  {
   "cell_type": "code",
   "execution_count": 15,
   "id": "correct-barcelona",
   "metadata": {},
   "outputs": [],
   "source": [
    "cp = tf.keras.callbacks.ModelCheckpoint(filepath=\"autoencoder.h5\",\n",
    "                                        mode='min', \n",
    "                                        monitor='val_loss', \n",
    "                                        verbose=2, \n",
    "                                        save_best_only=True)\n",
    "\n",
    "early_stop = tf.keras.callbacks.EarlyStopping(\n",
    "    monitor='val_loss',\n",
    "    min_delta=0.0001,\n",
    "    patience=20,\n",
    "    verbose=1, \n",
    "    mode='min',\n",
    "    restore_best_weights=True)"
   ]
  },
  {
   "cell_type": "code",
   "execution_count": 18,
   "id": "stopped-supervisor",
   "metadata": {},
   "outputs": [],
   "source": [
    "opt = Adam(lr=0.001)\n",
    "autoencoder.compile(optimizer=opt, loss=decorr(input_layer[:,15], \n",
    "                    decoder[:,15], sample_weights[:,0],600))"
   ]
  },
  {
   "cell_type": "code",
   "execution_count": 25,
   "id": "outstanding-insured",
   "metadata": {
    "scrolled": true
   },
   "outputs": [
    {
     "name": "stdout",
     "output_type": "stream",
     "text": [
      "Train on 90270 samples, validate on 10030 samples\n",
      "Epoch 1/10\n",
      "90270/90270 [==============================] - ETA: 0s - loss: 0.6305"
     ]
    },
    {
     "name": "stderr",
     "output_type": "stream",
     "text": [
      "/home/thiago/anaconda3/lib/python3.8/site-packages/tensorflow/python/keras/engine/training.py:2325: UserWarning: `Model.state_updates` will be removed in a future version. This property should not be used in TensorFlow 2.0, as `updates` are applied automatically.\n",
      "  warnings.warn('`Model.state_updates` will be removed in a future version. '\n"
     ]
    },
    {
     "name": "stdout",
     "output_type": "stream",
     "text": [
      "\n",
      "Epoch 00001: val_loss improved from inf to 0.49206, saving model to autoencoder_fraud.h5\n",
      "90270/90270 [==============================] - 9s 98us/sample - loss: 0.6305 - val_loss: 0.4921\n",
      "Epoch 2/10\n",
      "90270/90270 [==============================] - ETA: 0s - loss: 0.3519\n",
      "Epoch 00002: val_loss improved from 0.49206 to 0.25308, saving model to autoencoder_fraud.h5\n",
      "90270/90270 [==============================] - 5s 57us/sample - loss: 0.3519 - val_loss: 0.2531\n",
      "Epoch 3/10\n",
      "90000/90270 [============================>.] - ETA: 0s - loss: 0.2642\n",
      "Epoch 00003: val_loss improved from 0.25308 to 0.20905, saving model to autoencoder_fraud.h5\n",
      "90270/90270 [==============================] - 6s 62us/sample - loss: 0.2641 - val_loss: 0.2091\n",
      "Epoch 4/10\n",
      "90270/90270 [==============================] - ETA: 0s - loss: 0.1819\n",
      "Epoch 00004: val_loss improved from 0.20905 to -0.04900, saving model to autoencoder_fraud.h5\n",
      "90270/90270 [==============================] - 6s 68us/sample - loss: 0.1819 - val_loss: -0.0490\n",
      "Epoch 5/10\n",
      "90270/90270 [==============================] - ETA: 0s - loss: -2.8075\n",
      "Epoch 00005: val_loss improved from -0.04900 to -9.70946, saving model to autoencoder_fraud.h5\n",
      "90270/90270 [==============================] - 5s 52us/sample - loss: -2.8075 - val_loss: -9.7095\n",
      "Epoch 6/10\n",
      "89500/90270 [============================>.] - ETA: 0s - loss: -32.1080\n",
      "Epoch 00006: val_loss improved from -9.70946 to -66.23534, saving model to autoencoder_fraud.h5\n",
      "90270/90270 [==============================] - 6s 67us/sample - loss: -32.3948 - val_loss: -66.2353\n",
      "Epoch 7/10\n",
      "89500/90270 [============================>.] - ETA: 0s - loss: -131.5081\n",
      "Epoch 00007: val_loss improved from -66.23534 to -220.37959, saving model to autoencoder_fraud.h5\n",
      "90270/90270 [==============================] - 6s 64us/sample - loss: -132.2261 - val_loss: -220.3796\n",
      "Epoch 8/10\n",
      "89500/90270 [============================>.] - ETA: 0s - loss: -356.9476\n",
      "Epoch 00008: val_loss improved from -220.37959 to -536.08170, saving model to autoencoder_fraud.h5\n",
      "90270/90270 [==============================] - 5s 52us/sample - loss: -358.3270 - val_loss: -536.0817\n",
      "Epoch 9/10\n",
      "90000/90270 [============================>.] - ETA: 0s - loss: -786.3439\n",
      "Epoch 00009: val_loss improved from -536.08170 to -1091.51335, saving model to autoencoder_fraud.h5\n",
      "90270/90270 [==============================] - 4s 48us/sample - loss: -787.0363 - val_loss: -1091.5134\n",
      "Epoch 10/10\n",
      "89500/90270 [============================>.] - ETA: 0s - loss: -1493.1970\n",
      "Epoch 00010: val_loss improved from -1091.51335 to -1970.71986, saving model to autoencoder_fraud.h5\n",
      "90270/90270 [==============================] - 5s 51us/sample - loss: -1496.5172 - val_loss: -1970.7199\n"
     ]
    }
   ],
   "source": [
    "Train = [train_data, np.ones(len(train_data))]\n",
    "\n",
    "history = autoencoder.fit(x = Train, y = train_data,\n",
    "                    epochs=nb_epoch,\n",
    "                    batch_size=batch_size,\n",
    "                    shuffle=True,\n",
    "                    validation_split=0.1,\n",
    "                    verbose=1,\n",
    "                    callbacks=[cp, early_stop]\n",
    "                    ).history"
   ]
  },
  {
   "cell_type": "code",
   "execution_count": 55,
   "id": "forward-thomson",
   "metadata": {},
   "outputs": [
    {
     "data": {
      "image/png": "[encoded data removed]",
      "text/plain": [
       "<Figure size 640x480 with 1 Axes>"
      ]
     },
     "metadata": {},
     "output_type": "display_data"
    }
   ],
   "source": [
    "plt.plot(history['loss'], linewidth=2, label='Train')\n",
    "plt.plot(history['val_loss'], linewidth=2, label='Test')\n",
    "plt.legend(loc='upper right')\n",
    "plt.title('Model loss')\n",
    "plt.ylabel('Loss')\n",
    "plt.xlabel('Epoch')\n",
    "plt.savefig('trabalho_11.png', bbox_inches='tight')"
   ]
  },
  {
   "cell_type": "code",
   "execution_count": 52,
   "id": "daily-brass",
   "metadata": {},
   "outputs": [
    {
     "name": "stderr",
     "output_type": "stream",
     "text": [
      "/home/thiago/anaconda3/lib/python3.8/site-packages/tensorflow/python/keras/engine/training.py:2325: UserWarning: `Model.state_updates` will be removed in a future version. This property should not be used in TensorFlow 2.0, as `updates` are applied automatically.\n",
      "  warnings.warn('`Model.state_updates` will be removed in a future version. '\n"
     ]
    }
   ],
   "source": [
    "test_x_predictions = autoencoder.predict([test_data,np.ones(len(test_data))])\n",
    "mse = np.mean(np.power(test_data - test_x_predictions, 2), axis=1)\n",
    "error_df = pd.DataFrame({'Reconstruction_error': mse,\n",
    "                        'Class': test_labels})"
   ]
  },
  {
   "cell_type": "code",
   "execution_count": 53,
   "id": "ecological-passenger",
   "metadata": {},
   "outputs": [
    {
     "data": {
      "image/png": "[encoded data removed]",
      "text/plain": [
       "<Figure size 640x480 with 1 Axes>"
      ]
     },
     "metadata": {},
     "output_type": "display_data"
    }
   ],
   "source": [
    "groups = error_df.groupby('Class')\n",
    "fig, ax = plt.subplots()\n",
    "for name, group in groups:\n",
    "    ax.plot(group.index, group.Reconstruction_error, marker='o', ms=3.5, linestyle='',\n",
    "            label= \"Signal\" if name == 1 else \"Background\")\n",
    "ax.legend()\n",
    "plt.title(\"Reconstruction error\")\n",
    "plt.ylabel(\"Reconstruction error\")\n",
    "plt.xlabel(\"Data point index\")\n",
    "plt.show()"
   ]
  },
  {
   "cell_type": "code",
   "execution_count": 9,
   "id": "c2bd23fb",
   "metadata": {},
   "outputs": [],
   "source": [
    "from datetime import datetime\n",
    "\n",
    "def time_stamp():\n",
    "    dateTimeObj = datetime.now()\n",
    "    timestampStr = dateTimeObj.strftime(\"%d-%b-%Y-%H.%M.%S\")\n",
    "    return timestampStr\n",
    "\n",
    "with open('readme.txt', 'w') as f:\n",
    "    f.write('Iteration 1 ==> ' + time_stamp())\n",
    "\n",
    "with open('readme.txt', 'a') as f:\n",
    "    f.writelines('\\n    . 1 of 300 combinations at ' + time_stamp())"
   ]
  },
  {
   "cell_type": "code",
   "execution_count": 10,
   "id": "d600fe2a",
   "metadata": {},
   "outputs": [],
   "source": [
    "with open('readme.txt', 'r') as f:\n",
    "    lines = f.readlines()\n",
    "\n",
    "with open('readme.txt', 'w') as f:\n",
    "    for line in lines:\n",
    "        if line.strip('\\n') != lines[-1]:\n",
    "            f.write(line)\n",
    "            f.writelines('    . 1 of 301 combinations at ' + time_stamp())"
   ]
  },
  {
   "cell_type": "code",
   "execution_count": null,
   "id": "fc35dd40",
   "metadata": {},
   "outputs": [],
   "source": []
  }
 ],
 "metadata": {
  "kernelspec": {
   "display_name": "Python 3",
   "language": "python",
   "name": "python3"
  },
  "language_info": {
   "codemirror_mode": {
    "name": "ipython",
    "version": 3
   },
   "file_extension": ".py",
   "mimetype": "text/x-python",
   "name": "python",
   "nbconvert_exporter": "python",
   "pygments_lexer": "ipython3",
   "version": "3.8.8"
  }
 },
 "nbformat": 4,
 "nbformat_minor": 5
}
