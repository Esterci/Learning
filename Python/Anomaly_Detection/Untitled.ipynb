{
 "cells": [
  {
   "cell_type": "markdown",
   "id": "imported-consciousness",
   "metadata": {},
   "source": [
    "### Let’s start the mission!m\n",
    "First, import the necessary packages"
   ]
  },
  {
   "cell_type": "code",
   "execution_count": 6,
   "id": "wrapped-peninsula",
   "metadata": {},
   "outputs": [],
   "source": [
    "import pandas as pd \n",
    "import numpy as np\n",
    "import matplotlib.pyplot as plt"
   ]
  },
  {
   "cell_type": "markdown",
   "id": "conscious-enclosure",
   "metadata": {},
   "source": [
    "Import the dataset. This is an excel dataset. Here training data and cross-validation data are stored in the separate sheets. So, let’s bring the training data."
   ]
  },
  {
   "cell_type": "code",
   "execution_count": 7,
   "id": "superb-enlargement",
   "metadata": {},
   "outputs": [
    {
     "data": {
      "text/html": [
       "<div>\n",
       "<style scoped>\n",
       "    .dataframe tbody tr th:only-of-type {\n",
       "        vertical-align: middle;\n",
       "    }\n",
       "\n",
       "    .dataframe tbody tr th {\n",
       "        vertical-align: top;\n",
       "    }\n",
       "\n",
       "    .dataframe thead th {\n",
       "        text-align: right;\n",
       "    }\n",
       "</style>\n",
       "<table border=\"1\" class=\"dataframe\">\n",
       "  <thead>\n",
       "    <tr style=\"text-align: right;\">\n",
       "      <th></th>\n",
       "      <th>0</th>\n",
       "      <th>1</th>\n",
       "    </tr>\n",
       "  </thead>\n",
       "  <tbody>\n",
       "    <tr>\n",
       "      <th>0</th>\n",
       "      <td>13.046815</td>\n",
       "      <td>14.741152</td>\n",
       "    </tr>\n",
       "    <tr>\n",
       "      <th>1</th>\n",
       "      <td>13.408520</td>\n",
       "      <td>13.763270</td>\n",
       "    </tr>\n",
       "    <tr>\n",
       "      <th>2</th>\n",
       "      <td>14.195915</td>\n",
       "      <td>15.853181</td>\n",
       "    </tr>\n",
       "    <tr>\n",
       "      <th>3</th>\n",
       "      <td>14.914701</td>\n",
       "      <td>16.174260</td>\n",
       "    </tr>\n",
       "    <tr>\n",
       "      <th>4</th>\n",
       "      <td>13.576700</td>\n",
       "      <td>14.042849</td>\n",
       "    </tr>\n",
       "  </tbody>\n",
       "</table>\n",
       "</div>"
      ],
      "text/plain": [
       "           0          1\n",
       "0  13.046815  14.741152\n",
       "1  13.408520  13.763270\n",
       "2  14.195915  15.853181\n",
       "3  14.914701  16.174260\n",
       "4  13.576700  14.042849"
      ]
     },
     "execution_count": 7,
     "metadata": {},
     "output_type": "execute_result"
    }
   ],
   "source": [
    "df = pd.read_excel('ex8data1.xlsx', sheet_name='X', header=None)\n",
    "df.head()"
   ]
  },
  {
   "cell_type": "markdown",
   "id": "selective-boxing",
   "metadata": {},
   "source": [
    "Let’s plot column 0 against column 1."
   ]
  },
  {
   "cell_type": "code",
   "execution_count": 8,
   "id": "partial-wells",
   "metadata": {},
   "outputs": [
    {
     "data": {
      "image/png": "[encoded data removed]",
      "text/plain": [
       "<Figure size 432x288 with 1 Axes>"
      ]
     },
     "metadata": {
      "needs_background": "light"
     },
     "output_type": "display_data"
    }
   ],
   "source": [
    "plt.figure()\n",
    "plt.scatter(df[0], df[1])\n",
    "plt.show()"
   ]
  },
  {
   "cell_type": "markdown",
   "id": "dependent-generic",
   "metadata": {},
   "source": [
    "You probably know by looking at this graph which data are anomalous.\n",
    "Check how many training examples are in this dataset:"
   ]
  },
  {
   "cell_type": "code",
   "execution_count": 10,
   "id": "breeding-nicholas",
   "metadata": {},
   "outputs": [
    {
     "data": {
      "text/plain": [
       "307"
      ]
     },
     "execution_count": 10,
     "metadata": {},
     "output_type": "execute_result"
    }
   ],
   "source": [
    "m = len(df)\n",
    "m"
   ]
  },
  {
   "cell_type": "markdown",
   "id": "ideal-flush",
   "metadata": {},
   "source": [
    "Calculate the mean for each feature. Here we have only two features: 0 and 1."
   ]
  },
  {
   "cell_type": "code",
   "execution_count": 19,
   "id": "photographic-employer",
   "metadata": {},
   "outputs": [
    {
     "data": {
      "text/plain": [
       "0    14.112226\n",
       "1    14.997711\n",
       "dtype: float64"
      ]
     },
     "execution_count": 19,
     "metadata": {},
     "output_type": "execute_result"
    }
   ],
   "source": [
    "mu = np.mean(df,axis=0)\n",
    "mu"
   ]
  },
  {
   "cell_type": "markdown",
   "id": "enclosed-customer",
   "metadata": {},
   "source": [
    "From the formula described in the ‘Formulas and Process’ section above, let’s calculate the variance:"
   ]
  },
  {
   "cell_type": "code",
   "execution_count": 21,
   "id": "muslim-claim",
   "metadata": {},
   "outputs": [
    {
     "data": {
      "text/plain": [
       "0    1.832631\n",
       "1    1.709745\n",
       "dtype: float64"
      ]
     },
     "execution_count": 21,
     "metadata": {},
     "output_type": "execute_result"
    }
   ],
   "source": [
    "variance = np.mean((df - mu)**2, axis=0)\n",
    "variance"
   ]
  },
  {
   "cell_type": "markdown",
   "id": "cultural-vienna",
   "metadata": {},
   "source": [
    "Now make it diagonal shaped. As I explained in the ‘Formulas and Process’ section after the probability formula, that summation sign was actually the diagonals of the variance."
   ]
  },
  {
   "cell_type": "code",
   "execution_count": 22,
   "id": "unknown-homework",
   "metadata": {},
   "outputs": [
    {
     "data": {
      "text/plain": [
       "array([[1.83263141, 0.        ],\n",
       "       [0.        , 1.70974533]])"
      ]
     },
     "execution_count": 22,
     "metadata": {},
     "output_type": "execute_result"
    }
   ],
   "source": [
    "var_dia = np.diag(variance)\n",
    "var_dia"
   ]
  },
  {
   "cell_type": "markdown",
   "id": "national-religion",
   "metadata": {},
   "source": [
    "Calculate the probability:"
   ]
  },
  {
   "cell_type": "code",
   "execution_count": 24,
   "id": "looking-uncertainty",
   "metadata": {},
   "outputs": [
    {
     "data": {
      "text/plain": [
       "0      6.470829e-02\n",
       "1      5.030417e-02\n",
       "2      7.245035e-02\n",
       "3      5.031575e-02\n",
       "4      6.368497e-02\n",
       "           ...     \n",
       "302    3.981340e-02\n",
       "303    5.455673e-08\n",
       "304    4.461721e-12\n",
       "305    6.107184e-05\n",
       "306    2.912867e-23\n",
       "Length: 307, dtype: float64"
      ]
     },
     "execution_count": 24,
     "metadata": {},
     "output_type": "execute_result"
    }
   ],
   "source": [
    "k = len(mu)\n",
    "X = df - mu\n",
    "p = 1/((2*np.pi)**(k/2)*(np.linalg.det(var_dia)**0.5))* np.exp(-0.5* np.sum(X @ np.linalg.pinv(var_dia) * X,axis=1))\n",
    "p"
   ]
  },
  {
   "cell_type": "markdown",
   "id": "derived-margin",
   "metadata": {},
   "source": [
    "The training part is done.\n",
    "Let’s put all these calculations for probability into a function for future use."
   ]
  },
  {
   "cell_type": "code",
   "execution_count": 25,
   "id": "informal-plasma",
   "metadata": {},
   "outputs": [],
   "source": [
    "def probability(df):\n",
    "    mu = np.mean(df, axis=0)\n",
    "    variance = np.mean((df - mu)**2, axis=0)\n",
    "    var_dia = np.diag(variance)\n",
    "    k = len(mu)\n",
    "    X = df - mu\n",
    "    p = 1/((2*np.pi)**(k/2)*(np.linalg.det(var_dia)**0.5))* np.exp(-0.5* np.sum(X @ np.linalg.pinv(var_dia) * X,axis=1))\n",
    "    return p"
   ]
  },
  {
   "cell_type": "markdown",
   "id": "informative-stephen",
   "metadata": {},
   "source": [
    "The next step is to find out the threshold probability. If the probability is lower than the threshold probability, the example data is anomalous data. But we need to find out that threshold for our particular case.\n",
    "\n",
    "For this step, we use cross-validation data and also the labels. In this dataset, we have the cross-validation data and also the labels in separate sheets.\n",
    "\n",
    ">_**For your case, you can simply keep a portion of your original data for cross-validation.**_\n",
    "\n",
    "Now import the cross-validation data and the labels:"
   ]
  },
  {
   "cell_type": "code",
   "execution_count": 26,
   "id": "completed-edmonton",
   "metadata": {},
   "outputs": [
    {
     "data": {
      "text/html": [
       "<div>\n",
       "<style scoped>\n",
       "    .dataframe tbody tr th:only-of-type {\n",
       "        vertical-align: middle;\n",
       "    }\n",
       "\n",
       "    .dataframe tbody tr th {\n",
       "        vertical-align: top;\n",
       "    }\n",
       "\n",
       "    .dataframe thead th {\n",
       "        text-align: right;\n",
       "    }\n",
       "</style>\n",
       "<table border=\"1\" class=\"dataframe\">\n",
       "  <thead>\n",
       "    <tr style=\"text-align: right;\">\n",
       "      <th></th>\n",
       "      <th>0</th>\n",
       "      <th>1</th>\n",
       "    </tr>\n",
       "  </thead>\n",
       "  <tbody>\n",
       "    <tr>\n",
       "      <th>0</th>\n",
       "      <td>15.790260</td>\n",
       "      <td>14.921024</td>\n",
       "    </tr>\n",
       "    <tr>\n",
       "      <th>1</th>\n",
       "      <td>13.639619</td>\n",
       "      <td>15.329955</td>\n",
       "    </tr>\n",
       "    <tr>\n",
       "      <th>2</th>\n",
       "      <td>14.865899</td>\n",
       "      <td>16.473865</td>\n",
       "    </tr>\n",
       "    <tr>\n",
       "      <th>3</th>\n",
       "      <td>13.584676</td>\n",
       "      <td>13.989306</td>\n",
       "    </tr>\n",
       "    <tr>\n",
       "      <th>4</th>\n",
       "      <td>13.464042</td>\n",
       "      <td>15.635330</td>\n",
       "    </tr>\n",
       "  </tbody>\n",
       "</table>\n",
       "</div>"
      ],
      "text/plain": [
       "           0          1\n",
       "0  15.790260  14.921024\n",
       "1  13.639619  15.329955\n",
       "2  14.865899  16.473865\n",
       "3  13.584676  13.989306\n",
       "4  13.464042  15.635330"
      ]
     },
     "execution_count": 26,
     "metadata": {},
     "output_type": "execute_result"
    }
   ],
   "source": [
    "cvx = pd.read_excel('ex8data1.xlsx', sheet_name='Xval', header=None)\n",
    "cvx.head()"
   ]
  },
  {
   "cell_type": "markdown",
   "id": "committed-acrobat",
   "metadata": {},
   "source": [
    "Here are the labels:"
   ]
  },
  {
   "cell_type": "code",
   "execution_count": 27,
   "id": "hollywood-seller",
   "metadata": {},
   "outputs": [
    {
     "data": {
      "text/html": [
       "<div>\n",
       "<style scoped>\n",
       "    .dataframe tbody tr th:only-of-type {\n",
       "        vertical-align: middle;\n",
       "    }\n",
       "\n",
       "    .dataframe tbody tr th {\n",
       "        vertical-align: top;\n",
       "    }\n",
       "\n",
       "    .dataframe thead th {\n",
       "        text-align: right;\n",
       "    }\n",
       "</style>\n",
       "<table border=\"1\" class=\"dataframe\">\n",
       "  <thead>\n",
       "    <tr style=\"text-align: right;\">\n",
       "      <th></th>\n",
       "      <th>0</th>\n",
       "    </tr>\n",
       "  </thead>\n",
       "  <tbody>\n",
       "    <tr>\n",
       "      <th>0</th>\n",
       "      <td>0</td>\n",
       "    </tr>\n",
       "    <tr>\n",
       "      <th>1</th>\n",
       "      <td>0</td>\n",
       "    </tr>\n",
       "    <tr>\n",
       "      <th>2</th>\n",
       "      <td>0</td>\n",
       "    </tr>\n",
       "    <tr>\n",
       "      <th>3</th>\n",
       "      <td>0</td>\n",
       "    </tr>\n",
       "    <tr>\n",
       "      <th>4</th>\n",
       "      <td>0</td>\n",
       "    </tr>\n",
       "  </tbody>\n",
       "</table>\n",
       "</div>"
      ],
      "text/plain": [
       "   0\n",
       "0  0\n",
       "1  0\n",
       "2  0\n",
       "3  0\n",
       "4  0"
      ]
     },
     "execution_count": 27,
     "metadata": {},
     "output_type": "execute_result"
    }
   ],
   "source": [
    "cvy = pd.read_excel('ex8data1.xlsx', sheet_name='y', header=None)\n",
    "cvy.head()"
   ]
  },
  {
   "cell_type": "markdown",
   "id": "numeric-archive",
   "metadata": {},
   "source": [
    ">_**The purpose of cross-validation data is to calculate the threshold probability. And we will use that threshold probability to find the anomalous data of df.**_\n",
    "\n",
    "Now call the probability function we defined before to find the probability for our cross-validation data ‘cvx’:"
   ]
  },
  {
   "cell_type": "code",
   "execution_count": 28,
   "id": "altered-clearing",
   "metadata": {},
   "outputs": [],
   "source": [
    "p1 = probability(cvx)"
   ]
  },
  {
   "cell_type": "markdown",
   "id": "textile-adapter",
   "metadata": {},
   "source": [
    "I will convert ‘cvy’ to a NumPy array just because I like working with arrays. DataFrames are also fine though."
   ]
  },
  {
   "cell_type": "code",
   "execution_count": 38,
   "id": "mighty-spring",
   "metadata": {},
   "outputs": [],
   "source": [
    "y = np.array(cvy)"
   ]
  },
  {
   "cell_type": "markdown",
   "id": "criminal-monster",
   "metadata": {},
   "source": [
    "Here, the value of ‘y’ 0 suggests that that’s a normal example and the ‘y’ value of 1indicates that, it is an anomalous example.\n",
    "\n",
    "### Now, how to select a threshold?\n",
    "\n",
    "I do not want to just check for all the probability from our list of probability. That may be unnecessary. Let’s examine the probability values some more."
   ]
  },
  {
   "cell_type": "code",
   "execution_count": 31,
   "id": "embedded-belize",
   "metadata": {},
   "outputs": [
    {
     "data": {
      "text/plain": [
       "count    3.070000e+02\n",
       "mean     5.905331e-02\n",
       "std      2.324461e-02\n",
       "min      1.181209e-23\n",
       "25%      4.361075e-02\n",
       "50%      6.510144e-02\n",
       "75%      7.849532e-02\n",
       "max      8.986095e-02\n",
       "dtype: float64"
      ]
     },
     "execution_count": 31,
     "metadata": {},
     "output_type": "execute_result"
    }
   ],
   "source": [
    "p.describe()"
   ]
  },
  {
   "cell_type": "markdown",
   "id": "informed-chick",
   "metadata": {},
   "source": [
    "As you can see in the picture, we do not have too many anomalous data. So, if we just start from the 75% value, that should be good. But just to be extra safe I will start the range from the mean.\n",
    "\n",
    "So, we will take a range of probabilities from the mean value and lower. We will check the f1 score for each probability of this range.\n",
    "\n",
    "First, define a function to calculate the true positives, false positives, and false negatives:"
   ]
  },
  {
   "cell_type": "code",
   "execution_count": 40,
   "id": "czech-possibility",
   "metadata": {},
   "outputs": [],
   "source": [
    "def tpfpfn(ep, p, y):\n",
    "    tp, fp, fn = 0, 0, 0\n",
    "    for i in range(len(y)):\n",
    "        if p[i] <= ep and y[i][0] == 1:\n",
    "            tp += 1\n",
    "        elif p[i] <= ep and y[i][0] == 0:\n",
    "            fp += 1\n",
    "        elif p[i] > ep and y[i][0] == 1:\n",
    "            fn += 1\n",
    "    return tp, fp, fn"
   ]
  },
  {
   "cell_type": "markdown",
   "id": "superb-assessment",
   "metadata": {},
   "source": [
    "Make a list of the probabilities that are lower than or equal to the mean probability."
   ]
  },
  {
   "cell_type": "code",
   "execution_count": 41,
   "id": "martial-answer",
   "metadata": {},
   "outputs": [],
   "source": [
    "eps = [i for i in p1 if i <= p1.mean()]"
   ]
  },
  {
   "cell_type": "markdown",
   "id": "classical-mention",
   "metadata": {},
   "source": [
    "Check, the length of the list,"
   ]
  },
  {
   "cell_type": "code",
   "execution_count": 42,
   "id": "weighted-dictionary",
   "metadata": {},
   "outputs": [
    {
     "data": {
      "text/plain": [
       "128"
      ]
     },
     "execution_count": 42,
     "metadata": {},
     "output_type": "execute_result"
    }
   ],
   "source": [
    "len(eps)"
   ]
  },
  {
   "cell_type": "markdown",
   "id": "banned-sense",
   "metadata": {},
   "source": [
    "Define a function to calculate the ‘f1’ score as per the formula we discussed before:"
   ]
  },
  {
   "cell_type": "code",
   "execution_count": 44,
   "id": "irish-times",
   "metadata": {},
   "outputs": [],
   "source": [
    "def f1(ep, p, y):\n",
    "    tp, fp, fn = tpfpfn(ep,p,y)\n",
    "    prec = tp/(tp + fp)\n",
    "    rec = tp/(tp + fn)\n",
    "    f1 = 2*prec*rec/(prec + rec)\n",
    "    return f1"
   ]
  },
  {
   "cell_type": "markdown",
   "id": "trained-tooth",
   "metadata": {},
   "source": [
    "All the functions are ready!\n",
    "Now calculate the f1 score for all the epsilon or the range of probability values we selected before."
   ]
  },
  {
   "cell_type": "code",
   "execution_count": 46,
   "id": "victorian-foster",
   "metadata": {},
   "outputs": [
    {
     "data": {
      "text/plain": [
       "[0.16470588235294117,\n",
       " 0.208955223880597,\n",
       " 0.15384615384615385,\n",
       " 0.3181818181818182,\n",
       " 0.15555555555555556,\n",
       " 0.125,\n",
       " 0.56,\n",
       " 0.13333333333333333,\n",
       " 0.16867469879518074,\n",
       " 0.12612612612612614,\n",
       " 0.14583333333333331,\n",
       " 0.22950819672131148,\n",
       " 0.15053763440860213,\n",
       " 0.16666666666666666,\n",
       " 0.3888888888888889,\n",
       " 0.12389380530973451,\n",
       " 0.10294117647058823,\n",
       " 0.19999999999999998,\n",
       " 0.25925925925925924,\n",
       " 0.1372549019607843,\n",
       " 0.17283950617283952,\n",
       " 0.13592233009708737,\n",
       " 0.10370370370370369,\n",
       " 0.17073170731707316,\n",
       " 0.18918918918918923,\n",
       " 0.27999999999999997,\n",
       " 0.12844036697247707,\n",
       " 0.23333333333333334,\n",
       " 0.15909090909090906,\n",
       " 0.10852713178294573,\n",
       " 0.5833333333333334,\n",
       " 0.1044776119402985,\n",
       " 0.25,\n",
       " 0.1473684210526316,\n",
       " 0.12173913043478261,\n",
       " 0.13861386138613863,\n",
       " 0.10769230769230768,\n",
       " 0.18666666666666665,\n",
       " 0.11023622047244096,\n",
       " 0.24137931034482757,\n",
       " 0.2121212121212121,\n",
       " 0.12068965517241378,\n",
       " 0.3333333333333333,\n",
       " 0.30434782608695654,\n",
       " 0.14285714285714285,\n",
       " 0.17721518987341772,\n",
       " 0.5185185185185185,\n",
       " 0.7368421052631577,\n",
       " 0.2028985507246377,\n",
       " 0.6363636363636364,\n",
       " 0.11666666666666665,\n",
       " 0.5384615384615384,\n",
       " 0.10687022900763359,\n",
       " 0.10218978102189781,\n",
       " 0.2058823529411765,\n",
       " 0.15217391304347824,\n",
       " 0.11111111111111112,\n",
       " 0.1627906976744186,\n",
       " 0.1818181818181818,\n",
       " 0.21874999999999994,\n",
       " 0.35897435897435903,\n",
       " 0.11382113821138211,\n",
       " 0.7000000000000001,\n",
       " 0.1308411214953271,\n",
       " 0.14432989690721648,\n",
       " 0.12280701754385964,\n",
       " 0.42424242424242425,\n",
       " 0.3783783783783784,\n",
       " 0.2641509433962264,\n",
       " 0.35000000000000003,\n",
       " 0.1842105263157895,\n",
       " 0.22580645161290322,\n",
       " 0.7777777777777778,\n",
       " 0.2545454545454546,\n",
       " 0.2692307692307693,\n",
       " 0.2153846153846154,\n",
       " 0.13999999999999999,\n",
       " 0.175,\n",
       " 0.1346153846153846,\n",
       " 0.19178082191780824,\n",
       " 0.23728813559322035,\n",
       " 0.39999999999999997,\n",
       " 0.16091954022988506,\n",
       " 0.1320754716981132,\n",
       " 0.11570247933884298,\n",
       " 0.368421052631579,\n",
       " 0.1272727272727273,\n",
       " 0.10937499999999999,\n",
       " 0.11290322580645162,\n",
       " 0.10606060606060606,\n",
       " 0.6666666666666666,\n",
       " 0.43750000000000006,\n",
       " 0.12962962962962962,\n",
       " 0.1414141414141414,\n",
       " 0.4666666666666666,\n",
       " 0.2745098039215686,\n",
       " 0.4117647058823529,\n",
       " 0.823529411764706,\n",
       " 0.3255813953488372,\n",
       " 0.2978723404255319,\n",
       " 0.3111111111111111,\n",
       " 0.2857142857142857,\n",
       " 0.29166666666666663,\n",
       " 0.14893617021276592,\n",
       " 0.11475409836065573,\n",
       " 0.6086956521739131,\n",
       " 0.11965811965811966,\n",
       " 0.34146341463414637,\n",
       " 0.11864406779661019,\n",
       " 0.1794871794871795,\n",
       " 0.5,\n",
       " 0.10526315789473684,\n",
       " 0.19718309859154928,\n",
       " 0.48275862068965514,\n",
       " 0.15730337078651682,\n",
       " 0.2222222222222222,\n",
       " 0.24561403508771928,\n",
       " 0.45161290322580644,\n",
       " 0.19444444444444445,\n",
       " 0.112,\n",
       " 0.1176470588235294,\n",
       " 0.6153846153846153,\n",
       " 0.8,\n",
       " 0.19999999999999998,\n",
       " 0.3636363636363636,\n",
       " 0.7142857142857143,\n",
       " 0.5,\n",
       " 0.8750000000000001]"
      ]
     },
     "execution_count": 46,
     "metadata": {},
     "output_type": "execute_result"
    }
   ],
   "source": [
    "f = []\n",
    "for i in eps:\n",
    "    f.append(f1(i, p1,y))\n",
    "f"
   ]
  },
  {
   "cell_type": "markdown",
   "id": "liable-breakdown",
   "metadata": {},
   "source": [
    "This is a part of the f score list. The length should be 128. The f scores are usually ranged between 0 and 1 where 1 is the perfect f score. The higher the f1 score the better. So, we need to take the highest f score from the list of ‘f’ scores we just calculated.\n",
    "Now, use the ‘argmax’ function to determine the index of the maximum f score value."
   ]
  },
  {
   "cell_type": "code",
   "execution_count": 47,
   "id": "occupational-appendix",
   "metadata": {},
   "outputs": [
    {
     "data": {
      "text/plain": [
       "127"
      ]
     },
     "execution_count": 47,
     "metadata": {},
     "output_type": "execute_result"
    }
   ],
   "source": [
    "np.array(f).argmax()"
   ]
  },
  {
   "cell_type": "markdown",
   "id": "velvet-classic",
   "metadata": {},
   "source": [
    "And now use this index to get the threshold probability."
   ]
  },
  {
   "cell_type": "code",
   "execution_count": 49,
   "id": "christian-miami",
   "metadata": {},
   "outputs": [
    {
     "data": {
      "text/plain": [
       "0.00014529639061630078"
      ]
     },
     "execution_count": 49,
     "metadata": {},
     "output_type": "execute_result"
    }
   ],
   "source": [
    "e = eps[127]\n",
    "e"
   ]
  },
  {
   "cell_type": "markdown",
   "id": "preceding-system",
   "metadata": {},
   "source": [
    "### Find out the Anomalous Examples\n",
    "\n",
    "We have the threshold probability. We can find out the labels of our training data from it.\n",
    "\n",
    "If the probability value is lower than or equal to this threshold value, the data is anomalous and otherwise, normal. We will denote the normal and anomalous data as 0 and 1 respectively,"
   ]
  },
  {
   "cell_type": "code",
   "execution_count": 50,
   "id": "exclusive-outside",
   "metadata": {},
   "outputs": [
    {
     "data": {
      "text/plain": [
       "[0,\n",
       " 0,\n",
       " 0,\n",
       " 0,\n",
       " 0,\n",
       " 0,\n",
       " 0,\n",
       " 0,\n",
       " 0,\n",
       " 0,\n",
       " 0,\n",
       " 0,\n",
       " 0,\n",
       " 0,\n",
       " 0,\n",
       " 0,\n",
       " 0,\n",
       " 0,\n",
       " 0,\n",
       " 0,\n",
       " 0,\n",
       " 0,\n",
       " 0,\n",
       " 0,\n",
       " 0,\n",
       " 0,\n",
       " 0,\n",
       " 0,\n",
       " 0,\n",
       " 0,\n",
       " 0,\n",
       " 0,\n",
       " 0,\n",
       " 0,\n",
       " 0,\n",
       " 0,\n",
       " 0,\n",
       " 0,\n",
       " 0,\n",
       " 0,\n",
       " 0,\n",
       " 0,\n",
       " 0,\n",
       " 0,\n",
       " 0,\n",
       " 0,\n",
       " 0,\n",
       " 0,\n",
       " 0,\n",
       " 0,\n",
       " 0,\n",
       " 0,\n",
       " 0,\n",
       " 0,\n",
       " 0,\n",
       " 0,\n",
       " 0,\n",
       " 0,\n",
       " 0,\n",
       " 0,\n",
       " 0,\n",
       " 0,\n",
       " 0,\n",
       " 0,\n",
       " 0,\n",
       " 0,\n",
       " 0,\n",
       " 0,\n",
       " 0,\n",
       " 0,\n",
       " 0,\n",
       " 0,\n",
       " 0,\n",
       " 0,\n",
       " 0,\n",
       " 0,\n",
       " 0,\n",
       " 0,\n",
       " 0,\n",
       " 0,\n",
       " 0,\n",
       " 0,\n",
       " 0,\n",
       " 0,\n",
       " 0,\n",
       " 0,\n",
       " 0,\n",
       " 0,\n",
       " 0,\n",
       " 0,\n",
       " 0,\n",
       " 0,\n",
       " 0,\n",
       " 0,\n",
       " 0,\n",
       " 0,\n",
       " 0,\n",
       " 0,\n",
       " 0,\n",
       " 0,\n",
       " 0,\n",
       " 0,\n",
       " 0,\n",
       " 0,\n",
       " 0,\n",
       " 0,\n",
       " 0,\n",
       " 0,\n",
       " 0,\n",
       " 0,\n",
       " 0,\n",
       " 0,\n",
       " 0,\n",
       " 0,\n",
       " 0,\n",
       " 0,\n",
       " 0,\n",
       " 0,\n",
       " 0,\n",
       " 0,\n",
       " 0,\n",
       " 0,\n",
       " 0,\n",
       " 0,\n",
       " 0,\n",
       " 0,\n",
       " 0,\n",
       " 0,\n",
       " 0,\n",
       " 0,\n",
       " 0,\n",
       " 0,\n",
       " 0,\n",
       " 0,\n",
       " 0,\n",
       " 0,\n",
       " 0,\n",
       " 0,\n",
       " 0,\n",
       " 0,\n",
       " 0,\n",
       " 0,\n",
       " 0,\n",
       " 0,\n",
       " 0,\n",
       " 0,\n",
       " 0,\n",
       " 0,\n",
       " 0,\n",
       " 0,\n",
       " 0,\n",
       " 0,\n",
       " 0,\n",
       " 0,\n",
       " 0,\n",
       " 0,\n",
       " 0,\n",
       " 0,\n",
       " 0,\n",
       " 0,\n",
       " 0,\n",
       " 0,\n",
       " 0,\n",
       " 0,\n",
       " 0,\n",
       " 0,\n",
       " 0,\n",
       " 0,\n",
       " 0,\n",
       " 0,\n",
       " 0,\n",
       " 0,\n",
       " 0,\n",
       " 0,\n",
       " 0,\n",
       " 0,\n",
       " 0,\n",
       " 0,\n",
       " 0,\n",
       " 0,\n",
       " 0,\n",
       " 0,\n",
       " 0,\n",
       " 0,\n",
       " 0,\n",
       " 0,\n",
       " 0,\n",
       " 0,\n",
       " 0,\n",
       " 0,\n",
       " 0,\n",
       " 0,\n",
       " 0,\n",
       " 0,\n",
       " 0,\n",
       " 0,\n",
       " 0,\n",
       " 0,\n",
       " 0,\n",
       " 0,\n",
       " 0,\n",
       " 0,\n",
       " 0,\n",
       " 0,\n",
       " 0,\n",
       " 0,\n",
       " 0,\n",
       " 0,\n",
       " 0,\n",
       " 0,\n",
       " 0,\n",
       " 0,\n",
       " 0,\n",
       " 0,\n",
       " 0,\n",
       " 0,\n",
       " 0,\n",
       " 0,\n",
       " 0,\n",
       " 0,\n",
       " 0,\n",
       " 0,\n",
       " 0,\n",
       " 0,\n",
       " 0,\n",
       " 0,\n",
       " 0,\n",
       " 0,\n",
       " 0,\n",
       " 0,\n",
       " 0,\n",
       " 0,\n",
       " 0,\n",
       " 0,\n",
       " 0,\n",
       " 0,\n",
       " 0,\n",
       " 0,\n",
       " 0,\n",
       " 0,\n",
       " 0,\n",
       " 0,\n",
       " 0,\n",
       " 0,\n",
       " 0,\n",
       " 0,\n",
       " 0,\n",
       " 0,\n",
       " 0,\n",
       " 0,\n",
       " 0,\n",
       " 0,\n",
       " 0,\n",
       " 0,\n",
       " 0,\n",
       " 0,\n",
       " 0,\n",
       " 0,\n",
       " 0,\n",
       " 0,\n",
       " 0,\n",
       " 0,\n",
       " 0,\n",
       " 0,\n",
       " 0,\n",
       " 0,\n",
       " 0,\n",
       " 0,\n",
       " 0,\n",
       " 0,\n",
       " 0,\n",
       " 0,\n",
       " 0,\n",
       " 0,\n",
       " 0,\n",
       " 0,\n",
       " 0,\n",
       " 0,\n",
       " 0,\n",
       " 0,\n",
       " 0,\n",
       " 0,\n",
       " 0,\n",
       " 0,\n",
       " 0,\n",
       " 0,\n",
       " 0,\n",
       " 0,\n",
       " 0,\n",
       " 0,\n",
       " 0,\n",
       " 0,\n",
       " 0,\n",
       " 0,\n",
       " 0,\n",
       " 0,\n",
       " 0,\n",
       " 0,\n",
       " 0,\n",
       " 0,\n",
       " 1,\n",
       " 1,\n",
       " 0,\n",
       " 1,\n",
       " 1,\n",
       " 1,\n",
       " 1]"
      ]
     },
     "execution_count": 50,
     "metadata": {},
     "output_type": "execute_result"
    }
   ],
   "source": [
    "label = []\n",
    "for i in range(len(df)):\n",
    "    if p[i] <= e:\n",
    "        label.append(1)\n",
    "    else:\n",
    "        label.append(0)\n",
    "label"
   ]
  },
  {
   "cell_type": "markdown",
   "id": "governmental-mouse",
   "metadata": {},
   "source": [
    "I will add this calculated labels in the training dataset above:"
   ]
  },
  {
   "cell_type": "code",
   "execution_count": 51,
   "id": "dramatic-silence",
   "metadata": {},
   "outputs": [
    {
     "data": {
      "text/html": [
       "<div>\n",
       "<style scoped>\n",
       "    .dataframe tbody tr th:only-of-type {\n",
       "        vertical-align: middle;\n",
       "    }\n",
       "\n",
       "    .dataframe tbody tr th {\n",
       "        vertical-align: top;\n",
       "    }\n",
       "\n",
       "    .dataframe thead th {\n",
       "        text-align: right;\n",
       "    }\n",
       "</style>\n",
       "<table border=\"1\" class=\"dataframe\">\n",
       "  <thead>\n",
       "    <tr style=\"text-align: right;\">\n",
       "      <th></th>\n",
       "      <th>0</th>\n",
       "      <th>1</th>\n",
       "      <th>label</th>\n",
       "    </tr>\n",
       "  </thead>\n",
       "  <tbody>\n",
       "    <tr>\n",
       "      <th>0</th>\n",
       "      <td>13.046815</td>\n",
       "      <td>14.741152</td>\n",
       "      <td>0</td>\n",
       "    </tr>\n",
       "    <tr>\n",
       "      <th>1</th>\n",
       "      <td>13.408520</td>\n",
       "      <td>13.763270</td>\n",
       "      <td>0</td>\n",
       "    </tr>\n",
       "    <tr>\n",
       "      <th>2</th>\n",
       "      <td>14.195915</td>\n",
       "      <td>15.853181</td>\n",
       "      <td>0</td>\n",
       "    </tr>\n",
       "    <tr>\n",
       "      <th>3</th>\n",
       "      <td>14.914701</td>\n",
       "      <td>16.174260</td>\n",
       "      <td>0</td>\n",
       "    </tr>\n",
       "    <tr>\n",
       "      <th>4</th>\n",
       "      <td>13.576700</td>\n",
       "      <td>14.042849</td>\n",
       "      <td>0</td>\n",
       "    </tr>\n",
       "  </tbody>\n",
       "</table>\n",
       "</div>"
      ],
      "text/plain": [
       "           0          1  label\n",
       "0  13.046815  14.741152      0\n",
       "1  13.408520  13.763270      0\n",
       "2  14.195915  15.853181      0\n",
       "3  14.914701  16.174260      0\n",
       "4  13.576700  14.042849      0"
      ]
     },
     "execution_count": 51,
     "metadata": {},
     "output_type": "execute_result"
    }
   ],
   "source": [
    "df['label'] = np.array(label)\n",
    "df.head()"
   ]
  },
  {
   "cell_type": "markdown",
   "id": "intelligent-organization",
   "metadata": {},
   "source": [
    "I plotted the data where the label is 1 in red color and where the label is zero in black. Here is the plot."
   ]
  },
  {
   "cell_type": "code",
   "execution_count": 61,
   "id": "breeding-brief",
   "metadata": {},
   "outputs": [
    {
     "data": {
      "image/png": "[encoded data removed]",
      "text/plain": [
       "<Figure size 432x288 with 1 Axes>"
      ]
     },
     "metadata": {
      "needs_background": "light"
     },
     "output_type": "display_data"
    }
   ],
   "source": [
    "plt.figure()\n",
    "for i in range(len(label)):\n",
    "    if label[i] == 0:\n",
    "        plt.scatter(df[0][i], df[1][i],color='b')\n",
    "    if label[i] == 1:\n",
    "        plt.scatter(df[0][i], df[1][i],color='r')\n",
    "        \n",
    "plt.show()"
   ]
  },
  {
   "cell_type": "markdown",
   "id": "animated-elder",
   "metadata": {},
   "source": [
    "### Does it make sense?\n",
    "It does, right? The data in red are clearly anomalous."
   ]
  },
  {
   "cell_type": "markdown",
   "id": "comprehensive-marketplace",
   "metadata": {},
   "source": [
    "### Conclusion\n",
    "I tried to explain the process to develop an anomaly detection algorithm step by step. I did not leave any steps hidden here. I hope it is understandable. If you are having trouble understanding just by reading it, I suggest run every piece of code by yourself in a notebook. That will make it very clear.\n",
    "Please do not hesitate to share, if you are doing some cool projects using this algorithm."
   ]
  },
  {
   "cell_type": "code",
   "execution_count": null,
   "id": "considered-falls",
   "metadata": {},
   "outputs": [],
   "source": []
  }
 ],
 "metadata": {
  "kernelspec": {
   "display_name": "Python 3",
   "language": "python",
   "name": "python3"
  },
  "language_info": {
   "codemirror_mode": {
    "name": "ipython",
    "version": 3
   },
   "file_extension": ".py",
   "mimetype": "text/x-python",
   "name": "python",
   "nbconvert_exporter": "python",
   "pygments_lexer": "ipython3",
   "version": "3.7.6"
  }
 },
 "nbformat": 4,
 "nbformat_minor": 5
}
