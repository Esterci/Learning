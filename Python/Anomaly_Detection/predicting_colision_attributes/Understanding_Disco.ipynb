{
 "cells": [
  {
   "cell_type": "markdown",
   "source": [
    "# Implementation of Anomaly detection using Autoencoders\n",
    "Dataset used here is Credit Card Fraud Detection from Kaggle.\n",
    "\n",
    "### Import required libraries"
   ],
   "metadata": {}
  },
  {
   "cell_type": "code",
   "execution_count": 1,
   "source": [
    "import pandas as pd\n",
    "import numpy as np\n",
    "import tensorflow as tf\n",
    "import matplotlib.pyplot as plt\n",
    "import seaborn as sns\n",
    "from sklearn.model_selection import train_test_split\n",
    "from sklearn.preprocessing import StandardScaler,normalize, MinMaxScaler\n",
    "from sklearn.metrics import confusion_matrix, recall_score, accuracy_score, precision_score\n",
    "# Load layers from keras\n",
    "from keras.layers import Dense, Concatenate, Input, Reshape, Flatten, BatchNormalization, Dropout, LeakyReLU\n",
    "from keras.models import Model\n",
    "from keras.losses import binary_crossentropy\n",
    "from Disco_tensor_flow import distance_corr\n",
    "from keras.optimizers import Adam\n",
    "from sklearn.metrics import roc_auc_score\n",
    "RANDOM_SEED = 2021 \n",
    "TEST_PCT = 0.3\n",
    "LABELS = [\"Normal\",\"Fraud\"]\n",
    "from tensorflow.python.framework.ops import disable_eager_execution\n",
    "disable_eager_execution()"
   ],
   "outputs": [],
   "metadata": {
    "scrolled": true
   }
  },
  {
   "cell_type": "code",
   "execution_count": 2,
   "source": [
    "##########################################################\n",
    "# ------------------------------------------------------ #\n",
    "# ----------------------- LOADING ---------------------- #\n",
    "# ------------------------------------------------------ #\n",
    "##########################################################\n",
    "# Firstly the model loads the background and signal data, \n",
    "# then it removes the attributes first string line, which \n",
    "# are the column names, in order to avoid NaN values in \n",
    "# the array.\n",
    "\n",
    "print('         ==== Commencing Initiation ====\\n')\n",
    "\n",
    "### Background\n",
    "b_name='/home/thiago/Documents/Data_Sets/LPC-anomaly-detection/Input_Background_1.csv'\n",
    "background = np.genfromtxt(b_name, delimiter=',')\n",
    "background = background[1:,:]\n",
    "print(\"     .Background Loaded...\" )\n",
    "print(\"     .Background shape: {}\".format(background.shape))\n",
    "\n",
    "### Signal\n",
    "s_name='/home/thiago/Documents/Data_Sets/LPC-anomaly-detection/Input_Signal_1.csv'\n",
    "signal = np.genfromtxt(s_name, delimiter=',')\n",
    "signal = signal[1:,:]\n",
    "print(\"     .Signal Loaded...\")\n",
    "print(\"     .Signal shape: {}\\n\".format(signal.shape))"
   ],
   "outputs": [
    {
     "output_type": "stream",
     "name": "stdout",
     "text": [
      "         ==== Commencing Initiation ====\n",
      "\n",
      "     .Background Loaded...\n",
      "     .Background shape: (543500, 21)\n",
      "     .Signal Loaded...\n",
      "     .Signal shape: (522467, 21)\n",
      "\n"
     ]
    }
   ],
   "metadata": {}
  },
  {
   "cell_type": "code",
   "execution_count": 47,
   "source": [
    "##########################################################\n",
    "# ------------------------------------------------------ #\n",
    "# --------------------- INITIATION --------------------- #\n",
    "# ------------------------------------------------------ #\n",
    "##########################################################\n",
    "\n",
    "# Number of events\n",
    "total = 100000\n",
    "\n",
    "# Percentage of background samples on the testing phase\n",
    "background_percent = 0.99\n",
    "\n",
    "# Percentage of samples on the training phase\n",
    "test_size = 0.3"
   ],
   "outputs": [],
   "metadata": {}
  },
  {
   "cell_type": "code",
   "execution_count": 48,
   "source": [
    "print('\\n          ==== Initiation Complete ====\\n')\n",
    "print('=*='*17 )\n",
    "print('\\n      ==== Commencing Pre-processing ====\\n')\n",
    "\n",
    "# Percentage of background samples to divide the data-set\n",
    "dat_set_percent = total/len(background)\n",
    "\n",
    "# Reducing background samples\n",
    "_,reduced_background = train_test_split(background, test_size=dat_set_percent)\n",
    "\n",
    "# Deviding train and test background\n",
    "\n",
    "train_data, background_test = train_test_split(reduced_background, test_size=test_size)\n",
    "\n",
    "# Iserting the correct number of signal in streaming\n",
    "\n",
    "n_signal_samples = int(len(background_test)*(1-background_percent))\n",
    "\n",
    "_,background_test = train_test_split(background_test, test_size=background_percent)\n",
    "\n",
    "_,signal_test = train_test_split(signal, test_size=n_signal_samples/len(signal))\n",
    "\n",
    "# Concatenating Signal and the Background sub-sets\n",
    "\n",
    "test_data = np.vstack((background_test,signal_test))\n",
    "\n",
    "# Normalize Data\n",
    "\n",
    "print('.Normalizing Data')\n",
    "\n",
    "test_data = normalize(test_data,\n",
    "                        norm='max',\n",
    "                        axis=0\n",
    "                    )\n",
    "\n",
    "train_data = normalize(train_data,\n",
    "                        norm='max',\n",
    "                        axis=0\n",
    "                    )\n",
    "\n",
    "# Creates test data frame\n",
    "\n",
    "attributes = np.array([\"px1\",\n",
    "                        \"py1\",\n",
    "                        \"pz1\",\n",
    "                        \"E1\",\n",
    "                        \"eta1\",\n",
    "                        \"phi1\",\n",
    "                        \"pt1\",\n",
    "                        \"px2\",\n",
    "                        \"py2\",\n",
    "                        \"pz2\",\n",
    "                        \"E2\",\n",
    "                        \"eta2\",\n",
    "                        \"phi2\",\n",
    "                        \"pt2\",\n",
    "                        \"Delta_R\",\n",
    "                        \"M12\",\n",
    "                        \"MET\",\n",
    "                        \"S\",\n",
    "                        \"C\",\n",
    "                        \"HT\",\n",
    "                        \"A\"]\n",
    "                    )\n",
    "\n",
    "test_df = pd.DataFrame(test_data,columns = attributes)\n",
    "\n",
    "# Creating Labels\n",
    "print('.Creating Labels')\n",
    "\n",
    "test_labels =np.ones((len(test_data)))\n",
    "test_labels[:len(background_test)] = 0\n",
    "\n",
    "print('\\n      ==== Pre-processing Complete ====\\n')\n",
    "print(\".Train data shape: {}\".format(train_data.shape))\n",
    "print(\".Test data shape: {}\".format(test_data.shape))\n",
    "print(\".Test Background shape: {}\".format(background_test.shape))\n",
    "print(\".Test Signal shape: {}\".format(signal_test.shape))\n",
    "\n",
    "print('=*='*17 )"
   ],
   "outputs": [
    {
     "output_type": "stream",
     "name": "stdout",
     "text": [
      "\n",
      "          ==== Initiation Complete ====\n",
      "\n",
      "=*==*==*==*==*==*==*==*==*==*==*==*==*==*==*==*==*=\n",
      "\n",
      "      ==== Commencing Pre-processing ====\n",
      "\n",
      ".Normalizing Data\n",
      ".Creating Labels\n",
      "\n",
      "      ==== Pre-processing Complete ====\n",
      "\n",
      ".Train data shape: (70000, 21)\n",
      ".Test data shape: (30000, 21)\n",
      ".Test Background shape: (29700, 21)\n",
      ".Test Signal shape: (300, 21)\n",
      "=*==*==*==*==*==*==*==*==*==*==*==*==*==*==*==*==*=\n"
     ]
    }
   ],
   "metadata": {}
  },
  {
   "cell_type": "code",
   "execution_count": 55,
   "source": [
    "train_jets = train_data[:,:14]\n",
    "train_colision = train_data[:,14:]\n",
    "\n",
    "test_jets = test_data[:,:14]\n",
    "test_colision = test_data[:,14:]"
   ],
   "outputs": [],
   "metadata": {}
  },
  {
   "cell_type": "code",
   "execution_count": 56,
   "source": [
    "# build one block for each dense layer\n",
    "def get_block(L, size):\n",
    "    L = BatchNormalization()(L)\n",
    "\n",
    "    L = Dense(size)(L)\n",
    "    L = Dropout(0.5)(L)\n",
    "    L = LeakyReLU(0.2)(L)\n",
    "    return L\n",
    "\n",
    "# baseline correlation function\n",
    "def binary_cross_entropy(y_true, y_pred):\n",
    "    \n",
    "    return binary_crossentropy(y_true, y_pred)\n",
    "\n",
    "# define new loss with distance decorrelation\n",
    "def decorr(var_1, var_2, weights,kappa):\n",
    "\n",
    "    def loss(y_true, y_pred):\n",
    "        #return binary_crossentropy(y_true, y_pred) + distance_corr(var_1, var_2, weights)\n",
    "        #return distance_corr(var_1, var_2, weights)\n",
    "        return binary_crossentropy(y_true, y_pred) + kappa * distance_corr(var_1, var_2, weights)\n",
    "        #return binary_crossentropy(y_true, y_pred)\n",
    "\n",
    "    return loss"
   ],
   "outputs": [],
   "metadata": {}
  },
  {
   "cell_type": "code",
   "execution_count": 57,
   "source": [
    "# Setup network\n",
    "# make inputs\n",
    "\n",
    "jets = Input(shape=train_jets.shape[1])\n",
    "sample_weights = Input(shape=(1,))\n",
    "#setup trainable layers\n",
    "d1 = get_block(jets, 8)\n",
    "d2 = get_block(d1, 4)\n",
    "d3 = get_block(d2, 2)\n",
    "d4 = get_block(d3, 2)\n",
    "d5 = get_block(d4, 4)\n",
    "o = get_block(d5, 7)\n",
    "\n",
    "model = Model(inputs=[jets, sample_weights], outputs=o)\n",
    "model.summary()"
   ],
   "outputs": [
    {
     "output_type": "stream",
     "name": "stdout",
     "text": [
      "Model: \"model_3\"\n",
      "__________________________________________________________________________________________________\n",
      "Layer (type)                    Output Shape         Param #     Connected to                     \n",
      "==================================================================================================\n",
      "input_7 (InputLayer)            [(None, 14)]         0                                            \n",
      "__________________________________________________________________________________________________\n",
      "batch_normalization_20 (BatchNo (None, 14)           56          input_7[0][0]                    \n",
      "__________________________________________________________________________________________________\n",
      "dense_20 (Dense)                (None, 8)            120         batch_normalization_20[0][0]     \n",
      "__________________________________________________________________________________________________\n",
      "dropout_20 (Dropout)            (None, 8)            0           dense_20[0][0]                   \n",
      "__________________________________________________________________________________________________\n",
      "leaky_re_lu_20 (LeakyReLU)      (None, 8)            0           dropout_20[0][0]                 \n",
      "__________________________________________________________________________________________________\n",
      "batch_normalization_21 (BatchNo (None, 8)            32          leaky_re_lu_20[0][0]             \n",
      "__________________________________________________________________________________________________\n",
      "dense_21 (Dense)                (None, 4)            36          batch_normalization_21[0][0]     \n",
      "__________________________________________________________________________________________________\n",
      "dropout_21 (Dropout)            (None, 4)            0           dense_21[0][0]                   \n",
      "__________________________________________________________________________________________________\n",
      "leaky_re_lu_21 (LeakyReLU)      (None, 4)            0           dropout_21[0][0]                 \n",
      "__________________________________________________________________________________________________\n",
      "batch_normalization_22 (BatchNo (None, 4)            16          leaky_re_lu_21[0][0]             \n",
      "__________________________________________________________________________________________________\n",
      "dense_22 (Dense)                (None, 2)            10          batch_normalization_22[0][0]     \n",
      "__________________________________________________________________________________________________\n",
      "dropout_22 (Dropout)            (None, 2)            0           dense_22[0][0]                   \n",
      "__________________________________________________________________________________________________\n",
      "leaky_re_lu_22 (LeakyReLU)      (None, 2)            0           dropout_22[0][0]                 \n",
      "__________________________________________________________________________________________________\n",
      "batch_normalization_23 (BatchNo (None, 2)            8           leaky_re_lu_22[0][0]             \n",
      "__________________________________________________________________________________________________\n",
      "dense_23 (Dense)                (None, 2)            6           batch_normalization_23[0][0]     \n",
      "__________________________________________________________________________________________________\n",
      "dropout_23 (Dropout)            (None, 2)            0           dense_23[0][0]                   \n",
      "__________________________________________________________________________________________________\n",
      "leaky_re_lu_23 (LeakyReLU)      (None, 2)            0           dropout_23[0][0]                 \n",
      "__________________________________________________________________________________________________\n",
      "batch_normalization_24 (BatchNo (None, 2)            8           leaky_re_lu_23[0][0]             \n",
      "__________________________________________________________________________________________________\n",
      "dense_24 (Dense)                (None, 4)            12          batch_normalization_24[0][0]     \n",
      "__________________________________________________________________________________________________\n",
      "dropout_24 (Dropout)            (None, 4)            0           dense_24[0][0]                   \n",
      "__________________________________________________________________________________________________\n",
      "leaky_re_lu_24 (LeakyReLU)      (None, 4)            0           dropout_24[0][0]                 \n",
      "__________________________________________________________________________________________________\n",
      "batch_normalization_25 (BatchNo (None, 4)            16          leaky_re_lu_24[0][0]             \n",
      "__________________________________________________________________________________________________\n",
      "dense_25 (Dense)                (None, 7)            35          batch_normalization_25[0][0]     \n",
      "__________________________________________________________________________________________________\n",
      "dropout_25 (Dropout)            (None, 7)            0           dense_25[0][0]                   \n",
      "__________________________________________________________________________________________________\n",
      "input_8 (InputLayer)            [(None, 1)]          0                                            \n",
      "__________________________________________________________________________________________________\n",
      "leaky_re_lu_25 (LeakyReLU)      (None, 7)            0           dropout_25[0][0]                 \n",
      "==================================================================================================\n",
      "Total params: 355\n",
      "Trainable params: 287\n",
      "Non-trainable params: 68\n",
      "__________________________________________________________________________________________________\n"
     ]
    }
   ],
   "metadata": {}
  },
  {
   "cell_type": "code",
   "execution_count": 58,
   "source": [
    "# Compile model\n",
    "from keras.optimizers import Adam\n",
    "opt = Adam(lr=0.001)\n",
    "#model.compile(optimizer=opt, loss=decorr(jets[:,0], o[:,0], sample_weights[:,0],0.5))\n",
    "model.compile(optimizer=opt, loss=\"binary_crossentropy\")"
   ],
   "outputs": [],
   "metadata": {}
  },
  {
   "cell_type": "code",
   "execution_count": 59,
   "source": [
    "# Train model\n",
    "history_1 = model.fit(x = [train_jets, np.ones(len(train_jets))], \n",
    "                    y = train_colision,\n",
    "                    epochs=150,\n",
    "                    batch_size=200,\n",
    "                    validation_split=0.1,\n",
    "                    verbose=1,\n",
    "                    callbacks=[cp, early_stop]\n",
    "                    ).history\n"
   ],
   "outputs": [
    {
     "output_type": "stream",
     "name": "stdout",
     "text": [
      "Train on 63000 samples, validate on 7000 samples\n",
      "Epoch 1/150\n",
      "62600/63000 [============================>.] - ETA: 0s - loss: 3.3840"
     ]
    },
    {
     "output_type": "stream",
     "name": "stderr",
     "text": [
      "/home/thiago/yes/envs/tf/lib/python3.7/site-packages/tensorflow/python/keras/engine/training.py:2325: UserWarning: `Model.state_updates` will be removed in a future version. This property should not be used in TensorFlow 2.0, as `updates` are applied automatically.\n",
      "  warnings.warn('`Model.state_updates` will be removed in a future version. '\n"
     ]
    },
    {
     "output_type": "stream",
     "name": "stdout",
     "text": [
      "\n",
      "Epoch 00001: val_loss did not improve from 0.54864\n",
      "63000/63000 [==============================] - 14s 217us/sample - loss: 3.3807 - val_loss: 2.1072\n",
      "Epoch 2/150\n",
      "62800/63000 [============================>.] - ETA: 0s - loss: 2.5865\n",
      "Epoch 00002: val_loss did not improve from 0.54864\n",
      "63000/63000 [==============================] - 12s 184us/sample - loss: 2.5862 - val_loss: 0.9244\n",
      "Epoch 3/150\n",
      "63000/63000 [==============================] - ETA: 0s - loss: 2.4209\n",
      "Epoch 00003: val_loss did not improve from 0.54864\n",
      "63000/63000 [==============================] - 11s 181us/sample - loss: 2.4209 - val_loss: 0.7477\n",
      "Epoch 4/150\n",
      "63000/63000 [==============================] - ETA: 0s - loss: 2.3776\n",
      "Epoch 00004: val_loss did not improve from 0.54864\n",
      "63000/63000 [==============================] - 12s 183us/sample - loss: 2.3776 - val_loss: 0.6130\n",
      "Epoch 5/150\n",
      "62600/63000 [============================>.] - ETA: 0s - loss: 2.3276\n",
      "Epoch 00005: val_loss did not improve from 0.54864\n",
      "63000/63000 [==============================] - 16s 262us/sample - loss: 2.3275 - val_loss: 0.6089\n",
      "Epoch 6/150\n",
      "63000/63000 [==============================] - ETA: 0s - loss: 2.2821\n",
      "Epoch 00006: val_loss did not improve from 0.54864\n",
      "63000/63000 [==============================] - 15s 236us/sample - loss: 2.2821 - val_loss: 0.6036\n",
      "Epoch 7/150\n",
      "62800/63000 [============================>.] - ETA: 0s - loss: 2.2314\n",
      "Epoch 00007: val_loss did not improve from 0.54864\n",
      "63000/63000 [==============================] - 14s 222us/sample - loss: 2.2315 - val_loss: 0.6035\n",
      "Epoch 8/150\n",
      "62600/63000 [============================>.] - ETA: 0s - loss: 2.2022\n",
      "Epoch 00008: val_loss did not improve from 0.54864\n",
      "63000/63000 [==============================] - 6s 97us/sample - loss: 2.2019 - val_loss: 0.6038\n",
      "Epoch 9/150\n",
      "62400/63000 [============================>.] - ETA: 0s - loss: 2.1942\n",
      "Epoch 00009: val_loss did not improve from 0.54864\n",
      "63000/63000 [==============================] - 4s 58us/sample - loss: 2.1937 - val_loss: 0.6088\n",
      "Epoch 10/150\n",
      "62200/63000 [============================>.] - ETA: 0s - loss: 2.1755\n",
      "Epoch 00010: val_loss did not improve from 0.54864\n",
      "63000/63000 [==============================] - 4s 58us/sample - loss: 2.1754 - val_loss: 0.6116\n",
      "Epoch 11/150\n",
      "62400/63000 [============================>.] - ETA: 0s - loss: 2.1573\n",
      "Epoch 00011: val_loss did not improve from 0.54864\n",
      "63000/63000 [==============================] - 4s 63us/sample - loss: 2.1571 - val_loss: 0.5947\n",
      "Epoch 12/150\n",
      "62400/63000 [============================>.] - ETA: 0s - loss: 2.1530\n",
      "Epoch 00012: val_loss did not improve from 0.54864\n",
      "63000/63000 [==============================] - 4s 59us/sample - loss: 2.1528 - val_loss: 0.5924\n",
      "Epoch 13/150\n",
      "63000/63000 [==============================] - ETA: 0s - loss: 2.1346\n",
      "Epoch 00013: val_loss did not improve from 0.54864\n",
      "63000/63000 [==============================] - 4s 60us/sample - loss: 2.1346 - val_loss: 0.6051\n",
      "Epoch 14/150\n",
      "62400/63000 [============================>.] - ETA: 0s - loss: 2.1361\n",
      "Epoch 00014: val_loss did not improve from 0.54864\n",
      "63000/63000 [==============================] - 4s 61us/sample - loss: 2.1355 - val_loss: 0.6016\n",
      "Epoch 15/150\n",
      "63000/63000 [==============================] - ETA: 0s - loss: 2.1246\n",
      "Epoch 00015: val_loss did not improve from 0.54864\n",
      "63000/63000 [==============================] - 4s 59us/sample - loss: 2.1246 - val_loss: 0.6041\n",
      "Epoch 16/150\n",
      "62800/63000 [============================>.] - ETA: 0s - loss: 2.1173\n",
      "Epoch 00016: val_loss did not improve from 0.54864\n",
      "63000/63000 [==============================] - 4s 61us/sample - loss: 2.1171 - val_loss: 0.6018\n",
      "Epoch 17/150\n",
      "62000/63000 [============================>.] - ETA: 0s - loss: 2.1012\n",
      "Epoch 00017: val_loss did not improve from 0.54864\n",
      "63000/63000 [==============================] - 3s 54us/sample - loss: 2.1015 - val_loss: 0.6013\n",
      "Epoch 18/150\n",
      "62200/63000 [============================>.] - ETA: 0s - loss: 2.0970\n",
      "Epoch 00018: val_loss did not improve from 0.54864\n",
      "63000/63000 [==============================] - 4s 62us/sample - loss: 2.0970 - val_loss: 0.6032\n",
      "Epoch 19/150\n",
      "62600/63000 [============================>.] - ETA: 0s - loss: 2.1016\n",
      "Epoch 00019: val_loss did not improve from 0.54864\n",
      "63000/63000 [==============================] - 4s 58us/sample - loss: 2.1015 - val_loss: 0.6082\n",
      "Epoch 20/150\n",
      "62800/63000 [============================>.] - ETA: 0s - loss: 2.0931\n",
      "Epoch 00020: val_loss did not improve from 0.54864\n",
      "63000/63000 [==============================] - 6s 88us/sample - loss: 2.0927 - val_loss: 0.6059\n",
      "Epoch 21/150\n",
      "63000/63000 [==============================] - ETA: 0s - loss: 2.0851\n",
      "Epoch 00021: val_loss did not improve from 0.54864\n",
      "63000/63000 [==============================] - 5s 79us/sample - loss: 2.0851 - val_loss: 0.6053\n",
      "Epoch 22/150\n",
      "62800/63000 [============================>.] - ETA: 0s - loss: 2.0835\n",
      "Epoch 00022: val_loss did not improve from 0.54864\n",
      "63000/63000 [==============================] - 5s 77us/sample - loss: 2.0836 - val_loss: 0.6062\n",
      "Epoch 23/150\n",
      "62800/63000 [============================>.] - ETA: 0s - loss: 2.0752\n",
      "Epoch 00023: val_loss did not improve from 0.54864\n",
      "63000/63000 [==============================] - 5s 78us/sample - loss: 2.0754 - val_loss: 0.6078\n",
      "Epoch 24/150\n",
      "62200/63000 [============================>.] - ETA: 0s - loss: 2.0667\n",
      "Epoch 00024: val_loss did not improve from 0.54864\n",
      "63000/63000 [==============================] - 5s 79us/sample - loss: 2.0664 - val_loss: 0.6094\n",
      "Epoch 25/150\n",
      "62400/63000 [============================>.] - ETA: 0s - loss: 2.0684\n",
      "Epoch 00025: val_loss did not improve from 0.54864\n",
      "63000/63000 [==============================] - 7s 108us/sample - loss: 2.0684 - val_loss: 0.6060\n",
      "Epoch 26/150\n",
      "62400/63000 [============================>.] - ETA: 0s - loss: 2.0644\n",
      "Epoch 00026: val_loss did not improve from 0.54864\n",
      "63000/63000 [==============================] - 5s 76us/sample - loss: 2.0638 - val_loss: 0.6079\n",
      "Epoch 27/150\n",
      "63000/63000 [==============================] - ETA: 0s - loss: 2.0572\n",
      "Epoch 00027: val_loss did not improve from 0.54864\n",
      "63000/63000 [==============================] - 6s 95us/sample - loss: 2.0572 - val_loss: 0.6115\n",
      "Epoch 28/150\n",
      "62200/63000 [============================>.] - ETA: 0s - loss: 2.0504\n",
      "Epoch 00028: val_loss did not improve from 0.54864\n",
      "63000/63000 [==============================] - 5s 80us/sample - loss: 2.0500 - val_loss: 0.6079\n",
      "Epoch 29/150\n",
      "62600/63000 [============================>.] - ETA: 0s - loss: 2.0548\n",
      "Epoch 00029: val_loss did not improve from 0.54864\n",
      "63000/63000 [==============================] - 5s 82us/sample - loss: 2.0544 - val_loss: 0.6023\n",
      "Epoch 30/150\n",
      "62800/63000 [============================>.] - ETA: 0s - loss: 2.0437\n",
      "Epoch 00030: val_loss did not improve from 0.54864\n",
      "63000/63000 [==============================] - 5s 84us/sample - loss: 2.0437 - val_loss: 0.6030\n",
      "Epoch 31/150\n",
      "63000/63000 [==============================] - ETA: 0s - loss: 2.0420\n",
      "Epoch 00031: val_loss did not improve from 0.54864\n",
      "63000/63000 [==============================] - 6s 91us/sample - loss: 2.0420 - val_loss: 0.6064\n",
      "Epoch 32/150\n",
      "63000/63000 [==============================] - ETA: 0s - loss: 2.0359\n",
      "Epoch 00032: val_loss did not improve from 0.54864\n",
      "Restoring model weights from the end of the best epoch.\n",
      "63000/63000 [==============================] - 8s 125us/sample - loss: 2.0359 - val_loss: 0.6099\n",
      "Epoch 00032: early stopping\n"
     ]
    }
   ],
   "metadata": {}
  },
  {
   "cell_type": "code",
   "execution_count": 60,
   "source": [
    "plt.plot(history_1['loss'], linewidth=2, label='Train')\n",
    "plt.plot(history_1['val_loss'], linewidth=2, label='Test')\n",
    "plt.legend(loc='upper right')\n",
    "plt.title('Model loss')\n",
    "plt.ylabel('Loss')\n",
    "plt.xlabel('Epoch')\n",
    "#plt.ylim(ymin=0.70,ymax=1)\n",
    "plt.show()"
   ],
   "outputs": [
    {
     "output_type": "display_data",
     "data": {
      "image/png": "[encoded data removed]",
      "text/plain": [
       "<Figure size 432x288 with 1 Axes>"
      ]
     },
     "metadata": {
      "needs_background": "light"
     }
    }
   ],
   "metadata": {}
  },
  {
   "cell_type": "code",
   "execution_count": 61,
   "source": [
    "test_x_predictions = model.predict([test_jets ,np.ones(len(test_jets))])\n",
    "mse = np.mean(((test_colision - test_x_predictions)**2)**0.5,axis=1)\n",
    "mse.shape"
   ],
   "outputs": [
    {
     "output_type": "execute_result",
     "data": {
      "text/plain": [
       "(30000,)"
      ]
     },
     "metadata": {},
     "execution_count": 61
    }
   ],
   "metadata": {}
  },
  {
   "cell_type": "code",
   "execution_count": 62,
   "source": [
    "\n",
    "error_df = pd.DataFrame({'Reconstruction_error': mse,\n",
    "                        'True_class': test_labels})\n",
    "                        \n",
    "threshold_fixed = 0.13\n",
    "groups = error_df.groupby('True_class')\n",
    "fig, ax = plt.subplots()\n",
    "for name, group in groups:\n",
    "    ax.plot(group.index, group.Reconstruction_error, marker='o', ms=3.5, linestyle='',\n",
    "            label= \"Fraud\" if name == 1 else \"Normal\")\n",
    "ax.hlines(threshold_fixed, ax.get_xlim()[0], ax.get_xlim()[1], colors=\"r\", zorder=100, label='Threshold')\n",
    "ax.legend()\n",
    "plt.title(\"Reconstruction error for normal and fraud data\")\n",
    "plt.ylabel(\"Reconstruction error\")\n",
    "plt.xlabel(\"Data point index\")\n",
    "plt.show()"
   ],
   "outputs": [
    {
     "output_type": "display_data",
     "data": {
      "image/png": "[encoded data removed]",
      "text/plain": [
       "<Figure size 432x288 with 1 Axes>"
      ]
     },
     "metadata": {
      "needs_background": "light"
     }
    }
   ],
   "metadata": {}
  },
  {
   "cell_type": "code",
   "execution_count": 25,
   "source": [
    "threshold_fixed =0.24\n",
    "pred_y = [1 if e > threshold_fixed else 0 for e in error_df.Reconstruction_error.values]\n",
    "error_df['pred'] =pred_y\n",
    "conf_matrix = confusion_matrix(error_df.True_class, pred_y)\n",
    "plt.figure(figsize=(4, 4))\n",
    "sns.heatmap(conf_matrix, xticklabels=LABELS, yticklabels=LABELS, annot=True, fmt=\"d\");\n",
    "plt.title(\"Confusion matrix\")\n",
    "plt.ylabel('True class')\n",
    "plt.xlabel('Predicted class')\n",
    "plt.show()\n",
    "# print Accuracy, precision and recall\n",
    "print(\" Accuracy: \",accuracy_score(error_df['True_class'], error_df['pred']))\n",
    "print(\" Recall: \",recall_score(error_df['True_class'], error_df['pred']))\n",
    "print(\" Precision: \",precision_score(error_df['True_class'], error_df['pred']))"
   ],
   "outputs": [
    {
     "output_type": "display_data",
     "data": {
      "image/png": "[encoded data removed]",
      "text/plain": [
       "<Figure size 288x288 with 2 Axes>"
      ]
     },
     "metadata": {
      "needs_background": "light"
     }
    },
    {
     "output_type": "stream",
     "name": "stdout",
     "text": [
      " Accuracy:  0.874\n",
      " Recall:  0.13333333333333333\n",
      " Precision:  0.011235955056179775\n"
     ]
    }
   ],
   "metadata": {}
  },
  {
   "cell_type": "code",
   "execution_count": 9,
   "source": [
    "nb_epoch = 20\n",
    "batch_size = 200\n",
    "input_dim = train_jets.shape[1]\n",
    "encoding_dim = 8\n",
    "hidden_dim_1 = int(encoding_dim / 2) #\n",
    "hidden_dim_2 = 2\n",
    "learning_rate = 0.001\n",
    "\n",
    "cp = tf.keras.callbacks.ModelCheckpoint(filepath=\"autoencoder_fraud.h5\",\n",
    "                               mode='min', monitor='val_loss', verbose=2, save_best_only=True)\n",
    "# define our early stopping\n",
    "early_stop = tf.keras.callbacks.EarlyStopping(\n",
    "    monitor='val_loss',\n",
    "    min_delta=0.0001,\n",
    "    patience=20,\n",
    "    verbose=1, \n",
    "    mode='min',\n",
    "    restore_best_weights=True\n",
    ")"
   ],
   "outputs": [],
   "metadata": {}
  },
  {
   "cell_type": "code",
   "execution_count": 49,
   "source": [
    "#input Layer\n",
    "input_layer = Input(shape=(input_dim, ))\n",
    "sample_weights = Input(shape=(1, ))\n",
    "#Encoder\n",
    "encoder = tf.keras.layers.Dense(encoding_dim, activation=\"tanh\",                                \n",
    "activity_regularizer=tf.keras.regularizers.l2(learning_rate))(input_layer)\n",
    "encoder=tf.keras.layers.Dropout(0.2)(encoder)\n",
    "encoder = tf.keras.layers.Dense(hidden_dim_1, activation='sigmoid')(encoder)\n",
    "encoder = tf.keras.layers.Dense(hidden_dim_2, activation=tf.nn.leaky_relu)(encoder)\n",
    "# Decoder\n",
    "decoder = tf.keras.layers.Dense(hidden_dim_1, activation='sigmoid')(encoder)\n",
    "decoder=tf.keras.layers.Dropout(0.2)(decoder)\n",
    "decoder = tf.keras.layers.Dense(encoding_dim, activation='sigmoid')(decoder)\n",
    "decoder = tf.keras.layers.Dense(7, activation='tanh')(decoder)\n",
    "#Autoencoder\n",
    "autoencoder = tf.keras.Model(inputs=[input_layer, sample_weights], outputs=decoder)\n",
    "autoencoder.summary()"
   ],
   "outputs": [
    {
     "output_type": "stream",
     "name": "stdout",
     "text": [
      "Model: \"model_6\"\n",
      "__________________________________________________________________________________________________\n",
      "Layer (type)                    Output Shape         Param #     Connected to                     \n",
      "==================================================================================================\n",
      "input_3 (InputLayer)            [(None, 14)]         0                                            \n",
      "__________________________________________________________________________________________________\n",
      "dense_103 (Dense)               (None, 8)            120         input_3[0][0]                    \n",
      "__________________________________________________________________________________________________\n",
      "dropout_99 (Dropout)            (None, 8)            0           dense_103[0][0]                  \n",
      "__________________________________________________________________________________________________\n",
      "dense_104 (Dense)               (None, 4)            36          dropout_99[0][0]                 \n",
      "__________________________________________________________________________________________________\n",
      "dense_105 (Dense)               (None, 2)            10          dense_104[0][0]                  \n",
      "__________________________________________________________________________________________________\n",
      "dense_106 (Dense)               (None, 4)            12          dense_105[0][0]                  \n",
      "__________________________________________________________________________________________________\n",
      "dropout_100 (Dropout)           (None, 4)            0           dense_106[0][0]                  \n",
      "__________________________________________________________________________________________________\n",
      "dense_107 (Dense)               (None, 8)            40          dropout_100[0][0]                \n",
      "__________________________________________________________________________________________________\n",
      "input_4 (InputLayer)            [(None, 1)]          0                                            \n",
      "__________________________________________________________________________________________________\n",
      "dense_108 (Dense)               (None, 7)            63          dense_107[0][0]                  \n",
      "==================================================================================================\n",
      "Total params: 281\n",
      "Trainable params: 281\n",
      "Non-trainable params: 0\n",
      "__________________________________________________________________________________________________\n"
     ]
    }
   ],
   "metadata": {}
  },
  {
   "cell_type": "code",
   "execution_count": 50,
   "source": [
    "\n",
    "opt = Adam(lr=0.001)\n",
    "autoencoder.compile(optimizer=opt, loss=decorr(input_layer[:,0], decoder[:,0], sample_weights[:,0],100))\n"
   ],
   "outputs": [],
   "metadata": {}
  },
  {
   "cell_type": "code",
   "execution_count": 51,
   "source": [
    "Train = [train_jets, np.ones(len(train_jets))]\n",
    "\n",
    "history_2 = autoencoder.fit(x = Train, y = train_colision,\n",
    "                    epochs=nb_epoch,\n",
    "                    batch_size=batch_size,\n",
    "                    shuffle=True,\n",
    "                    validation_split=0.1,\n",
    "                    verbose=1,\n",
    "                    callbacks=[cp, early_stop]\n",
    "                    ).history"
   ],
   "outputs": [
    {
     "output_type": "stream",
     "name": "stdout",
     "text": [
      "Train on 3150 samples, validate on 350 samples\n",
      "Epoch 1/20\n",
      "3150/3150 [==============================] - ETA: 0s - loss: 2.8231"
     ]
    },
    {
     "output_type": "stream",
     "name": "stderr",
     "text": [
      "/home/thiago/yes/envs/tf/lib/python3.7/site-packages/tensorflow/python/keras/engine/training.py:2325: UserWarning: `Model.state_updates` will be removed in a future version. This property should not be used in TensorFlow 2.0, as `updates` are applied automatically.\n",
      "  warnings.warn('`Model.state_updates` will be removed in a future version. '\n"
     ]
    },
    {
     "output_type": "stream",
     "name": "stdout",
     "text": [
      "\n",
      "Epoch 00001: val_loss improved from inf to 3.84256, saving model to autoencoder_fraud.h5\n",
      "3150/3150 [==============================] - 6s 2ms/sample - loss: 2.8231 - val_loss: 3.8426\n",
      "Epoch 2/20\n",
      "2800/3150 [=========================>....] - ETA: 0s - loss: 2.8568\n",
      "Epoch 00002: val_loss improved from 3.84256 to 3.63665, saving model to autoencoder_fraud.h5\n",
      "3150/3150 [==============================] - 1s 208us/sample - loss: 2.8426 - val_loss: 3.6366\n",
      "Epoch 3/20\n",
      "3000/3150 [===========================>..] - ETA: 0s - loss: 2.2464\n",
      "Epoch 00003: val_loss did not improve from 3.63665\n",
      "3150/3150 [==============================] - 0s 111us/sample - loss: 2.2461 - val_loss: 4.7664\n",
      "Epoch 4/20\n",
      "3000/3150 [===========================>..] - ETA: 0s - loss: 2.3429\n",
      "Epoch 00004: val_loss improved from 3.63665 to 3.11048, saving model to autoencoder_fraud.h5\n",
      "3150/3150 [==============================] - 1s 189us/sample - loss: 2.4111 - val_loss: 3.1105\n",
      "Epoch 5/20\n",
      "3000/3150 [===========================>..] - ETA: 0s - loss: 2.1568\n",
      "Epoch 00005: val_loss improved from 3.11048 to 2.49505, saving model to autoencoder_fraud.h5\n",
      "3150/3150 [==============================] - 1s 171us/sample - loss: 2.1614 - val_loss: 2.4950\n",
      "Epoch 6/20\n",
      "2800/3150 [=========================>....] - ETA: 0s - loss: 2.1858\n",
      "Epoch 00006: val_loss improved from 2.49505 to 2.33224, saving model to autoencoder_fraud.h5\n",
      "3150/3150 [==============================] - 1s 160us/sample - loss: 2.1735 - val_loss: 2.3322\n",
      "Epoch 7/20\n",
      "2800/3150 [=========================>....] - ETA: 0s - loss: 2.3889\n",
      "Epoch 00007: val_loss did not improve from 2.33224\n",
      "3150/3150 [==============================] - 0s 150us/sample - loss: 2.3211 - val_loss: 3.1348\n",
      "Epoch 8/20\n",
      "3150/3150 [==============================] - ETA: 0s - loss: 2.1568\n",
      "Epoch 00008: val_loss did not improve from 2.33224\n",
      "3150/3150 [==============================] - 0s 109us/sample - loss: 2.1568 - val_loss: 2.6116\n",
      "Epoch 9/20\n",
      "3150/3150 [==============================] - ETA: 0s - loss: 2.3018\n",
      "Epoch 00009: val_loss did not improve from 2.33224\n",
      "3150/3150 [==============================] - 0s 120us/sample - loss: 2.3018 - val_loss: 2.6645\n",
      "Epoch 10/20\n",
      "3000/3150 [===========================>..] - ETA: 0s - loss: 2.0897\n",
      "Epoch 00010: val_loss did not improve from 2.33224\n",
      "3150/3150 [==============================] - 0s 105us/sample - loss: 2.1386 - val_loss: 3.0389\n",
      "Epoch 11/20\n",
      "3000/3150 [===========================>..] - ETA: 0s - loss: 2.0623\n",
      "Epoch 00011: val_loss improved from 2.33224 to 2.22939, saving model to autoencoder_fraud.h5\n",
      "3150/3150 [==============================] - 0s 156us/sample - loss: 2.0876 - val_loss: 2.2294\n",
      "Epoch 12/20\n",
      "2000/3150 [==================>...........] - ETA: 0s - loss: 2.0522\n",
      "Epoch 00012: val_loss did not improve from 2.22939\n",
      "3150/3150 [==============================] - 0s 66us/sample - loss: 1.9742 - val_loss: 2.3152\n",
      "Epoch 13/20\n",
      "2800/3150 [=========================>....] - ETA: 0s - loss: 2.0359\n",
      "Epoch 00013: val_loss improved from 2.22939 to 2.21313, saving model to autoencoder_fraud.h5\n",
      "3150/3150 [==============================] - 0s 149us/sample - loss: 2.0066 - val_loss: 2.2131\n",
      "Epoch 14/20\n",
      "2800/3150 [=========================>....] - ETA: 0s - loss: 2.0501\n",
      "Epoch 00014: val_loss did not improve from 2.21313\n",
      "3150/3150 [==============================] - 0s 105us/sample - loss: 2.1270 - val_loss: 2.7110\n",
      "Epoch 15/20\n",
      "3150/3150 [==============================] - ETA: 0s - loss: 2.0723\n",
      "Epoch 00015: val_loss did not improve from 2.21313\n",
      "3150/3150 [==============================] - 0s 109us/sample - loss: 2.0723 - val_loss: 2.5792\n",
      "Epoch 16/20\n",
      "3000/3150 [===========================>..] - ETA: 0s - loss: 2.6927\n",
      "Epoch 00016: val_loss did not improve from 2.21313\n",
      "3150/3150 [==============================] - 0s 108us/sample - loss: 2.6532 - val_loss: 2.7952\n",
      "Epoch 17/20\n",
      "2800/3150 [=========================>....] - ETA: 0s - loss: 2.4059\n",
      "Epoch 00017: val_loss did not improve from 2.21313\n",
      "3150/3150 [==============================] - 0s 115us/sample - loss: 2.3709 - val_loss: 3.6095\n",
      "Epoch 18/20\n",
      "3000/3150 [===========================>..] - ETA: 0s - loss: 2.1005\n",
      "Epoch 00018: val_loss did not improve from 2.21313\n",
      "3150/3150 [==============================] - 0s 126us/sample - loss: 2.1030 - val_loss: 3.1998\n",
      "Epoch 19/20\n",
      "3150/3150 [==============================] - ETA: 0s - loss: 1.8061\n",
      "Epoch 00019: val_loss did not improve from 2.21313\n",
      "3150/3150 [==============================] - 0s 120us/sample - loss: 1.8061 - val_loss: 2.4971\n",
      "Epoch 20/20\n",
      "2600/3150 [=======================>......] - ETA: 0s - loss: 2.4513\n",
      "Epoch 00020: val_loss did not improve from 2.21313\n",
      "3150/3150 [==============================] - 0s 97us/sample - loss: 2.3705 - val_loss: 3.1297\n"
     ]
    }
   ],
   "metadata": {}
  },
  {
   "cell_type": "code",
   "execution_count": 52,
   "source": [
    "plt.plot(history_2['loss'], linewidth=2, label='Train')\n",
    "plt.plot(history_2['val_loss'], linewidth=2, label='Test')\n",
    "plt.legend(loc='upper right')\n",
    "plt.title('Model loss')\n",
    "plt.ylabel('Loss')\n",
    "plt.xlabel('Epoch')\n",
    "#plt.ylim(ymin=0.70,ymax=1)\n",
    "plt.show()"
   ],
   "outputs": [
    {
     "output_type": "display_data",
     "data": {
      "image/png": "[encoded data removed]",
      "text/plain": [
       "<Figure size 432x288 with 1 Axes>"
      ]
     },
     "metadata": {
      "needs_background": "light"
     }
    }
   ],
   "metadata": {}
  },
  {
   "cell_type": "code",
   "execution_count": 53,
   "source": [],
   "outputs": [
    {
     "output_type": "stream",
     "name": "stderr",
     "text": [
      "/home/thiago/yes/envs/tf/lib/python3.7/site-packages/tensorflow/python/keras/engine/training.py:2325: UserWarning: `Model.state_updates` will be removed in a future version. This property should not be used in TensorFlow 2.0, as `updates` are applied automatically.\n",
      "  warnings.warn('`Model.state_updates` will be removed in a future version. '\n"
     ]
    }
   ],
   "metadata": {}
  },
  {
   "cell_type": "code",
   "execution_count": 54,
   "source": [
    "test_x_predictions = autoencoder.predict([test_jets ,np.ones(len(test_jets))])\n",
    "mse = np.mean(np.power(test_colision - test_x_predictions, 2), axis=1)\n",
    "error_df = pd.DataFrame({'Reconstruction_error': mse,\n",
    "                        'True_class': test_labels})\n",
    "                        \n",
    "threshold_fixed = 0.13\n",
    "groups = error_df.groupby('True_class')\n",
    "fig, ax = plt.subplots()\n",
    "for name, group in groups:\n",
    "    ax.plot(group.index, group.Reconstruction_error, marker='o', ms=3.5, linestyle='',\n",
    "            label= \"Fraud\" if name == 1 else \"Normal\")\n",
    "ax.hlines(threshold_fixed, ax.get_xlim()[0], ax.get_xlim()[1], colors=\"r\", zorder=100, label='Threshold')\n",
    "ax.legend()\n",
    "plt.title(\"Reconstruction error for normal and fraud data\")\n",
    "plt.ylabel(\"Reconstruction error\")\n",
    "plt.xlabel(\"Data point index\")\n",
    "plt.show()"
   ],
   "outputs": [
    {
     "output_type": "display_data",
     "data": {
      "image/png": "[encoded data removed]",
      "text/plain": [
       "<Figure size 432x288 with 1 Axes>"
      ]
     },
     "metadata": {
      "needs_background": "light"
     }
    }
   ],
   "metadata": {}
  },
  {
   "cell_type": "code",
   "execution_count": null,
   "source": [
    "from tensorflow.python.framework.ops import disable_eager_execution\n",
    "disable_eager_execution()"
   ],
   "outputs": [],
   "metadata": {}
  },
  {
   "cell_type": "code",
   "execution_count": null,
   "source": [],
   "outputs": [],
   "metadata": {}
  }
 ],
 "metadata": {
  "kernelspec": {
   "name": "python3",
   "display_name": "Python 3.7.11 64-bit ('tf': conda)"
  },
  "language_info": {
   "codemirror_mode": {
    "name": "ipython",
    "version": 3
   },
   "file_extension": ".py",
   "mimetype": "text/x-python",
   "name": "python",
   "nbconvert_exporter": "python",
   "pygments_lexer": "ipython3",
   "version": "3.7.11"
  },
  "interpreter": {
   "hash": "a8a5249af234424074a6b4f27b6bc730025b283b72f67de7f0347436c5fdf81e"
  }
 },
 "nbformat": 4,
 "nbformat_minor": 5
}