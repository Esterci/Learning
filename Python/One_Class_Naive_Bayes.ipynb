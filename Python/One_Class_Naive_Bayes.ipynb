{
 "cells": [
  {
   "cell_type": "code",
   "execution_count": 4,
   "id": "intense-chick",
   "metadata": {},
   "outputs": [],
   "source": [
    "from sklearn import datasets\n",
    "import numpy as np\n",
    "from scipy import stats"
   ]
  },
  {
   "cell_type": "code",
   "execution_count": 5,
   "id": "similar-rebate",
   "metadata": {},
   "outputs": [],
   "source": [
    "iris = datasets.load_iris()\n",
    "X = iris.data\n",
    "y = iris.target"
   ]
  },
  {
   "cell_type": "code",
   "execution_count": 35,
   "id": "auburn-butler",
   "metadata": {},
   "outputs": [],
   "source": [
    "def one_class_naive_bayes (X, kde_dict):\n",
    "    \n",
    "    # calculate the independent conditional probability\n",
    "    L,_ = np.shape(X)\n",
    "    prob = np.ones((L))\n",
    "        \n",
    "    for i in range(L):\n",
    "        for kde in kde_dict:\n",
    "            prob[i] *= kde_dict[kde](X[i,kde])\n",
    "    return prob\n",
    "\n",
    "def kde_dictionary (X):\n",
    "    _,W = np.shape(X)\n",
    "    # Creating KDE dictionary\n",
    "    s = set(range(W))\n",
    "    kde_dict = dict.fromkeys(s)\n",
    "    for kde in kde_dict:\n",
    "        kde_dict[kde] = stats.gaussian_kde(X[:, kde])\n",
    "    return kde_dict\n",
    "\n",
    "kde_dict = kde_dictionary(X[y==0])\n",
    "prob1 = one_class_naive_bayes(X,kde_dict)\n",
    "kde_dict = kde_dictionary(X[y!=0])\n",
    "prob2 = one_class_naive_bayes(X,kde_dict)"
   ]
  },
  {
   "cell_type": "code",
   "execution_count": 38,
   "id": "congressional-program",
   "metadata": {},
   "outputs": [
    {
     "data": {
      "text/plain": [
       "array([3.72175856e-16, 2.97654550e-15, 3.38336534e-16, 5.01704764e-15,\n",
       "       1.90034214e-16, 8.54402973e-11, 1.01336548e-14, 2.17180418e-15,\n",
       "       1.13884394e-15, 1.55910926e-15, 4.16574861e-15, 9.78259259e-15,\n",
       "       4.97703870e-16, 5.80691217e-18, 5.14856441e-16, 1.97724645e-15,\n",
       "       1.75137470e-13, 1.40783520e-14, 2.74068048e-11, 4.57345803e-14,\n",
       "       4.36313840e-13, 5.53164568e-13, 1.80825433e-18, 2.91462745e-09,\n",
       "       2.29127856e-12, 8.15523303e-14, 6.49772947e-12, 2.35733193e-15,\n",
       "       1.00874849e-15, 2.40068013e-14, 4.35646633e-14, 5.86205833e-12,\n",
       "       5.44173533e-17, 5.54708109e-17, 8.44847505e-15, 2.27876757e-16,\n",
       "       7.88952449e-16, 3.06342526e-17, 2.58237560e-16, 2.81657324e-15,\n",
       "       3.66156839e-15, 5.67648797e-14, 1.12189149e-16, 8.99977423e-10,\n",
       "       8.47239038e-10, 1.02017909e-13, 6.88076685e-15, 7.67916268e-16,\n",
       "       2.58306030e-15, 9.01925537e-16])"
      ]
     },
     "execution_count": 38,
     "metadata": {},
     "output_type": "execute_result"
    }
   ],
   "source": [
    "prob2[y==0]/prob1[y==0]"
   ]
  },
  {
   "cell_type": "code",
   "execution_count": 28,
   "id": "together-fairy",
   "metadata": {},
   "outputs": [],
   "source": [
    "from sklearn.naive_bayes import GaussianNB"
   ]
  },
  {
   "cell_type": "code",
   "execution_count": 31,
   "id": "running-snowboard",
   "metadata": {},
   "outputs": [
    {
     "name": "stderr",
     "output_type": "stream",
     "text": [
      "/home/thiago/anaconda3/lib/python3.7/site-packages/sklearn/utils/validation.py:72: FutureWarning: Pass priors=[1] as keyword args. From version 1.0 (renaming of 0.25) passing these as positional arguments will result in an error\n",
      "  \"will result in an error\", FutureWarning)\n"
     ]
    }
   ],
   "source": [
    "model = GaussianNB([len(X[y==0]/len(x)/)]).fit(X[y==0],y[y==0])"
   ]
  },
  {
   "cell_type": "code",
   "execution_count": 34,
   "id": "arabic-looking",
   "metadata": {},
   "outputs": [
    {
     "data": {
      "text/plain": [
       "array([[1.],\n",
       "       [1.],\n",
       "       [1.],\n",
       "       [1.],\n",
       "       [1.],\n",
       "       [1.],\n",
       "       [1.],\n",
       "       [1.],\n",
       "       [1.],\n",
       "       [1.],\n",
       "       [1.],\n",
       "       [1.],\n",
       "       [1.],\n",
       "       [1.],\n",
       "       [1.],\n",
       "       [1.],\n",
       "       [1.],\n",
       "       [1.],\n",
       "       [1.],\n",
       "       [1.],\n",
       "       [1.],\n",
       "       [1.],\n",
       "       [1.],\n",
       "       [1.],\n",
       "       [1.],\n",
       "       [1.],\n",
       "       [1.],\n",
       "       [1.],\n",
       "       [1.],\n",
       "       [1.],\n",
       "       [1.],\n",
       "       [1.],\n",
       "       [1.],\n",
       "       [1.],\n",
       "       [1.],\n",
       "       [1.],\n",
       "       [1.],\n",
       "       [1.],\n",
       "       [1.],\n",
       "       [1.],\n",
       "       [1.],\n",
       "       [1.],\n",
       "       [1.],\n",
       "       [1.],\n",
       "       [1.],\n",
       "       [1.],\n",
       "       [1.],\n",
       "       [1.],\n",
       "       [1.],\n",
       "       [1.]])"
      ]
     },
     "execution_count": 34,
     "metadata": {},
     "output_type": "execute_result"
    }
   ],
   "source": []
  },
  {
   "cell_type": "code",
   "execution_count": null,
   "id": "mathematical-offer",
   "metadata": {},
   "outputs": [],
   "source": []
  }
 ],
 "metadata": {
  "kernelspec": {
   "display_name": "Python 3",
   "language": "python",
   "name": "python3"
  },
  "language_info": {
   "codemirror_mode": {
    "name": "ipython",
    "version": 3
   },
   "file_extension": ".py",
   "mimetype": "text/x-python",
   "name": "python",
   "nbconvert_exporter": "python",
   "pygments_lexer": "ipython3",
   "version": "3.7.6"
  }
 },
 "nbformat": 4,
 "nbformat_minor": 5
}
