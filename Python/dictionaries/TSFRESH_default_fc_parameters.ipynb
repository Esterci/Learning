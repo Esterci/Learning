{
 "cells": [
  {
   "cell_type": "code",
   "execution_count": 2,
   "id": "binding-snake",
   "metadata": {},
   "outputs": [],
   "source": [
    "import numpy as np\n",
    "import pandas as pd\n",
    "import pickle\n",
    "import tsfresh"
   ]
  },
  {
   "cell_type": "markdown",
   "id": "lined-hearts",
   "metadata": {},
   "source": [
    "### Loading TSFRESH `kind_to_fc_parameters` and column names"
   ]
  },
  {
   "cell_type": "code",
   "execution_count": 138,
   "id": "occasional-transaction",
   "metadata": {},
   "outputs": [],
   "source": [
    "with open('kind_to_fc_parameters.pkl', 'rb') as f:\n",
    "     kind_to_fc_parameters = pickle.load(f)\n",
    "\n",
    "with open('columns.pkl', 'rb') as f:\n",
    "     original_columns = pickle.load(f)"
   ]
  },
  {
   "cell_type": "markdown",
   "id": "caroline-bristol",
   "metadata": {},
   "source": [
    "### Creating toy data-set"
   ]
  },
  {
   "cell_type": "code",
   "execution_count": 64,
   "id": "funded-guest",
   "metadata": {},
   "outputs": [],
   "source": [
    "data = []\n",
    "for i in range (10):\n",
    "    for j in range(1,31):data.append([i,j,1,2,3,4,5,6])\n",
    "        \n",
    "\n",
    "        \n",
    "df = pd.DataFrame(data, \n",
    "                          columns= ['id','time'] + ['Sensor_' +\n",
    "                                                    str(x) for x in range(1,len(kind_to_fc_parameters)+1)])"
   ]
  },
  {
   "cell_type": "code",
   "execution_count": 65,
   "id": "occasional-proportion",
   "metadata": {},
   "outputs": [
    {
     "data": {
      "text/html": [
       "<div>\n",
       "<style scoped>\n",
       "    .dataframe tbody tr th:only-of-type {\n",
       "        vertical-align: middle;\n",
       "    }\n",
       "\n",
       "    .dataframe tbody tr th {\n",
       "        vertical-align: top;\n",
       "    }\n",
       "\n",
       "    .dataframe thead th {\n",
       "        text-align: right;\n",
       "    }\n",
       "</style>\n",
       "<table border=\"1\" class=\"dataframe\">\n",
       "  <thead>\n",
       "    <tr style=\"text-align: right;\">\n",
       "      <th></th>\n",
       "      <th>id</th>\n",
       "      <th>time</th>\n",
       "      <th>Sensor_1</th>\n",
       "      <th>Sensor_2</th>\n",
       "      <th>Sensor_3</th>\n",
       "      <th>Sensor_4</th>\n",
       "      <th>Sensor_5</th>\n",
       "      <th>Sensor_6</th>\n",
       "    </tr>\n",
       "  </thead>\n",
       "  <tbody>\n",
       "    <tr>\n",
       "      <th>0</th>\n",
       "      <td>0</td>\n",
       "      <td>1</td>\n",
       "      <td>1</td>\n",
       "      <td>2</td>\n",
       "      <td>3</td>\n",
       "      <td>4</td>\n",
       "      <td>5</td>\n",
       "      <td>6</td>\n",
       "    </tr>\n",
       "    <tr>\n",
       "      <th>1</th>\n",
       "      <td>0</td>\n",
       "      <td>2</td>\n",
       "      <td>1</td>\n",
       "      <td>2</td>\n",
       "      <td>3</td>\n",
       "      <td>4</td>\n",
       "      <td>5</td>\n",
       "      <td>6</td>\n",
       "    </tr>\n",
       "    <tr>\n",
       "      <th>2</th>\n",
       "      <td>0</td>\n",
       "      <td>3</td>\n",
       "      <td>1</td>\n",
       "      <td>2</td>\n",
       "      <td>3</td>\n",
       "      <td>4</td>\n",
       "      <td>5</td>\n",
       "      <td>6</td>\n",
       "    </tr>\n",
       "    <tr>\n",
       "      <th>3</th>\n",
       "      <td>0</td>\n",
       "      <td>4</td>\n",
       "      <td>1</td>\n",
       "      <td>2</td>\n",
       "      <td>3</td>\n",
       "      <td>4</td>\n",
       "      <td>5</td>\n",
       "      <td>6</td>\n",
       "    </tr>\n",
       "    <tr>\n",
       "      <th>4</th>\n",
       "      <td>0</td>\n",
       "      <td>5</td>\n",
       "      <td>1</td>\n",
       "      <td>2</td>\n",
       "      <td>3</td>\n",
       "      <td>4</td>\n",
       "      <td>5</td>\n",
       "      <td>6</td>\n",
       "    </tr>\n",
       "  </tbody>\n",
       "</table>\n",
       "</div>"
      ],
      "text/plain": [
       "   id  time  Sensor_1  Sensor_2  Sensor_3  Sensor_4  Sensor_5  Sensor_6\n",
       "0   0     1         1         2         3         4         5         6\n",
       "1   0     2         1         2         3         4         5         6\n",
       "2   0     3         1         2         3         4         5         6\n",
       "3   0     4         1         2         3         4         5         6\n",
       "4   0     5         1         2         3         4         5         6"
      ]
     },
     "execution_count": 65,
     "metadata": {},
     "output_type": "execute_result"
    }
   ],
   "source": [
    "df.head()"
   ]
  },
  {
   "cell_type": "markdown",
   "id": "proprietary-greenhouse",
   "metadata": {},
   "source": [
    "### Looping into dictionary for extract features"
   ]
  },
  {
   "cell_type": "code",
   "execution_count": 139,
   "id": "filled-ontario",
   "metadata": {},
   "outputs": [],
   "source": [
    "for i,x in enumerate(kind_to_fc_parameters):\n",
    "    aux = pd.DataFrame(np.hstack((df.loc[:,:'time'].values,df.loc[:,x].values.reshape((-1,1)))),\n",
    "                          columns=['id','time','sensor'])\n",
    "    \n",
    "    aux2 = tsfresh.extract_features(aux, column_id=\"id\", column_sort=\"time\",\n",
    "                                    default_fc_parameters=kind_to_fc_parameters[x], n_jobs=0,\n",
    "                                    disable_progressbar=True)\n",
    "    \n",
    "    if i == 0:\n",
    "        extracted_features = np.array(aux2.values)\n",
    "    else:\n",
    "        extracted_features = np.hstack((extracted_features,aux2.values))\n",
    "final_features = pd.DataFrame(extracted_features,columns=original_columns)"
   ]
  },
  {
   "cell_type": "code",
   "execution_count": null,
   "id": "retained-serbia",
   "metadata": {},
   "outputs": [],
   "source": []
  }
 ],
 "metadata": {
  "kernelspec": {
   "display_name": "Python 3",
   "language": "python",
   "name": "python3"
  },
  "language_info": {
   "codemirror_mode": {
    "name": "ipython",
    "version": 3
   },
   "file_extension": ".py",
   "mimetype": "text/x-python",
   "name": "python",
   "nbconvert_exporter": "python",
   "pygments_lexer": "ipython3",
   "version": "3.7.6"
  }
 },
 "nbformat": 4,
 "nbformat_minor": 5
}
