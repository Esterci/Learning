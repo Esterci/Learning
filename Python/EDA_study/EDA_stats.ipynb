{
 "cells": [
  {
   "cell_type": "code",
   "execution_count": 1,
   "id": "respected-aspect",
   "metadata": {},
   "outputs": [],
   "source": [
    "import numpy as np\n",
    "from scipy import stats\n",
    "import matplotlib.pyplot as plt\n",
    "from os import listdir"
   ]
  },
  {
   "cell_type": "code",
   "execution_count": 2,
   "id": "economic-clinic",
   "metadata": {
    "scrolled": true
   },
   "outputs": [
    {
     "name": "stdout",
     "output_type": "stream",
     "text": [
      "99\n",
      "33\n"
     ]
    }
   ],
   "source": [
    "arc_list = listdir('results_99/')\n",
    "\n",
    "prob_list = []\n",
    "eda_list = []\n",
    "\n",
    "for arc in arc_list:\n",
    "    if arc.split('_')[0] == 'streaming':\n",
    "        eda_list.append(arc)\n",
    "    elif arc.split('_')[0] == 'bayes':\n",
    "        prob_list.append(arc)\n",
    "        \n",
    "print(len(eda_list))\n",
    "print(len(prob_list))"
   ]
  },
  {
   "cell_type": "code",
   "execution_count": 4,
   "id": "regional-principal",
   "metadata": {},
   "outputs": [
    {
     "ename": "IndexError",
     "evalue": "boolean index did not match indexed array along dimension 0; dimension is 3001 but corresponding boolean dimension is 6000",
     "output_type": "error",
     "traceback": [
      "\u001b[0;31m---------------------------------------------------------------------------\u001b[0m",
      "\u001b[0;31mIndexError\u001b[0m                                Traceback (most recent call last)",
      "\u001b[0;32m<ipython-input-4-843e0c850762>\u001b[0m in \u001b[0;36m<module>\u001b[0;34m\u001b[0m\n\u001b[1;32m     34\u001b[0m     \u001b[0meda\u001b[0m \u001b[0;34m=\u001b[0m \u001b[0mnp\u001b[0m\u001b[0;34m.\u001b[0m\u001b[0mgenfromtxt\u001b[0m\u001b[0;34m(\u001b[0m\u001b[0;34m'results_99/'\u001b[0m\u001b[0;34m+\u001b[0m\u001b[0marc\u001b[0m\u001b[0;34m,\u001b[0m\u001b[0mdelimiter\u001b[0m\u001b[0;34m=\u001b[0m\u001b[0;34m','\u001b[0m\u001b[0;34m)\u001b[0m\u001b[0;34m\u001b[0m\u001b[0;34m\u001b[0m\u001b[0m\n\u001b[1;32m     35\u001b[0m     \u001b[0meda\u001b[0m \u001b[0;34m=\u001b[0m \u001b[0mnp\u001b[0m\u001b[0;34m.\u001b[0m\u001b[0msort\u001b[0m\u001b[0;34m(\u001b[0m\u001b[0meda\u001b[0m\u001b[0;34m)\u001b[0m\u001b[0;34m\u001b[0m\u001b[0;34m\u001b[0m\u001b[0m\n\u001b[0;32m---> 36\u001b[0;31m     \u001b[0mdistances_dict\u001b[0m\u001b[0;34m[\u001b[0m\u001b[0mdistance\u001b[0m\u001b[0;34m]\u001b[0m\u001b[0;34m[\u001b[0m\u001b[0;34m'eda'\u001b[0m\u001b[0;34m]\u001b[0m\u001b[0;34m[\u001b[0m\u001b[0;34m'bc'\u001b[0m\u001b[0;34m]\u001b[0m\u001b[0;34m+=\u001b[0m \u001b[0meda\u001b[0m\u001b[0;34m[\u001b[0m\u001b[0my\u001b[0m\u001b[0;34m==\u001b[0m\u001b[0;36m0\u001b[0m\u001b[0;34m]\u001b[0m\u001b[0;34m\u001b[0m\u001b[0;34m\u001b[0m\u001b[0m\n\u001b[0m\u001b[1;32m     37\u001b[0m     \u001b[0mdistances_dict\u001b[0m\u001b[0;34m[\u001b[0m\u001b[0mdistance\u001b[0m\u001b[0;34m]\u001b[0m\u001b[0;34m[\u001b[0m\u001b[0;34m'eda'\u001b[0m\u001b[0;34m]\u001b[0m\u001b[0;34m[\u001b[0m\u001b[0;34m'sg'\u001b[0m\u001b[0;34m]\u001b[0m\u001b[0;34m+=\u001b[0m \u001b[0meda\u001b[0m\u001b[0;34m[\u001b[0m\u001b[0my\u001b[0m\u001b[0;34m==\u001b[0m\u001b[0;36m1\u001b[0m\u001b[0;34m]\u001b[0m\u001b[0;34m\u001b[0m\u001b[0;34m\u001b[0m\u001b[0m\n\u001b[1;32m     38\u001b[0m     \u001b[0mdistances_dict\u001b[0m\u001b[0;34m[\u001b[0m\u001b[0mdistance\u001b[0m\u001b[0;34m]\u001b[0m\u001b[0;34m[\u001b[0m\u001b[0;34m'eda'\u001b[0m\u001b[0;34m]\u001b[0m\u001b[0;34m[\u001b[0m\u001b[0;34m'ct'\u001b[0m\u001b[0;34m]\u001b[0m\u001b[0;34m+=\u001b[0m \u001b[0;36m1\u001b[0m\u001b[0;34m\u001b[0m\u001b[0;34m\u001b[0m\u001b[0m\n",
      "\u001b[0;31mIndexError\u001b[0m: boolean index did not match indexed array along dimension 0; dimension is 3001 but corresponding boolean dimension is 6000"
     ]
    }
   ],
   "source": [
    "y = np.genfromtxt('results_99/y_streaming.csv')\n",
    "\n",
    "distances_dict={\n",
    "    'euclidean':{\n",
    "        'eda':{\n",
    "            'bc': np.zeros((int(len(y[y==0])))),\n",
    "            'sg': np.zeros((int(len(y[y==1])))),\n",
    "            'ct': 0\n",
    "        }\n",
    "    },\n",
    "    'cosine':{\n",
    "        'eda':{\n",
    "            'bc': np.zeros((int(len(y[y==0])))),\n",
    "            'sg': np.zeros((int(len(y[y==1])))),\n",
    "            'ct': 0\n",
    "        }\n",
    "    },\n",
    "    'mahalanobis':{\n",
    "        'eda':{\n",
    "            'bc': np.zeros((int(len(y[y==0])))),\n",
    "            'sg': np.zeros((int(len(y[y==1])))),\n",
    "            'ct': 0\n",
    "        }\n",
    "    },\n",
    "    'Bayes Probability':{\n",
    "            'bc': np.zeros((int(len(y[y==0])))),\n",
    "            'sg': np.zeros((int(len(y[y==1])))),\n",
    "            'ct': 0\n",
    "        }\n",
    "}\n",
    "\n",
    "for arc in eda_list:\n",
    "    distance = arc.split('_')[5].split('.')[0]\n",
    "    eda = np.genfromtxt('results_99/'+arc,delimiter=',')\n",
    "    eda = np.sort(eda)\n",
    "    if len(eda) == 6000:\n",
    "    distances_dict[distance]['eda']['bc']+= eda[y==0]\n",
    "    distances_dict[distance]['eda']['sg']+= eda[y==1]\n",
    "    distances_dict[distance]['eda']['ct']+= 1\n",
    "\n",
    "distances_dict[distance]['eda']['bc'] /= distances_dict[distance]['eda']['ct']\n",
    "distances_dict[distance]['eda']['sg'] /= distances_dict[distance]['eda']['ct']\n",
    "\n",
    "for arc in prob_list:\n",
    "    prob = np.genfromtxt('results_99/'+arc,delimiter=',')\n",
    "    prob = np.sort(prob)\n",
    "    distances_dict['Bayes Probability']['bc']+= prob[y==0]\n",
    "    distances_dict['Bayes Probability']['sg']+= prob[y==1]\n",
    "    distances_dict['Bayes Probability']['ct']+= 1\n",
    "    \n",
    "distances_dict['Bayes Probability']['bc'] /= distances_dict['Bayes Probability']['ct']\n",
    "distances_dict['Bayes Probability']['sg'] /= distances_dict['Bayes Probability']['ct']"
   ]
  },
  {
   "cell_type": "code",
   "execution_count": null,
   "id": "younger-roman",
   "metadata": {},
   "outputs": [],
   "source": [
    "distances_dict['euclidean']['eda'].keys()\n"
   ]
  },
  {
   "cell_type": "code",
   "execution_count": null,
   "id": "infectious-laptop",
   "metadata": {},
   "outputs": [],
   "source": [
    "len(distances_dict['euclidean']['eda']['sg'])"
   ]
  },
  {
   "cell_type": "code",
   "execution_count": null,
   "id": "portuguese-running",
   "metadata": {
    "scrolled": false
   },
   "outputs": [],
   "source": [
    "fig = plt.figure(figsize=[16,9*(len(distances_dict)-1)])\n",
    "ax = fig.subplots(len(distances_dict)-1)\n",
    "\n",
    "for i, att in enumerate(distances_dict):\n",
    "    print(att)\n",
    "    \n",
    "    if att == 'Bayes Probability':\n",
    "        break\n",
    "        \n",
    "    else:\n",
    "        signal_streaming_var = distances_dict[att]['eda']['sg']\n",
    "        background_streaming_var = distances_dict[att]['eda']['bc']\n",
    "    \n",
    "    signal_streaming_var = np.sort(signal_streaming_var)\n",
    "    background_streaming_var = np.sort(background_streaming_var)\n",
    "\n",
    "    signal_kde = stats.gaussian_kde(signal_streaming_var)\n",
    "    background_kde = stats.gaussian_kde(background_streaming_var)\n",
    "    \n",
    "    print('       fitted kde')\n",
    "    \n",
    "    data_eval = np.linspace(min(min(background_streaming_var),min(signal_streaming_var)),\n",
    "                            max(max(background_streaming_var),max(signal_streaming_var)),\n",
    "                            1000)\n",
    "    \n",
    "    background_eval = np.linspace(min(background_streaming_var),\n",
    "                            max(background_streaming_var), \n",
    "                            1000)\n",
    "    signal_eval = np.linspace(min(signal_streaming_var),\n",
    "                              max(signal_streaming_var),\n",
    "                              1000)\n",
    "\n",
    "    # Plot the Probability Distribuction Function (PDF)\n",
    "    \n",
    "    ax[i].set_ylabel('Probability Density',fontsize=16)\n",
    "    ax[i].set_xlabel(att,fontsize=16)\n",
    "    ax[i].set_title('Probability Distribuction Function (PDF)',fontsize=20)\n",
    "        \n",
    "    ax[i].plot(signal_eval, signal_kde(signal_eval),'r', linewidth=4, label='Signal\\'s Density PDF')\n",
    "    ax[i].plot(background_eval, background_kde(background_eval),'b', linewidth=4, \n",
    "               label='Background\\'s Density PDF')\n",
    "\n",
    "    ax[i].grid()\n",
    "    ax[i].legend()\n",
    "    \n",
    "    print('        plotted')\n",
    "    \n",
    "plt.show()\n",
    "fig.savefig('Bayes_EDA_PDF.pdf', bbox_inches='tight')"
   ]
  },
  {
   "cell_type": "code",
   "execution_count": null,
   "id": "affected-broad",
   "metadata": {
    "scrolled": false
   },
   "outputs": [],
   "source": [
    "fig = plt.figure(figsize=[16,9*(len(distances_dict)-3)])\n",
    "ax = fig.subplots(len(distances_dict)-3)\n",
    "\n",
    "for i, att in enumerate(distances_dict):\n",
    "    print(att)\n",
    "    \n",
    "    if att == 'euclidean':\n",
    "        signal_streaming_var = distances_dict[att]['eda']['sg']\n",
    "        background_streaming_var = distances_dict[att]['eda']['bc']\n",
    "        \n",
    "    else:\n",
    "        break\n",
    "        \n",
    "    \n",
    "    signal_streaming_var = np.sort(signal_streaming_var)\n",
    "    background_streaming_var = np.sort(background_streaming_var)\n",
    "\n",
    "    signal_kde = stats.gaussian_kde(signal_streaming_var)\n",
    "    background_kde = stats.gaussian_kde(background_streaming_var)\n",
    "    \n",
    "    print('       fitted kde')\n",
    "    \n",
    "    data_eval = np.linspace(min(min(background_streaming_var),min(signal_streaming_var)),\n",
    "                            max(max(background_streaming_var),max(signal_streaming_var)),\n",
    "                            1000)\n",
    "    \n",
    "    background_eval = np.linspace(min(background_streaming_var),\n",
    "                            max(background_streaming_var), \n",
    "                            1000)\n",
    "    signal_eval = np.linspace(min(signal_streaming_var),\n",
    "                              max(signal_streaming_var),\n",
    "                              1000)\n",
    "\n",
    "    # Plot the Probability Distribuction Function (PDF)\n",
    "    \n",
    "    ax.set_ylabel('Probability Density',fontsize=16)\n",
    "    ax.set_xlabel(att,fontsize=16)\n",
    "    ax.set_title('Probability Distribuction Function (PDF)',fontsize=20)\n",
    "        \n",
    "    ax.plot(signal_eval, signal_kde(signal_eval),'r', linewidth=4, label='Signal\\'s Density PDF')\n",
    "    ax.plot(background_eval, background_kde(background_eval),'b', linewidth=4, \n",
    "               label='Background\\'s Density PDF')\n",
    "\n",
    "    ax.grid()\n",
    "    ax.legend()\n",
    "    \n",
    "    print('        plotted')\n",
    "    \n",
    "plt.show()\n",
    "fig.savefig('euclidean_Bayes_EDA_PDF.png', bbox_inches='tight')"
   ]
  },
  {
   "cell_type": "code",
   "execution_count": 35,
   "id": "right-secretary",
   "metadata": {},
   "outputs": [],
   "source": [
    "a = np.array(([1,2,3],[4,5,6]))\n",
    "b = np.array(([1,2,3],[4,5,6]))\n",
    "c = np.array(([1,2,3]))"
   ]
  },
  {
   "cell_type": "code",
   "execution_count": 36,
   "id": "handy-comparison",
   "metadata": {},
   "outputs": [
    {
     "data": {
      "text/plain": [
       "array([[ 2,  8, 18],\n",
       "       [ 8, 20, 36]])"
      ]
     },
     "execution_count": 36,
     "metadata": {},
     "output_type": "execute_result"
    }
   ],
   "source": [
    "(a+b)*c"
   ]
  },
  {
   "cell_type": "code",
   "execution_count": null,
   "id": "packed-preparation",
   "metadata": {},
   "outputs": [],
   "source": []
  }
 ],
 "metadata": {
  "kernelspec": {
   "display_name": "Python 3",
   "language": "python",
   "name": "python3"
  }
 },
 "nbformat": 4,
 "nbformat_minor": 5
}
