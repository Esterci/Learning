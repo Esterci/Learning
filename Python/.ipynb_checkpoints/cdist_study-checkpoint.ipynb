{
 "cells": [
  {
   "cell_type": "code",
   "execution_count": 10,
   "id": "instructional-acting",
   "metadata": {},
   "outputs": [],
   "source": [
    "import numpy as np\n",
    "import math as m\n",
    "from scipy.spatial.distance import cdist"
   ]
  },
  {
   "cell_type": "code",
   "execution_count": 36,
   "id": "rotary-wisdom",
   "metadata": {},
   "outputs": [],
   "source": [
    "data = np.array(([1,2,3],[4,5,6],[7,8,9]))"
   ]
  },
  {
   "cell_type": "code",
   "execution_count": 37,
   "id": "racial-royalty",
   "metadata": {},
   "outputs": [
    {
     "data": {
      "text/plain": [
       "array([[1, 2, 3],\n",
       "       [4, 5, 6],\n",
       "       [7, 8, 9]])"
      ]
     },
     "execution_count": 37,
     "metadata": {},
     "output_type": "execute_result"
    }
   ],
   "source": [
    "data"
   ]
  },
  {
   "cell_type": "code",
   "execution_count": 38,
   "id": "concerned-tennis",
   "metadata": {},
   "outputs": [],
   "source": [
    "scipy = cdist(data, data, metric='euclidean')"
   ]
  },
  {
   "cell_type": "code",
   "execution_count": 39,
   "id": "objective-affiliation",
   "metadata": {},
   "outputs": [
    {
     "data": {
      "text/plain": [
       "array([[ 0.        ,  5.19615242, 10.39230485],\n",
       "       [ 5.19615242,  0.        ,  5.19615242],\n",
       "       [10.39230485,  5.19615242,  0.        ]])"
      ]
     },
     "execution_count": 39,
     "metadata": {},
     "output_type": "execute_result"
    }
   ],
   "source": [
    "scipy"
   ]
  },
  {
   "cell_type": "code",
   "execution_count": 40,
   "id": "affected-packing",
   "metadata": {},
   "outputs": [],
   "source": [
    "thiago = cdist(data, data, metric='euclidean')"
   ]
  },
  {
   "cell_type": "code",
   "execution_count": 41,
   "id": "brief-marketing",
   "metadata": {},
   "outputs": [
    {
     "data": {
      "text/plain": [
       "array([[ 0.        ,  5.19615242, 10.39230485],\n",
       "       [ 5.19615242,  0.        ,  5.19615242],\n",
       "       [10.39230485,  5.19615242,  0.        ]])"
      ]
     },
     "execution_count": 41,
     "metadata": {},
     "output_type": "execute_result"
    }
   ],
   "source": [
    "thiago"
   ]
  },
  {
   "cell_type": "code",
   "execution_count": 62,
   "id": "innovative-navigator",
   "metadata": {},
   "outputs": [],
   "source": [
    "scipy = cdist(data, data, metric='cosine')"
   ]
  },
  {
   "cell_type": "code",
   "execution_count": 44,
   "id": "interim-powder",
   "metadata": {},
   "outputs": [
    {
     "data": {
      "text/plain": [
       "array([[0.00000000e+00, 2.53681538e-02, 4.05880544e-02],\n",
       "       [2.53681538e-02, 2.22044605e-16, 1.80910731e-03],\n",
       "       [4.05880544e-02, 1.80910731e-03, 0.00000000e+00]])"
      ]
     },
     "execution_count": 44,
     "metadata": {},
     "output_type": "execute_result"
    }
   ],
   "source": [
    "scipy"
   ]
  },
  {
   "cell_type": "code",
   "execution_count": 63,
   "id": "human-annual",
   "metadata": {},
   "outputs": [],
   "source": [
    "thiago = cdist(data, data, metric='cosine')"
   ]
  },
  {
   "cell_type": "code",
   "execution_count": 64,
   "id": "given-rabbit",
   "metadata": {},
   "outputs": [
    {
     "data": {
      "text/plain": [
       "array([[0.00000000e+00, 2.53681538e-02, 4.05880544e-02],\n",
       "       [2.53681538e-02, 2.22044605e-16, 1.80910731e-03],\n",
       "       [4.05880544e-02, 1.80910731e-03, 0.00000000e+00]])"
      ]
     },
     "execution_count": 64,
     "metadata": {},
     "output_type": "execute_result"
    }
   ],
   "source": [
    "thiago"
   ]
  },
  {
   "cell_type": "code",
   "execution_count": 48,
   "id": "equipped-rendering",
   "metadata": {},
   "outputs": [],
   "source": [
    "def hand_norm(A):\n",
    "    return m.sqrt(sum([a ** 2 for a in A]))"
   ]
  },
  {
   "cell_type": "code",
   "execution_count": 51,
   "id": "consecutive-providence",
   "metadata": {},
   "outputs": [],
   "source": [
    "def hand_scalar_prod(A,B):\n",
    "    return sum([a * b for a,b in zip(A,B)])"
   ]
  },
  {
   "cell_type": "code",
   "execution_count": 61,
   "id": "developmental-renewal",
   "metadata": {},
   "outputs": [],
   "source": [
    "def hand_dist(A,B, metric = 'euclidean'):\n",
    "    if metric == 'euclidean':\n",
    "        dist = []\n",
    "        for i in range(len(A)):\n",
    "            aux = []\n",
    "            for ii in range(len(B)):\n",
    "                aux.append(m.sqrt(sum([(a - b) ** 2 for a, b in zip(A[i,:], B[ii,:])])))\n",
    "            dist.append(aux)\n",
    "\n",
    "    if metric == 'cosine':\n",
    "        dist = []\n",
    "        for i in range(len(A)):\n",
    "            aux = []\n",
    "            for ii in range(len(B)):\n",
    "                aux.append(1 - (hand_scalar_prod(A[i,:],B[ii,:])/(hand_norm(A[i,:])*hand_norm(B[ii,:]))))\n",
    "            dist.append(aux)\n",
    "    return np.array(dist)"
   ]
  },
  {
   "cell_type": "code",
   "execution_count": 58,
   "id": "integral-procurement",
   "metadata": {},
   "outputs": [
    {
     "data": {
      "text/plain": [
       "0.025368153802923787"
      ]
     },
     "execution_count": 58,
     "metadata": {},
     "output_type": "execute_result"
    }
   ],
   "source": [
    "cosine(data[0,:],data[1,:])"
   ]
  },
  {
   "cell_type": "code",
   "execution_count": null,
   "id": "popular-gibraltar",
   "metadata": {},
   "outputs": [],
   "source": []
  }
 ],
 "metadata": {
  "kernelspec": {
   "display_name": "Python 3",
   "language": "python",
   "name": "python3"
  },
  "language_info": {
   "codemirror_mode": {
    "name": "ipython",
    "version": 3
   },
   "file_extension": ".py",
   "mimetype": "text/x-python",
   "name": "python",
   "nbconvert_exporter": "python",
   "pygments_lexer": "ipython3",
   "version": "3.7.6"
  }
 },
 "nbformat": 4,
 "nbformat_minor": 5
}
