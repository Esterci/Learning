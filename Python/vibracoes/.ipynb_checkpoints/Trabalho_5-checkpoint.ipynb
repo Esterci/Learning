{
 "cells": [
  {
   "cell_type": "code",
   "execution_count": 1,
   "id": "industrial-structure",
   "metadata": {},
   "outputs": [],
   "source": [
    "import numpy as np\n",
    "import math as mt\n",
    "import matplotlib as plt"
   ]
  },
  {
   "cell_type": "code",
   "execution_count": 2,
   "id": "regular-theta",
   "metadata": {},
   "outputs": [],
   "source": [
    "decaimento_log = np.log(0.95/0.5)"
   ]
  },
  {
   "cell_type": "code",
   "execution_count": 3,
   "id": "ideal-chaos",
   "metadata": {},
   "outputs": [
    {
     "data": {
      "text/plain": [
       "0.1016253400964563"
      ]
     },
     "execution_count": 3,
     "metadata": {},
     "output_type": "execute_result"
    }
   ],
   "source": [
    "fator_de_amortecimento = 1/(1+(2*np.pi/decaimento_log)**2)**0.5\n",
    "fator_de_amortecimento"
   ]
  },
  {
   "cell_type": "code",
   "execution_count": 8,
   "id": "pursuant-settle",
   "metadata": {},
   "outputs": [
    {
     "data": {
      "text/plain": [
       "0.9448449178243407"
      ]
     },
     "execution_count": 8,
     "metadata": {},
     "output_type": "execute_result"
    }
   ],
   "source": [
    "k = np.sqrt(1-fator_de_amortecimento**2)\n",
    "tal = (np.arctan(k/fator_de_amortecimento)-np.arctan(k/(fator_de_amortecimento+1.6)))/k\n",
    "tal"
   ]
  },
  {
   "cell_type": "code",
   "execution_count": null,
   "id": "green-pharmacy",
   "metadata": {},
   "outputs": [],
   "source": []
  }
 ],
 "metadata": {
  "kernelspec": {
   "display_name": "Python 3",
   "language": "python",
   "name": "python3"
  },
  "language_info": {
   "codemirror_mode": {
    "name": "ipython",
    "version": 3
   },
   "file_extension": ".py",
   "mimetype": "text/x-python",
   "name": "python",
   "nbconvert_exporter": "python",
   "pygments_lexer": "ipython3",
   "version": "3.7.6"
  }
 },
 "nbformat": 4,
 "nbformat_minor": 5
}
