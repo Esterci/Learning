{
 "cells": [
  {
   "cell_type": "markdown",
   "id": "pressed-korea",
   "metadata": {},
   "source": [
    "# Trabalho 4"
   ]
  },
  {
   "cell_type": "code",
   "execution_count": 3,
   "id": "fallen-wagon",
   "metadata": {},
   "outputs": [],
   "source": [
    "import numpy as np\n",
    "import math as m"
   ]
  },
  {
   "cell_type": "code",
   "execution_count": 4,
   "id": "provincial-nickel",
   "metadata": {},
   "outputs": [
    {
     "data": {
      "text/plain": [
       "0.6931471805599453"
      ]
     },
     "execution_count": 4,
     "metadata": {},
     "output_type": "execute_result"
    }
   ],
   "source": [
    "sigma = np.log(0.4/0.1)/2\n",
    "sigma"
   ]
  },
  {
   "cell_type": "code",
   "execution_count": 5,
   "id": "growing-interval",
   "metadata": {},
   "outputs": [
    {
     "data": {
      "text/plain": [
       "0.10965258099938507"
      ]
     },
     "execution_count": 5,
     "metadata": {},
     "output_type": "execute_result"
    }
   ],
   "source": [
    "epsilon = np.sqrt(1/(1+(2*np.pi/sigma)**2))\n",
    "epsilon"
   ]
  },
  {
   "cell_type": "code",
   "execution_count": null,
   "id": "outside-invalid",
   "metadata": {},
   "outputs": [],
   "source": []
  }
 ],
 "metadata": {
  "kernelspec": {
   "display_name": "Python 3",
   "language": "python",
   "name": "python3"
  },
  "language_info": {
   "codemirror_mode": {
    "name": "ipython",
    "version": 3
   },
   "file_extension": ".py",
   "mimetype": "text/x-python",
   "name": "python",
   "nbconvert_exporter": "python",
   "pygments_lexer": "ipython3",
   "version": "3.7.6"
  }
 },
 "nbformat": 4,
 "nbformat_minor": 5
}
