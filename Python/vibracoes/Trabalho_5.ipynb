{
 "cells": [
  {
   "cell_type": "code",
   "execution_count": 1,
   "id": "industrial-structure",
   "metadata": {},
   "outputs": [],
   "source": [
    "import numpy as np\n",
    "import math as mt\n",
    "import matplotlib as plt"
   ]
  },
  {
   "cell_type": "code",
   "execution_count": 4,
   "id": "regular-theta",
   "metadata": {},
   "outputs": [],
   "source": [
    "decaimento_log = np.log(0.95/0.5)"
   ]
  },
  {
   "cell_type": "code",
   "execution_count": 6,
   "id": "ideal-chaos",
   "metadata": {},
   "outputs": [
    {
     "data": {
      "text/plain": [
       "0.1016253400964563"
      ]
     },
     "execution_count": 6,
     "metadata": {},
     "output_type": "execute_result"
    }
   ],
   "source": [
    "fator_de_amortecimento = 1/(1+(2*np.pi/decaimento_log)**2)**0.5\n",
    "fator_de_amortecimento"
   ]
  },
  {
   "cell_type": "code",
   "execution_count": null,
   "id": "artistic-swiss",
   "metadata": {},
   "outputs": [],
   "source": []
  }
 ],
 "metadata": {
  "kernelspec": {
   "display_name": "Python 3",
   "language": "python",
   "name": "python3"
  },
  "language_info": {
   "codemirror_mode": {
    "name": "ipython",
    "version": 3
   },
   "file_extension": ".py",
   "mimetype": "text/x-python",
   "name": "python",
   "nbconvert_exporter": "python",
   "pygments_lexer": "ipython3",
   "version": "3.7.6"
  }
 },
 "nbformat": 4,
 "nbformat_minor": 5
}
