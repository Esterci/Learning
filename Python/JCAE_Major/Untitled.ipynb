{
 "cells": [
  {
   "cell_type": "code",
   "execution_count": 2,
   "id": "joined-canadian",
   "metadata": {},
   "outputs": [
    {
     "name": "stdout",
     "output_type": "stream",
     "text": [
      "['c', 'd']\n",
      "['a', 'b']\n",
      "0\n",
      "****************************************\n",
      "['a', 'b']\n",
      "['c', 'd']\n",
      "1\n",
      "****************************************\n",
      "['a', 'c']\n",
      "['b', 'd']\n",
      "2\n",
      "****************************************\n",
      "['b', 'd']\n",
      "['a', 'c']\n",
      "3\n",
      "****************************************\n"
     ]
    }
   ],
   "source": [
    "import numpy as np\n",
    "from sklearn.model_selection import KFold, RepeatedKFold\n",
    "random_state = 12883823\n",
    "X = [\"a\", \"b\", \"c\", \"d\"]\n",
    "kf = RepeatedKFold(n_splits=2, n_repeats=2, random_state=random_state)\n",
    "\n",
    "for i,(train_idx, test_idx) in enumerate(kf.split(X)):\n",
    "    train = [X[i] for i in train_idx]\n",
    "    test = [X[i] for i in test_idx]\n",
    "    \n",
    "    print(train)\n",
    "    print(test)\n",
    "    print(i)\n",
    "    print('*'*40)"
   ]
  },
  {
   "cell_type": "code",
   "execution_count": null,
   "id": "normal-privacy",
   "metadata": {},
   "outputs": [],
   "source": [
    "output_id = '100'\n",
    "full_data = np.genfromtxt('Input/Output_' + output_id + '.csv',\n",
    "                                delimiter=',')"
   ]
  },
  {
   "cell_type": "code",
   "execution_count": null,
   "id": "extraordinary-leisure",
   "metadata": {},
   "outputs": [],
   "source": [
    "target = full_data[:,-1]\n",
    "ID = full_data[:,0]\n",
    "diam_target = np.ones((target.shape))\n",
    "\n",
    "diam_target[target==0] = 0\n",
    "diam_target[0:112*750] = -1\n",
    "\n",
    "unique_id = np.unique(ID).tolist()\n",
    "\n",
    "id_train, id_test = train_test_split(unique_id, test_size=0.3)\n",
    "\n",
    "train_index =[]\n",
    "test_index =[]\n",
    "\n",
    "for i in range(len(ID)):\n",
    "    if ID[i] in id_train:\n",
    "        train_index.append(i)\n",
    "        \n",
    "    elif ID[i] in id_test:\n",
    "        test_index.append(i)\n",
    "\n",
    "train_set = full_data[train_index,:]\n",
    "test_set = full_data[test_index,:]\n",
    "\n",
    "_,train_index_first_occurance = np.unique(train_set[:,0],return_index=True)\n",
    "_,test_index_first_occurance = np.unique(test_set[:,0],return_index=True)\n",
    "\n",
    "train_set_target = train_set[train_index_first_occurance.tolist(),-1]\n",
    "test_set_target = test_set[test_index_first_occurance.tolist(),-1]\n",
    "\n",
    "train_set_diam = diam_target[train_index_first_occurance.tolist()]\n",
    "test_set_diam = diam_target[test_index_first_occurance.tolist()"
   ]
  }
 ],
 "metadata": {
  "kernelspec": {
   "display_name": "Python 3",
   "language": "python",
   "name": "python3"
  },
  "language_info": {
   "codemirror_mode": {
    "name": "ipython",
    "version": 3
   },
   "file_extension": ".py",
   "mimetype": "text/x-python",
   "name": "python",
   "nbconvert_exporter": "python",
   "pygments_lexer": "ipython3",
   "version": "3.7.6"
  }
 },
 "nbformat": 4,
 "nbformat_minor": 5
}
