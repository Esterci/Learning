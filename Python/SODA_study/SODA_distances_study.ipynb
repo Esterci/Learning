{
 "cells": [
  {
   "cell_type": "code",
   "execution_count": 2,
   "metadata": {},
   "outputs": [],
   "source": [
    "### import libraries\n",
    "\n",
    "import numpy as np\n",
    "from sklearn.metrics.pairwise import cosine_distances,cosine_similarity,euclidean_distances\n",
    "from sklearn.datasets import load_iris\n",
    "from importlib import reload\n",
    "import matplotlib.pyplot as plt"
   ]
  },
  {
   "cell_type": "code",
   "execution_count": 3,
   "metadata": {},
   "outputs": [
    {
     "name": "stdout",
     "output_type": "stream",
     "text": [
      "Data-set info:\n",
      "class:  ndarray\n",
      "shape:  (150, 4)\n",
      "strides:  (32, 8)\n",
      "itemsize:  8\n",
      "aligned:  True\n",
      "contiguous:  True\n",
      "fortran:  False\n",
      "data pointer: 0x558197b449c0\n",
      "byteorder:  little\n",
      "byteswap:  False\n",
      "type: float64\n",
      "None\n"
     ]
    }
   ],
   "source": [
    "### load iris data_set\n",
    "\n",
    "data_set = load_iris()\n",
    "\n",
    "X = data_set.data\n",
    "\n",
    "Y = data_set.target\n",
    "\n",
    "print('Data-set info:')\n",
    "\n",
    "print(np.info(X))"
   ]
  },
  {
   "cell_type": "markdown",
   "metadata": {},
   "source": [
    "# Testing distances"
   ]
  },
  {
   "cell_type": "code",
   "execution_count": 3,
   "metadata": {},
   "outputs": [],
   "source": [
    "### calculing pi_caculator cumulative proximity\n",
    "\n",
    "UN, W = X.shape\n",
    "\n",
    "Xnorm = np.matrix(np.sqrt(np.sum(np.power(X,2),axis=1))).T\n",
    "aux2 = Xnorm\n",
    "\n",
    "for i in range(W-1):\n",
    "    aux2 = np.insert(aux2,0,Xnorm.T,axis=1)\n",
    "\n",
    "X1 = X / aux2\n",
    "AA2 = np.mean(X1,0)\n",
    "X2 = 1\n",
    "DT2 = X2 - np.sum(np.power(AA2,2))\n",
    "aux = []\n",
    "for i in range(UN): aux.append(AA2)\n",
    "aux2 = [X1[i]-aux[i] for i in range(UN)]\n",
    "pi_caculator_prox = np.sum(np.sum(np.power(aux2,2),axis=1),axis=1)+DT2"
   ]
  },
  {
   "cell_type": "code",
   "execution_count": 4,
   "metadata": {},
   "outputs": [],
   "source": [
    "### calculing hand_dist cumulative proximity\n",
    "\n",
    "L, W = X.shape\n",
    "distance = np.zeros((L,L))\n",
    "\n",
    "for i in range(L):\n",
    "    for j in range(L):\n",
    "\n",
    "        dot = 0\n",
    "        denom_a = 0\n",
    "        denom_b = 0\n",
    "\n",
    "        for k in range(W):\n",
    "\n",
    "            dot += (X[i,k]*X[j,k])\n",
    "            denom_a += X[i,k]**2\n",
    "            denom_b += X[j,k]**2\n",
    "\n",
    "        cos_similarity = dot / ((denom_a ** 0.5) * (denom_b ** 0.5))\n",
    "\n",
    "        distance[i,j] = 1 - cos_similarity\n",
    "\n",
    "hand_dist_prox = np.sum(distance**2,axis=1)"
   ]
  },
  {
   "cell_type": "code",
   "execution_count": 5,
   "metadata": {},
   "outputs": [],
   "source": [
    "### calculing cosine_distance cumulative proximity\n",
    "\n",
    "distance = cosine_distances(X)\n",
    "\n",
    "cosine_distance_prox = np.sum(distance**2,axis=1)"
   ]
  },
  {
   "cell_type": "code",
   "execution_count": 6,
   "metadata": {},
   "outputs": [],
   "source": [
    "### calculing cosine_similarity cumulative proximity\n",
    "\n",
    "distance = cosine_similarity(X)\n",
    "\n",
    "cosine_similarity_prox = np.sum(distance**2,axis=1)"
   ]
  },
  {
   "cell_type": "code",
   "execution_count": 7,
   "metadata": {},
   "outputs": [],
   "source": [
    "### calculing euclidean_distance cumulative proximity\n",
    "\n",
    "distance = euclidean_distances(X)\n",
    "\n",
    "euclidean_distance_prox = np.sum(distance**2,axis=1)"
   ]
  },
  {
   "cell_type": "code",
   "execution_count": 8,
   "metadata": {},
   "outputs": [
    {
     "name": "stdout",
     "output_type": "stream",
     "text": [
      "difference = 5.60e-01 +/- 2.91e-01\n"
     ]
    }
   ],
   "source": [
    "### comparing pi_caculator with cosine_distance\n",
    "\n",
    "diff = cosine_distance_prox - pi_caculator_prox\n",
    "\n",
    "print('difference = {:.2e} +/- {:.2e}'.format(np.mean(diff),np.std(diff)))"
   ]
  },
  {
   "cell_type": "code",
   "execution_count": 9,
   "metadata": {},
   "outputs": [
    {
     "name": "stdout",
     "output_type": "stream",
     "text": [
      "difference = 1.37e+02 +/- 4.50e+00\n"
     ]
    }
   ],
   "source": [
    "### comparing pi_caculator with cosine_similarity\n",
    "\n",
    "diff = cosine_similarity_prox - pi_caculator_prox\n",
    "\n",
    "print('difference = {:.2e} +/- {:.2e}'.format(np.mean(diff),np.std(diff)))"
   ]
  },
  {
   "cell_type": "code",
   "execution_count": 10,
   "metadata": {},
   "outputs": [
    {
     "name": "stdout",
     "output_type": "stream",
     "text": [
      "difference = 1.37e+02 +/- 4.78e+00\n"
     ]
    }
   ],
   "source": [
    "### comparing hand_dist with cosine_similarity\n",
    "\n",
    "diff = cosine_similarity_prox - hand_dist_prox\n",
    "\n",
    "print('difference = {:.2e} +/- {:.2e}'.format(np.mean(diff),np.std(diff)))"
   ]
  },
  {
   "cell_type": "code",
   "execution_count": 11,
   "metadata": {},
   "outputs": [
    {
     "name": "stdout",
     "output_type": "stream",
     "text": [
      "difference = 3.18e-16 +/- 1.08e-15\n"
     ]
    }
   ],
   "source": [
    "### comparing hand_dist with cosine_distance\n",
    "\n",
    "diff = cosine_distance_prox - hand_dist_prox\n",
    "\n",
    "print('difference = {:.2e} +/- {:.2e}'.format(np.mean(diff),np.std(diff)))"
   ]
  },
  {
   "cell_type": "code",
   "execution_count": 12,
   "metadata": {},
   "outputs": [],
   "source": [
    "### defining new pi calculator\n",
    "\n",
    "def pi_calculator(Uniquesample, mode):\n",
    "    \n",
    "    '''\n",
    "    # Cumulative Proximity in recursive version\n",
    "    # Section 2.2.i of SODA\n",
    "    '''\n",
    "    \n",
    "    if mode == 'euclidean':\n",
    "\n",
    "        L, W = Uniquesample.shape\n",
    "        distance = np.zeros((L))\n",
    "\n",
    "        uspi = []\n",
    "\n",
    "        for i in range(L):\n",
    "\n",
    "            for j in range(L):\n",
    "\n",
    "                norm = 0\n",
    "\n",
    "                for k in range(W): norm += (Uniquesample[i,k]-Uniquesample[j,k])**2\n",
    "\n",
    "                euclidean_distance = norm**0.5\n",
    "\n",
    "                distance[j] = euclidean_distance\n",
    "\n",
    "            uspi.append(np.sum(distance**2,axis=0))\n",
    "\n",
    "\n",
    "    if mode == 'cosine':\n",
    "\n",
    "        L, W = Uniquesample.shape\n",
    "        distance = np.zeros((L))\n",
    "\n",
    "        uspi = []\n",
    "\n",
    "        for i in range(L):\n",
    "\n",
    "            for j in range(L):\n",
    "\n",
    "                dot = 0\n",
    "                denom_a = 0\n",
    "                denom_b = 0\n",
    "\n",
    "                for k in range(W):\n",
    "\n",
    "                    dot += (Uniquesample[i,k]*Uniquesample[j,k])\n",
    "                    denom_a += Uniquesample[i,k]**2\n",
    "                    denom_b += Uniquesample[j,k]**2\n",
    "\n",
    "                cos_similarity = dot / ((denom_a ** 0.5) * (denom_b ** 0.5))\n",
    "\n",
    "                distance[j] = 1 - cos_similarity\n",
    "\n",
    "            uspi.append(np.sum(distance**2,axis=0))\n",
    "        \n",
    "    return uspi"
   ]
  },
  {
   "cell_type": "code",
   "execution_count": 13,
   "metadata": {},
   "outputs": [
    {
     "name": "stdout",
     "output_type": "stream",
     "text": [
      "difference = 5.38e-13 +/- 7.22e-13\n",
      "difference = 5.38e-13 +/- 7.22e-13\n"
     ]
    }
   ],
   "source": [
    "### testing new function \n",
    "\n",
    "ld1 = pi_calculator(X,'euclidean')\n",
    "\n",
    "ld2 = pi_calculator(X,'cosine')\n",
    "\n",
    "diff1 = euclidean_distance_prox - ld1\n",
    "\n",
    "print('difference = {:.2e} +/- {:.2e}'.format(np.mean(diff1),np.std(diff1)))\n",
    "\n",
    "diff2 = cosine_distance_prox - ld2\n",
    "\n",
    "print('difference = {:.2e} +/- {:.2e}'.format(np.mean(diff1),np.std(diff1)))"
   ]
  },
  {
   "cell_type": "markdown",
   "metadata": {},
   "source": [
    "# Testing SODA modifications"
   ]
  },
  {
   "cell_type": "code",
   "execution_count": 4,
   "metadata": {},
   "outputs": [
    {
     "ename": "NameError",
     "evalue": "name 'SODA_numba' is not defined",
     "output_type": "error",
     "traceback": [
      "\u001b[0;31m---------------------------------------------------------------------------\u001b[0m",
      "\u001b[0;31mNameError\u001b[0m                                 Traceback (most recent call last)",
      "\u001b[0;32m/tmp/ipykernel_5357/2256505842.py\u001b[0m in \u001b[0;36m<module>\u001b[0;34m\u001b[0m\n\u001b[0;32m----> 1\u001b[0;31m \u001b[0mreload\u001b[0m\u001b[0;34m(\u001b[0m\u001b[0mSODA_numba\u001b[0m\u001b[0;34m)\u001b[0m\u001b[0;34m\u001b[0m\u001b[0;34m\u001b[0m\u001b[0m\n\u001b[0m",
      "\u001b[0;31mNameError\u001b[0m: name 'SODA_numba' is not defined"
     ]
    }
   ],
   "source": [
    "reload(SODA_numba)"
   ]
  },
  {
   "cell_type": "code",
   "execution_count": 4,
   "metadata": {},
   "outputs": [],
   "source": [
    "import SODA_numba\n",
    "\n",
    "SODA_input = {\n",
    "    'StaticData' : X,\n",
    "    'GridSize' : 5,\n",
    "    'DistanceType' : 'euclidean'\n",
    "}\n",
    "\n",
    "output = SODA_numba.SelfOrganisedDirectionAwareDataPartitioning(SODA_input)\n",
    "\n",
    "target = np.array(output['IDX'])"
   ]
  },
  {
   "cell_type": "code",
   "execution_count": 53,
   "metadata": {},
   "outputs": [
    {
     "data": {
      "text/plain": [
       "array([1, 2])"
      ]
     },
     "execution_count": 53,
     "metadata": {},
     "output_type": "execute_result"
    }
   ],
   "source": [
    "np.unique(target)"
   ]
  },
  {
   "cell_type": "code",
   "execution_count": 49,
   "metadata": {},
   "outputs": [
    {
     "data": {
      "image/png": "[encoded data removed]",
      "text/plain": [
       "<Figure size 576x576 with 1 Axes>"
      ]
     },
     "metadata": {
      "needs_background": "light"
     },
     "output_type": "display_data"
    }
   ],
   "source": [
    "plt.figure(figsize=(8, 8))\n",
    "\n",
    "plt.scatter(X[Y==0,0],X[Y==0,1],color='r')\n",
    "plt.scatter(X[Y==1,0],X[Y==1,1],color='g')\n",
    "plt.scatter(X[Y==2,0],X[Y==1,1],color='b')\n",
    "\n",
    "plt.show()"
   ]
  },
  {
   "cell_type": "code",
   "execution_count": 56,
   "metadata": {},
   "outputs": [
    {
     "data": {
      "image/png": "[encoded data removed]",
      "text/plain": [
       "<Figure size 576x576 with 1 Axes>"
      ]
     },
     "metadata": {
      "needs_background": "light"
     },
     "output_type": "display_data"
    }
   ],
   "source": [
    "plt.figure(figsize=(8, 8))\n",
    "\n",
    "plt.scatter(X[target==1,0],X[target==1,1],color='g')\n",
    "plt.scatter(X[target==2,0],X[target==2,1],color='b')\n",
    "\n",
    "plt.show()"
   ]
  }
 ],
 "metadata": {
  "interpreter": {
   "hash": "9eef35c43c46ba78884f2801db5febcf9f181bc5ca0a8cce93082a958baa237b"
  },
  "kernelspec": {
   "display_name": "Python 3.7.11 64-bit ('tf': conda)",
   "name": "python3"
  },
  "language_info": {
   "codemirror_mode": {
    "name": "ipython",
    "version": 3
   },
   "file_extension": ".py",
   "mimetype": "text/x-python",
   "name": "python",
   "nbconvert_exporter": "python",
   "pygments_lexer": "ipython3",
   "version": "3.7.11"
  },
  "orig_nbformat": 4
 },
 "nbformat": 4,
 "nbformat_minor": 2
}
