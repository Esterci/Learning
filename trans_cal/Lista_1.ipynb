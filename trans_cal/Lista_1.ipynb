{
 "cells": [
  {
   "cell_type": "code",
   "execution_count": 51,
   "id": "tired-weekly",
   "metadata": {},
   "outputs": [],
   "source": [
    "import numpy as np \n",
    "import math as m\n",
    "\n",
    "def celsius_to_kelvin(D):\n",
    "    K = D + 273.15\n",
    "    return K\n",
    "\n",
    "def kelvin_to_celsius(K):\n",
    "    D = K - 273.15\n",
    "    return D\n",
    "\n",
    "def eng(N):\n",
    "    e = 10**N\n",
    "    return e"
   ]
  },
  {
   "cell_type": "markdown",
   "id": "ecological-ballot",
   "metadata": {},
   "source": [
    "# Useful constants"
   ]
  },
  {
   "cell_type": "code",
   "execution_count": 2,
   "id": "impossible-metabolism",
   "metadata": {},
   "outputs": [],
   "source": [
    "sigma = 5.67*10**(-8)"
   ]
  },
  {
   "cell_type": "markdown",
   "id": "violent-fairy",
   "metadata": {},
   "source": [
    "# 1.3"
   ]
  },
  {
   "cell_type": "code",
   "execution_count": 31,
   "id": "obvious-boost",
   "metadata": {},
   "outputs": [
    {
     "name": "stdout",
     "output_type": "stream",
     "text": [
      "4311.999999999999\n",
      "Energia perda: 3.725568e+08 J\n",
      "Energia forno: 4.139520e+08 J\n",
      "Custo: $ 8.28\n"
     ]
    }
   ],
   "source": [
    "C = 11\n",
    "L = 8\n",
    "l = 0.20\n",
    "T_s = celsius_to_kelvin (17)\n",
    "T_i = celsius_to_kelvin (10)\n",
    "k = 1.4\n",
    "eta = 0.9\n",
    "C_g = 0.02*10**(-6)\n",
    "t_d = 24*60**2\n",
    "\n",
    "A = C*L\n",
    "q = A*k*(T_s-T_i)/l\n",
    "print(q)\n",
    "print('Energia perda: {:e} J'.format(q*t_d))\n",
    "print('Energia forno: {:e} J'.format(q*t_d/eta))\n",
    "\n",
    "custo = (q*t_d*C_g)/eta\n",
    "print('Custo: $ {:.2f}'.format(custo))"
   ]
  },
  {
   "cell_type": "markdown",
   "id": "proof-following",
   "metadata": {},
   "source": [
    "# 1.6"
   ]
  },
  {
   "cell_type": "code",
   "execution_count": 50,
   "id": "continent-australia",
   "metadata": {},
   "outputs": [
    {
     "name": "stdout",
     "output_type": "stream",
     "text": [
      "Taxa de perda de calor: 19600.0 W\n",
      "Taxa de perda de calor: 1400.0 W\n",
      "Taxa de perda de calor: 60.0 W\n",
      "Taxa de perda de calor: 1400.0 W\n",
      "Taxa de perda de calor: 2860.0 W\n",
      "Taxa de perda de calor: 16740.0 W\n"
     ]
    }
   ],
   "source": [
    "W = 1\n",
    "H = 2\n",
    "l = 5*10**(-3)\n",
    "k_v = 1.4\n",
    "T_i = celsius_to_kelvin(15)\n",
    "T_e = celsius_to_kelvin(-20)\n",
    "l_ar = 10*10**(-3)\n",
    "T_1 = celsius_to_kelvin(10)\n",
    "T_2 = celsius_to_kelvin(-15)\n",
    "k_ar = 0.024\n",
    "\n",
    "# Letra A\n",
    "A = W*H\n",
    "q = A*k_v*(T_i-T_e)/l\n",
    "print('Taxa de perda de calor: {} W'.format(q))\n",
    "\n",
    "# Letra B\n",
    "q1_dot = (k_v/l)*(T_i-T_1)\n",
    "print('Taxa de perda de calor: {} W'.format(q1_dot))\n",
    "q2_dot = (k_ar/l_ar) *(T_1-T_2)\n",
    "print('Taxa de perda de calor: {} W'.format(q2_dot))\n",
    "q3_dot = (k_v/l) *(T_2-T_e)\n",
    "print('Taxa de perda de calor: {} W'.format(q3_dot))\n",
    "print('Taxa de perda de calor: {} W'.format(q1_dot + q2_dot + q3_dot))\n",
    "print('Taxa de perda de calor: {} W'.format(q - (q1_dot + q2_dot + q3_dot)))"
   ]
  },
  {
   "cell_type": "markdown",
   "id": "judicial-raise",
   "metadata": {},
   "source": [
    "# 1.10"
   ]
  },
  {
   "cell_type": "code",
   "execution_count": 64,
   "id": "original-twist",
   "metadata": {},
   "outputs": [
    {
     "name": "stdout",
     "output_type": "stream",
     "text": [
      "Temperatura p/ Al: 383.54788735772973 K\n",
      "Temperatura p/ Cu: 383.30915494309187 K\n"
     ]
    }
   ],
   "source": [
    "l = 5*eng(-3)\n",
    "D = 200*eng(-3)\n",
    "k_al = 240\n",
    "k_cu = 399\n",
    "T_a = celsius_to_kelvin(110)\n",
    "q = 600\n",
    "A = np.pi * D**2 /4\n",
    "\n",
    "# Para o alumínio\n",
    "\n",
    "T_f = (l*q)/(A*k_al) + T_a\n",
    "print('Temperatura p/ Al: {} K'.format((T_f)))\n",
    "\n",
    "# Para o alumínio\n",
    "\n",
    "T_f = (l*k_cu)/(A*k_cu) + T_a\n",
    "print('Temperatura p/ Cu: {} K'.format(T_f))\n"
   ]
  },
  {
   "cell_type": "markdown",
   "id": "consolidated-juvenile",
   "metadata": {},
   "source": [
    "# 1.11"
   ]
  },
  {
   "cell_type": "code",
   "execution_count": 67,
   "id": "therapeutic-conclusion",
   "metadata": {},
   "outputs": [
    {
     "name": "stdout",
     "output_type": "stream",
     "text": [
      "Diferença de temp.: 1.07 K\n"
     ]
    }
   ],
   "source": [
    "k_si = 150\n",
    "W = 5*eng(-3)\n",
    "l = 1*eng(-3)\n",
    "P = 4\n",
    "\n",
    "delta_T = l*P/(W**2 * k_si)\n",
    "print('Diferença de temp.: {:.2f} K'.format(delta_T))"
   ]
  },
  {
   "cell_type": "code",
   "execution_count": 70,
   "id": "heated-aluminum",
   "metadata": {},
   "outputs": [
    {
     "name": "stdout",
     "output_type": "stream",
     "text": [
      "Coeficiente de tranferência por convec. Ag: 4570.60\n",
      "Coeficiente de tranferência por convec. Ar: 65.29\n"
     ]
    }
   ],
   "source": [
    "D = 30*eng(-3)\n",
    "T_inft = celsius_to_kelvin(25)\n",
    "T_s = celsius_to_kelvin(90)\n",
    "P_u_ag = 28 *eng(3)\n",
    "P_u_ar = 400\n",
    "\n",
    "# Para a água\n",
    "\n",
    "h = (P_u_ag)/(np.pi*D*(T_s-T_inft))\n",
    "\n",
    "print('Coeficiente de tranferência por convec. Ag: {:.2f}'.format(h))\n",
    "\n",
    "h = (P_u_ar)/(np.pi*D*(T_s-T_inft))\n",
    "\n",
    "print('Coeficiente de tranferência por convec. Ar: {:.2f}'.format(h))"
   ]
  },
  {
   "cell_type": "code",
   "execution_count": null,
   "id": "brown-thermal",
   "metadata": {},
   "outputs": [],
   "source": []
  }
 ],
 "metadata": {
  "kernelspec": {
   "display_name": "Python 3",
   "language": "python",
   "name": "python3"
  },
  "language_info": {
   "codemirror_mode": {
    "name": "ipython",
    "version": 3
   },
   "file_extension": ".py",
   "mimetype": "text/x-python",
   "name": "python",
   "nbconvert_exporter": "python",
   "pygments_lexer": "ipython3",
   "version": "3.7.6"
  }
 },
 "nbformat": 4,
 "nbformat_minor": 5
}
