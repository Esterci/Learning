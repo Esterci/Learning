{
 "cells": [
  {
   "cell_type": "code",
   "execution_count": 2,
   "id": "expired-workshop",
   "metadata": {},
   "outputs": [],
   "source": [
    "import numpy as np \n",
    "import math as m\n",
    "\n",
    "def celsius_to_kelvin(D):\n",
    "    K = D + 273.15\n",
    "    return K\n",
    "\n",
    "def kelvin_to_celsius(K):\n",
    "    D = K - 273.15\n",
    "    return D\n",
    "\n",
    "def cal_to_joule(cal):\n",
    "    J = cal * 4.184\n",
    "    return J\n",
    "\n",
    "def eng(N):\n",
    "    print('{:e}'.format(N))\n",
    "    return"
   ]
  },
  {
   "cell_type": "markdown",
   "id": "divine-flash",
   "metadata": {},
   "source": [
    "# Useful constants"
   ]
  },
  {
   "cell_type": "code",
   "execution_count": 4,
   "id": "continental-monday",
   "metadata": {},
   "outputs": [],
   "source": [
    "sigma = 5.67*10**(-8)"
   ]
  },
  {
   "cell_type": "code",
   "execution_count": null,
   "id": "excessive-responsibility",
   "metadata": {},
   "outputs": [],
   "source": [
    "D = 0.16\n",
    "d = 2*10**(-3)\n",
    "n_res = 0.92\n",
    "V_ag = 10**-3\n",
    "T_inf = celsius_to_kelvin(27)\n",
    "T_f = celsius_to_kelvin(100)\n",
    "P = 1250\n",
    "rho = 1/1.027 * 10 ** 3\n",
    "k_aco = 14.9\n",
    "h = 15\n",
    "hf = cal_to_joule(540)*10**3"
   ]
  },
  {
   "cell_type": "code",
   "execution_count": 30,
   "id": "technological-measure",
   "metadata": {},
   "outputs": [
    {
     "data": {
      "text/plain": [
       "1150.0"
      ]
     },
     "execution_count": 30,
     "metadata": {},
     "output_type": "execute_result"
    }
   ],
   "source": [
    "E_ent_tx = n_res * P\n",
    "E_ent_tx"
   ]
  },
  {
   "cell_type": "code",
   "execution_count": 31,
   "id": "middle-visibility",
   "metadata": {},
   "outputs": [
    {
     "data": {
      "text/plain": [
       "2199961.0516066216"
      ]
     },
     "execution_count": 31,
     "metadata": {},
     "output_type": "execute_result"
    }
   ],
   "source": [
    "U_lat = V_ag * rho * hf\n",
    "U_lat"
   ]
  },
  {
   "cell_type": "code",
   "execution_count": 32,
   "id": "cutting-setup",
   "metadata": {},
   "outputs": [
    {
     "data": {
      "text/plain": [
       "373.0033154722036"
      ]
     },
     "execution_count": 32,
     "metadata": {},
     "output_type": "execute_result"
    }
   ],
   "source": [
    "T_s = ((k_aco/d)*T_f + h * T_inf)/((k_aco/d) + h)\n",
    "T_s"
   ]
  },
  {
   "cell_type": "code",
   "execution_count": 33,
   "id": "stainless-expert",
   "metadata": {},
   "outputs": [
    {
     "data": {
      "text/plain": [
       "3.308190309199724"
      ]
     },
     "execution_count": 33,
     "metadata": {},
     "output_type": "execute_result"
    }
   ],
   "source": [
    "E_sai_tx = (4*V_ag/D + (np.pi/4)*D**2)*((T_f-T_s)/d)\n",
    "E_sai_tx"
   ]
  },
  {
   "cell_type": "code",
   "execution_count": 35,
   "id": "empirical-skirt",
   "metadata": {},
   "outputs": [
    {
     "data": {
      "text/plain": [
       "31.975476947606204"
      ]
     },
     "execution_count": 35,
     "metadata": {},
     "output_type": "execute_result"
    }
   ],
   "source": [
    "t = U_lat/(E_ent_tx-E_sai_tx)\n",
    "t/60"
   ]
  },
  {
   "cell_type": "code",
   "execution_count": null,
   "id": "neither-writing",
   "metadata": {},
   "outputs": [],
   "source": []
  }
 ],
 "metadata": {
  "kernelspec": {
   "display_name": "Python 3",
   "language": "python",
   "name": "python3"
  },
  "language_info": {
   "codemirror_mode": {
    "name": "ipython",
    "version": 3
   },
   "file_extension": ".py",
   "mimetype": "text/x-python",
   "name": "python",
   "nbconvert_exporter": "python",
   "pygments_lexer": "ipython3",
   "version": "3.7.6"
  }
 },
 "nbformat": 4,
 "nbformat_minor": 5
}
