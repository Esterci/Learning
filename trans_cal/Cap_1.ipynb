{
 "cells": [
  {
   "cell_type": "code",
   "execution_count": 1,
   "id": "theoretical-consensus",
   "metadata": {},
   "outputs": [],
   "source": [
    "import numpy as np \n",
    "import math as m\n",
    "\n",
    "def celsius_to_kelvin(D):\n",
    "    K = D + 273.15\n",
    "    return K\n",
    "\n",
    "def kelvin_to_celsius(K):\n",
    "    D = K - 273.15\n",
    "    return D\n",
    "\n",
    "def eng(N):\n",
    "    print('{:e}'.format(N))\n",
    "    return"
   ]
  },
  {
   "cell_type": "markdown",
   "id": "broken-foster",
   "metadata": {},
   "source": [
    "# Useful constants"
   ]
  },
  {
   "cell_type": "code",
   "execution_count": 2,
   "id": "comfortable-swimming",
   "metadata": {},
   "outputs": [],
   "source": [
    "sigma = 5.67*10**(-8)"
   ]
  },
  {
   "cell_type": "markdown",
   "id": "arranged-kelly",
   "metadata": {},
   "source": [
    "# Exercício 1.3"
   ]
  },
  {
   "cell_type": "code",
   "execution_count": 84,
   "id": "induced-paradise",
   "metadata": {},
   "outputs": [],
   "source": [
    "n_ce = 0.93\n",
    "n_ger = 0.95\n",
    "L = 6\n",
    "D = 3\n",
    "P = 2.5*10**6\n",
    "T_ar = celsius_to_kelvin(25)\n",
    "T_viz = celsius_to_kelvin(20)\n",
    "epsilon = 0.83\n",
    "sigma = 5.67*10**(-8)\n",
    "h = 35"
   ]
  },
  {
   "cell_type": "code",
   "execution_count": 85,
   "id": "subject-coalition",
   "metadata": {},
   "outputs": [
    {
     "name": "stdout",
     "output_type": "stream",
     "text": [
      "3.296548e+05\n"
     ]
    }
   ],
   "source": [
    "q = P*((1/(n_ce*n_ger))-1)\n",
    "eng(q)"
   ]
  },
  {
   "cell_type": "code",
   "execution_count": 86,
   "id": "balanced-andrew",
   "metadata": {},
   "outputs": [
    {
     "name": "stdout",
     "output_type": "stream",
     "text": [
      "298.15\n",
      "293.15\n"
     ]
    }
   ],
   "source": [
    "print(T_ar)\n",
    "print(T_viz)"
   ]
  },
  {
   "cell_type": "code",
   "execution_count": 87,
   "id": "positive-republic",
   "metadata": {},
   "outputs": [],
   "source": [
    "T_s = np.linspace(415.9018, 415.9019, num=1000)\n",
    "\n",
    "A = L*m.pi*D+m.pi*D**2/4\n",
    "q_rad = epsilon*sigma*(T_s**4-T_viz**4)\n",
    "q_conv = h*(T_s-T_ar)"
   ]
  },
  {
   "cell_type": "code",
   "execution_count": 88,
   "id": "social-cinema",
   "metadata": {},
   "outputs": [],
   "source": [
    "q_test = A*(q_rad+q_conv)\n",
    "\n",
    "results = []\n",
    "\n",
    "for i in range(len(T_s)):\n",
    "    \n",
    "    error = m.sqrt((q_test[i]-q)**2)\n",
    "    \n",
    "    results.append(error)"
   ]
  },
  {
   "cell_type": "code",
   "execution_count": 89,
   "id": "played-assets",
   "metadata": {},
   "outputs": [
    {
     "data": {
      "text/plain": [
       "0.6554846822982654"
      ]
     },
     "execution_count": 89,
     "metadata": {},
     "output_type": "execute_result"
    }
   ],
   "source": [
    "print(np.min(results))\n",
    "\n",
    "print(T_s[(np.argmin(results))])"
   ]
  },
  {
   "cell_type": "markdown",
   "id": "potential-upset",
   "metadata": {},
   "source": [
    "# Exemplo 1.6"
   ]
  },
  {
   "cell_type": "code",
   "execution_count": 10,
   "id": "rolled-uganda",
   "metadata": {},
   "outputs": [],
   "source": [
    "T_c = celsius_to_kelvin(37)\n",
    "T_i = 308\n",
    "L = 3*10**(-3)\n",
    "k = 0.3\n",
    "A = 1.8\n",
    "epsilon = 0.95\n",
    "T_ar = 297\n",
    "h_ar = 2\n",
    "T_ag = 297\n",
    "h_ag = 200\n",
    "T_viz = 297"
   ]
  },
  {
   "cell_type": "markdown",
   "id": "threaded-feedback",
   "metadata": {},
   "source": [
    ">## Caso 1"
   ]
  },
  {
   "cell_type": "code",
   "execution_count": 11,
   "id": "described-grass",
   "metadata": {},
   "outputs": [],
   "source": [
    "T_s = np.linspace(297, 308, num=100000)"
   ]
  },
  {
   "cell_type": "code",
   "execution_count": 12,
   "id": "tested-sending",
   "metadata": {},
   "outputs": [
    {
     "name": "stdout",
     "output_type": "stream",
     "text": [
      "erro: 5.469404e-03\n",
      "valor aproximado: 307.1907219072191\n"
     ]
    }
   ],
   "source": [
    "q_rad = epsilon*sigma*(T_s**4-T_viz**4)\n",
    "q_conv = h_ar*(T_s-T_ar)\n",
    "q_cond = k*(T_i-T_s)/L\n",
    "\n",
    "q_test = q_cond - q_conv - q_rad\n",
    "\n",
    "results = []\n",
    "\n",
    "for i in range(len(T_s)):\n",
    "    \n",
    "    error = m.sqrt((q_test[i])**2)\n",
    "    \n",
    "    results.append(error)\n",
    "\n",
    "print('erro: {:e}'.format(np.min(results)))\n",
    "print('valor aproximado:',T_s[(np.argmin(results))])"
   ]
  },
  {
   "cell_type": "code",
   "execution_count": 14,
   "id": "modular-china",
   "metadata": {},
   "outputs": [
    {
     "name": "stdout",
     "output_type": "stream",
     "text": [
      "145.6700567005646\n",
      "1.456701e+02\n"
     ]
    }
   ],
   "source": [
    "Q_perda = A * k*(T_i-T_s[(np.argmin(results))])/L\n",
    "print(Q_perda)\n",
    "eng(Q_perda)"
   ]
  },
  {
   "cell_type": "markdown",
   "id": "weighted-administration",
   "metadata": {},
   "source": [
    ">## Caso 2"
   ]
  },
  {
   "cell_type": "code",
   "execution_count": 18,
   "id": "conservative-feedback",
   "metadata": {},
   "outputs": [
    {
     "name": "stdout",
     "output_type": "stream",
     "text": [
      "300.6666666666667\n"
     ]
    }
   ],
   "source": [
    "T_s = ((k/L)*T_i+h_ag*T_ag)/(h_ag+(k/L))\n",
    "print(T_s)"
   ]
  },
  {
   "cell_type": "code",
   "execution_count": 20,
   "id": "finite-signal",
   "metadata": {},
   "outputs": [
    {
     "name": "stdout",
     "output_type": "stream",
     "text": [
      "1319.9999999999968\n"
     ]
    }
   ],
   "source": [
    "Q_perda = A * k*(T_i-T_s)/L\n",
    "print(Q_perda)"
   ]
  },
  {
   "cell_type": "markdown",
   "id": "auburn-brand",
   "metadata": {},
   "source": [
    "# Exercício 1.7"
   ]
  },
  {
   "cell_type": "code",
   "execution_count": 14,
   "id": "quality-school",
   "metadata": {},
   "outputs": [],
   "source": [
    "q_ent = 2500*10**6\n",
    "T_q = 10**3\n",
    "T_f = 300\n",
    "R_tq = 8*10**(-8)\n",
    "R_tf = 2*10**(-8)\n",
    "R_tq2 = 9*10**(-8)\n",
    "R_tf2 = 2.2*10**(-8)"
   ]
  },
  {
   "cell_type": "markdown",
   "id": "soviet-ocean",
   "metadata": {},
   "source": [
    ">## Caso 1"
   ]
  },
  {
   "cell_type": "code",
   "execution_count": 15,
   "id": "potential-issue",
   "metadata": {},
   "outputs": [],
   "source": [
    "R_tot = R_tq + R_tf"
   ]
  },
  {
   "cell_type": "code",
   "execution_count": 16,
   "id": "portable-underground",
   "metadata": {},
   "outputs": [
    {
     "data": {
      "text/plain": [
       "1e-07"
      ]
     },
     "execution_count": 16,
     "metadata": {},
     "output_type": "execute_result"
    }
   ],
   "source": [
    "R_tot"
   ]
  },
  {
   "cell_type": "code",
   "execution_count": 17,
   "id": "pleasant-vaccine",
   "metadata": {},
   "outputs": [],
   "source": [
    "eta_m = 1 - 300/(T_q-(q_ent*R_tot))"
   ]
  },
  {
   "cell_type": "code",
   "execution_count": 18,
   "id": "impressed-accessory",
   "metadata": {},
   "outputs": [
    {
     "data": {
      "text/plain": [
       "0.6"
      ]
     },
     "execution_count": 18,
     "metadata": {},
     "output_type": "execute_result"
    }
   ],
   "source": [
    "eta_m"
   ]
  },
  {
   "cell_type": "code",
   "execution_count": 13,
   "id": "compact-sixth",
   "metadata": {},
   "outputs": [
    {
     "name": "stdout",
     "output_type": "stream",
     "text": [
      "1.500000e+09\n"
     ]
    }
   ],
   "source": [
    "dW_dt = q_ent * eta_m\n",
    "\n",
    "eng(dW_dt)"
   ]
  },
  {
   "cell_type": "markdown",
   "id": "driven-opportunity",
   "metadata": {},
   "source": [
    ">## Caso 2"
   ]
  },
  {
   "cell_type": "code",
   "execution_count": 22,
   "id": "innovative-rebecca",
   "metadata": {},
   "outputs": [
    {
     "name": "stdout",
     "output_type": "stream",
     "text": [
      "1.500000e+09\n"
     ]
    }
   ],
   "source": [
    "R_tot2 = R_tq2 + R_tf2\n",
    "eta_m = 1 - 300/(T_q-(q_ent*R_tot))\n",
    "dW_dt = q_ent * eta_m\n",
    "eng(dW_dt)"
   ]
  },
  {
   "cell_type": "markdown",
   "id": "geographic-substitute",
   "metadata": {},
   "source": [
    "# Exercício 1.8"
   ]
  },
  {
   "cell_type": "code",
   "execution_count": null,
   "id": "scenic-grant",
   "metadata": {},
   "outputs": [],
   "source": []
  }
 ],
 "metadata": {
  "kernelspec": {
   "display_name": "Python 3",
   "language": "python",
   "name": "python3"
  },
  "language_info": {
   "codemirror_mode": {
    "name": "ipython",
    "version": 3
   },
   "file_extension": ".py",
   "mimetype": "text/x-python",
   "name": "python",
   "nbconvert_exporter": "python",
   "pygments_lexer": "ipython3",
   "version": "3.7.6"
  }
 },
 "nbformat": 4,
 "nbformat_minor": 5
}
